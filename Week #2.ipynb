{
 "cells": [
  {
   "cell_type": "code",
   "execution_count": 1,
   "metadata": {
    "scrolled": true
   },
   "outputs": [
    {
     "name": "stdout",
     "output_type": "stream",
     "text": [
      "0 0.1\n",
      "0 0.2\n",
      "0 0.4\n",
      "0 0.8\n",
      "0 1.6\n",
      "0 3.2\n",
      "0 6.4\n",
      "0 12.8\n",
      "0 25.6\n",
      "0 51.2\n",
      "1 0.0975\n",
      "1 0.18549375\n",
      "1 0.3365795687109375\n",
      "1 0.5598733313482344\n",
      "1 0.8062885155414989\n",
      "1 0.9624758607888839\n",
      "1 0.9985919389764648\n",
      "1 0.999998017364154\n",
      "1 0.9999999999960693\n",
      "1 0.9999999999999999\n",
      "2 0.095\n",
      "2 0.17195000000000002\n",
      "2 0.284766395\n",
      "2 0.407348990557408\n",
      "2 0.4828315808985375\n",
      "2 0.4994104907711131\n",
      "2 0.4999993049577381\n",
      "2 0.4999999999990339\n",
      "2 0.5\n",
      "2 0.5\n",
      "3 0.09250000000000001\n",
      "3 0.15933125\n",
      "3 0.24250315832031252\n",
      "3 0.30858297125464534\n",
      "3 0.33149559206425483\n",
      "3 0.33332320145441713\n",
      "3 0.33333333302536844\n",
      "3 0.33333333333333337\n",
      "3 0.33333333333333337\n",
      "3 0.33333333333333337\n",
      "4 0.09000000000000001\n",
      "4 0.1476\n",
      "4 0.20805696\n",
      "4 0.2429631255822336\n",
      "4 0.24980192959371433\n",
      "4 0.24999984307245662\n",
      "4 0.24999999999990152\n",
      "4 0.25\n",
      "4 0.25\n",
      "4 0.25\n",
      "5 0.08750000000000001\n",
      "5 0.13671875\n",
      "5 0.1799774169921875\n",
      "5 0.1979954808484763\n",
      "5 0.19997990951485586\n",
      "5 0.19999999798186202\n",
      "5 0.19999999999999996\n",
      "5 0.2\n",
      "5 0.2\n",
      "5 0.2\n",
      "6 0.085\n",
      "6 0.12665\n",
      "6 0.15705866500000001\n",
      "6 0.16611278449050665\n",
      "6 0.16666482595387624\n",
      "6 0.1666666666463373\n",
      "6 0.16666666666666669\n",
      "6 0.16666666666666669\n",
      "6 0.16666666666666669\n",
      "6 0.16666666666666669\n",
      "7 0.0825\n",
      "7 0.11735625\n",
      "7 0.1383050741015625\n",
      "7 0.14271209354745415\n",
      "7 0.14285699558202716\n",
      "7 0.14285714285699103\n",
      "7 0.14285714285714285\n",
      "7 0.14285714285714285\n",
      "7 0.14285714285714285\n",
      "7 0.14285714285714285\n",
      "8 0.08000000000000002\n",
      "8 0.10880000000000001\n",
      "8 0.12290048\n",
      "8 0.1249647361261568\n",
      "8 0.12499999005167362\n",
      "8 0.12499999999999921\n",
      "8 0.12499999999999999\n",
      "8 0.12499999999999999\n",
      "8 0.12499999999999999\n",
      "8 0.12499999999999999\n",
      "9 0.07750000000000001\n",
      "9 0.10094375\n",
      "9 0.1101807340234375\n",
      "9 0.1111033206973837\n",
      "9 0.11111111056489618\n",
      "9 0.1111111111111111\n",
      "9 0.1111111111111111\n",
      "9 0.1111111111111111\n",
      "9 0.1111111111111111\n",
      "9 0.1111111111111111\n"
     ]
    }
   ],
   "source": [
    "import numpy as np\n",
    "import matplotlib.pyplot as plt\n",
    "\n",
    "x0 = 0.05\n",
    "x_np1 = 0\n",
    "for a0 in range(0,10):\n",
    "    x_n = x0\n",
    "    for i in range(0,10):\n",
    "        \n",
    "        x_n = x_n * (2-a0*x_n)\n",
    "        print(a0, x_n)\n",
    "\n",
    "\n",
    "    "
   ]
  },
  {
   "cell_type": "markdown",
   "metadata": {},
   "source": [
    "### Bisection Method\n"
   ]
  },
  {
   "cell_type": "markdown",
   "metadata": {},
   "source": [
    "$f(x) = x^2 - 2$"
   ]
  },
  {
   "cell_type": "code",
   "execution_count": 57,
   "metadata": {},
   "outputs": [
    {
     "ename": "KeyboardInterrupt",
     "evalue": "",
     "output_type": "error",
     "traceback": [
      "\u001b[0;31m---------------------------------------------------------------------------\u001b[0m",
      "\u001b[0;31mKeyboardInterrupt\u001b[0m                         Traceback (most recent call last)",
      "\u001b[0;32m<ipython-input-57-369fcd3554b5>\u001b[0m in \u001b[0;36m<module>\u001b[0;34m\u001b[0m\n\u001b[1;32m     13\u001b[0m \u001b[0;32mwhile\u001b[0m \u001b[0;32mTrue\u001b[0m\u001b[0;34m:\u001b[0m\u001b[0;34m\u001b[0m\u001b[0;34m\u001b[0m\u001b[0m\n\u001b[1;32m     14\u001b[0m \u001b[0;34m\u001b[0m\u001b[0m\n\u001b[0;32m---> 15\u001b[0;31m     \u001b[0;32mif\u001b[0m \u001b[0mnp\u001b[0m\u001b[0;34m.\u001b[0m\u001b[0msign\u001b[0m\u001b[0;34m(\u001b[0m\u001b[0mf\u001b[0m\u001b[0;34m(\u001b[0m\u001b[0ma\u001b[0m\u001b[0;34m)\u001b[0m\u001b[0;34m)\u001b[0m \u001b[0;34m!=\u001b[0m \u001b[0mnp\u001b[0m\u001b[0;34m.\u001b[0m\u001b[0msign\u001b[0m\u001b[0;34m(\u001b[0m\u001b[0mf\u001b[0m\u001b[0;34m(\u001b[0m\u001b[0mb\u001b[0m\u001b[0;34m)\u001b[0m\u001b[0;34m)\u001b[0m\u001b[0;34m:\u001b[0m\u001b[0;34m\u001b[0m\u001b[0;34m\u001b[0m\u001b[0m\n\u001b[0m\u001b[1;32m     16\u001b[0m         \u001b[0mb\u001b[0m \u001b[0;34m=\u001b[0m \u001b[0mnp\u001b[0m\u001b[0;34m.\u001b[0m\u001b[0mrandom\u001b[0m\u001b[0;34m.\u001b[0m\u001b[0mrandom\u001b[0m\u001b[0;34m(\u001b[0m\u001b[0;34m)\u001b[0m\u001b[0;34m*\u001b[0m\u001b[0;34m(\u001b[0m\u001b[0mnp\u001b[0m\u001b[0;34m.\u001b[0m\u001b[0mabs\u001b[0m\u001b[0;34m(\u001b[0m\u001b[0mf_range\u001b[0m\u001b[0;34m[\u001b[0m\u001b[0;36m1\u001b[0m\u001b[0;34m]\u001b[0m\u001b[0;34m)\u001b[0m \u001b[0;34m-\u001b[0m \u001b[0mnp\u001b[0m\u001b[0;34m.\u001b[0m\u001b[0mabs\u001b[0m\u001b[0;34m(\u001b[0m\u001b[0ma\u001b[0m\u001b[0;34m)\u001b[0m\u001b[0;34m)\u001b[0m \u001b[0;34m+\u001b[0m \u001b[0ma\u001b[0m\u001b[0;34m\u001b[0m\u001b[0;34m\u001b[0m\u001b[0m\n\u001b[1;32m     17\u001b[0m \u001b[0;34m\u001b[0m\u001b[0m\n",
      "\u001b[0;32m<ipython-input-57-369fcd3554b5>\u001b[0m in \u001b[0;36mf\u001b[0;34m(x)\u001b[0m\n\u001b[1;32m      1\u001b[0m \u001b[0;32mdef\u001b[0m \u001b[0mf\u001b[0m\u001b[0;34m(\u001b[0m\u001b[0mx\u001b[0m\u001b[0;34m)\u001b[0m\u001b[0;34m:\u001b[0m\u001b[0;34m\u001b[0m\u001b[0;34m\u001b[0m\u001b[0m\n\u001b[0;32m----> 2\u001b[0;31m     \u001b[0;32mreturn\u001b[0m \u001b[0;34m(\u001b[0m\u001b[0mx\u001b[0m\u001b[0;34m**\u001b[0m\u001b[0;36m2\u001b[0m \u001b[0;34m-\u001b[0m \u001b[0;36m2\u001b[0m\u001b[0;34m)\u001b[0m\u001b[0;34m\u001b[0m\u001b[0;34m\u001b[0m\u001b[0m\n\u001b[0m\u001b[1;32m      3\u001b[0m \u001b[0;34m\u001b[0m\u001b[0m\n\u001b[1;32m      4\u001b[0m \u001b[0mf_range\u001b[0m \u001b[0;34m=\u001b[0m \u001b[0;34m[\u001b[0m\u001b[0;36m0\u001b[0m\u001b[0;34m,\u001b[0m\u001b[0;36m2\u001b[0m\u001b[0;34m]\u001b[0m\u001b[0;34m\u001b[0m\u001b[0;34m\u001b[0m\u001b[0m\n\u001b[1;32m      5\u001b[0m \u001b[0meps\u001b[0m \u001b[0;34m=\u001b[0m \u001b[0;36m10e-4\u001b[0m\u001b[0;34m\u001b[0m\u001b[0;34m\u001b[0m\u001b[0m\n",
      "\u001b[0;31mKeyboardInterrupt\u001b[0m: "
     ]
    }
   ],
   "source": [
    "def f(x):\n",
    "    return (x**2 - 2)\n",
    "\n",
    "f_range = [0,2]\n",
    "eps = 10e-4\n",
    "step = 0\n",
    "\n",
    "a = 0\n",
    "b = 2\n",
    "c = 0\n",
    "delta = b-a\n",
    "\n",
    "while True:\n",
    "    \n",
    "    if np.sign(f(a)) != np.sign(f(b)):\n",
    "        b = np.random.random()*(np.abs(f_range[1]) - np.abs(a)) + a\n",
    "    \n",
    "        c = (a+b)/2\n",
    "\n",
    "        if np.sign(f(a)) != np.sign(f(c)):\n",
    "            b = c\n",
    "            delta = b-a\n",
    "\n",
    "        else:\n",
    "            a = c\n",
    "\n",
    "\n",
    "        if delta < eps:\n",
    "            break\n",
    "\n",
    "        step+=1\n",
    "    \n",
    "print(step)\n",
    "\n",
    "\n",
    "    "
   ]
  },
  {
   "cell_type": "code",
   "execution_count": 54,
   "metadata": {},
   "outputs": [
    {
     "name": "stdout",
     "output_type": "stream",
     "text": [
      "3.1902041355017006\n"
     ]
    }
   ],
   "source": []
  },
  {
   "cell_type": "code",
   "execution_count": 45,
   "metadata": {},
   "outputs": [
    {
     "data": {
      "text/plain": [
       "4"
      ]
     },
     "execution_count": 45,
     "metadata": {},
     "output_type": "execute_result"
    }
   ],
   "source": []
  },
  {
   "cell_type": "code",
   "execution_count": null,
   "metadata": {},
   "outputs": [],
   "source": []
  }
 ],
 "metadata": {
  "kernelspec": {
   "display_name": "Python 3",
   "language": "python",
   "name": "python3"
  },
  "language_info": {
   "codemirror_mode": {
    "name": "ipython",
    "version": 3
   },
   "file_extension": ".py",
   "mimetype": "text/x-python",
   "name": "python",
   "nbconvert_exporter": "python",
   "pygments_lexer": "ipython3",
   "version": "3.8.5"
  }
 },
 "nbformat": 4,
 "nbformat_minor": 4
}
