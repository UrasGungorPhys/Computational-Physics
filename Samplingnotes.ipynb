{
 "cells": [
  {
   "cell_type": "markdown",
   "metadata": {},
   "source": [
    "# Monte Carlo Integration & Sampling\n",
    "$\\newcommand{\\diff}{\\text{d}}\n",
    "\\newcommand{\\dydx}[2]{\\frac{\\text{d}#1}{\\text{d}#2}}\n",
    "\\newcommand{\\ddydx}[2]{\\frac{\\text{d}^2#1}{\\text{d}#2^2}}\n",
    "\\newcommand{\\pypx}[2]{\\frac{\\partial#1}{\\partial#2}}\n",
    "\\newcommand{\\unit}[1]{\\,\\text{#1}}$"
   ]
  },
  {
   "cell_type": "code",
   "execution_count": 1,
   "metadata": {},
   "outputs": [],
   "source": [
    "import numpy as np\n",
    "import matplotlib.pyplot as plt\n",
    "np.random.seed(468)"
   ]
  },
  {
   "cell_type": "code",
   "execution_count": 2,
   "metadata": {},
   "outputs": [
    {
     "data": {
      "text/plain": [
       "array([[-0.79125907,  0.08830875],\n",
       "       [ 0.69512307, -0.67292845],\n",
       "       [-0.51923641,  0.50062517],\n",
       "       [ 0.92362063,  0.84781247],\n",
       "       [-0.23315189, -0.59935799],\n",
       "       [ 0.79140228,  0.73753285],\n",
       "       [ 0.19889926, -0.16630307],\n",
       "       [-0.11887981, -0.08854747],\n",
       "       [-0.9375523 , -0.45974256],\n",
       "       [ 0.75020242, -0.95104945]])"
      ]
     },
     "execution_count": 2,
     "metadata": {},
     "output_type": "execute_result"
    }
   ],
   "source": [
    "N = 10\n",
    "points = np.random.rand(N,2)*2-1\n",
    "points"
   ]
  },
  {
   "cell_type": "code",
   "execution_count": 3,
   "metadata": {},
   "outputs": [
    {
     "data": {
      "text/plain": [
       "array([0.79617168, 0.9674858 , 0.72127111, 1.25373883, 0.64310948,\n",
       "       1.08179123, 0.25926362, 0.14823314, 1.04420666, 1.21132107])"
      ]
     },
     "execution_count": 3,
     "metadata": {},
     "output_type": "execute_result"
    }
   ],
   "source": [
    "d = np.sqrt(points[:,0]**2 + points[:,1]**2)\n",
    "d"
   ]
  },
  {
   "cell_type": "code",
   "execution_count": 4,
   "metadata": {},
   "outputs": [
    {
     "data": {
      "text/plain": [
       "0.8385574195695393"
      ]
     },
     "execution_count": 4,
     "metadata": {},
     "output_type": "execute_result"
    }
   ],
   "source": [
    "np.sqrt(0.80869194**2+(-0.22180147)**2)"
   ]
  },
  {
   "cell_type": "code",
   "execution_count": 5,
   "metadata": {},
   "outputs": [
    {
     "data": {
      "text/plain": [
       "array([[-0.79125907,  0.08830875,  0.79617168],\n",
       "       [ 0.69512307, -0.67292845,  0.9674858 ],\n",
       "       [-0.51923641,  0.50062517,  0.72127111],\n",
       "       [ 0.92362063,  0.84781247,  1.25373883],\n",
       "       [-0.23315189, -0.59935799,  0.64310948],\n",
       "       [ 0.79140228,  0.73753285,  1.08179123],\n",
       "       [ 0.19889926, -0.16630307,  0.25926362],\n",
       "       [-0.11887981, -0.08854747,  0.14823314],\n",
       "       [-0.9375523 , -0.45974256,  1.04420666],\n",
       "       [ 0.75020242, -0.95104945,  1.21132107]])"
      ]
     },
     "execution_count": 5,
     "metadata": {},
     "output_type": "execute_result"
    }
   ],
   "source": [
    "points = np.c_[points,d]\n",
    "points"
   ]
  },
  {
   "cell_type": "code",
   "execution_count": 6,
   "metadata": {},
   "outputs": [
    {
     "data": {
      "text/plain": [
       "array([[-0.79125907,  0.08830875,  0.79617168,  1.        ],\n",
       "       [ 0.69512307, -0.67292845,  0.9674858 ,  1.        ],\n",
       "       [-0.51923641,  0.50062517,  0.72127111,  1.        ],\n",
       "       [ 0.92362063,  0.84781247,  1.25373883,  1.        ],\n",
       "       [-0.23315189, -0.59935799,  0.64310948,  1.        ],\n",
       "       [ 0.79140228,  0.73753285,  1.08179123,  1.        ],\n",
       "       [ 0.19889926, -0.16630307,  0.25926362,  1.        ],\n",
       "       [-0.11887981, -0.08854747,  0.14823314,  1.        ],\n",
       "       [-0.9375523 , -0.45974256,  1.04420666,  1.        ],\n",
       "       [ 0.75020242, -0.95104945,  1.21132107,  1.        ]])"
      ]
     },
     "execution_count": 6,
     "metadata": {},
     "output_type": "execute_result"
    }
   ],
   "source": [
    "points = np.c_[points,np.ones((N,1))]\n",
    "points"
   ]
  },
  {
   "cell_type": "code",
   "execution_count": 7,
   "metadata": {},
   "outputs": [
    {
     "data": {
      "text/plain": [
       "array([[-0.79125907,  0.08830875,  0.79617168,  1.        ],\n",
       "       [ 0.69512307, -0.67292845,  0.9674858 ,  1.        ],\n",
       "       [-0.51923641,  0.50062517,  0.72127111,  1.        ],\n",
       "       [ 0.92362063,  0.84781247,  1.25373883,  0.        ],\n",
       "       [-0.23315189, -0.59935799,  0.64310948,  1.        ],\n",
       "       [ 0.79140228,  0.73753285,  1.08179123,  0.        ],\n",
       "       [ 0.19889926, -0.16630307,  0.25926362,  1.        ],\n",
       "       [-0.11887981, -0.08854747,  0.14823314,  1.        ],\n",
       "       [-0.9375523 , -0.45974256,  1.04420666,  0.        ],\n",
       "       [ 0.75020242, -0.95104945,  1.21132107,  0.        ]])"
      ]
     },
     "execution_count": 7,
     "metadata": {},
     "output_type": "execute_result"
    }
   ],
   "source": [
    "points[points[:,2]>1,3] = 0\n",
    "points"
   ]
  },
  {
   "cell_type": "code",
   "execution_count": 8,
   "metadata": {},
   "outputs": [
    {
     "name": "stdout",
     "output_type": "stream",
     "text": [
      "Pi estimated:    2.40000000\t(N = 10)\n"
     ]
    }
   ],
   "source": [
    "N_circle = np.sum(points[:,3])\n",
    "P_circle = N_circle/N\n",
    "pi_est = 4*P_circle\n",
    "print(\"Pi estimated: {:13.8f}\\t(N = {:d})\".format(pi_est,N))"
   ]
  },
  {
   "cell_type": "code",
   "execution_count": 9,
   "metadata": {},
   "outputs": [],
   "source": [
    "def est_pi(N):\n",
    "    N = int(N)\n",
    "    points = np.random.rand(N,2)*2-1\n",
    "    d = np.sqrt(points[:,0]**2 + points[:,1]**2)\n",
    "    points = np.c_[points,d]\n",
    "    points = np.c_[points,np.ones((N,1))]\n",
    "    points[points[:,2]>1,3] = 0\n",
    "    N_circle = np.sum(points[:,3])\n",
    "    P_circle = N_circle/N\n",
    "    pi_est = 4*P_circle\n",
    "    return pi_est"
   ]
  },
  {
   "cell_type": "code",
   "execution_count": 10,
   "metadata": {},
   "outputs": [
    {
     "data": {
      "text/plain": [
       "3.140468"
      ]
     },
     "execution_count": 10,
     "metadata": {},
     "output_type": "execute_result"
    }
   ],
   "source": [
    "est_pi(1E6)"
   ]
  },
  {
   "cell_type": "code",
   "execution_count": 12,
   "metadata": {},
   "outputs": [
    {
     "data": {
      "image/png": "[encoded data removed]",
      "text/plain": [
       "<Figure size 432x288 with 1 Axes>"
      ]
     },
     "metadata": {
      "needs_background": "light"
     },
     "output_type": "display_data"
    }
   ],
   "source": [
    "NN = np.linspace(10,1E6,10)\n",
    "pis = np.array([])\n",
    "for N_ in NN:\n",
    "    pis = np.append(pis,est_pi(N_))\n",
    "\n",
    "plt.plot(NN,pis,\"o-\")\n",
    "plt.show()"
   ]
  },
  {
   "cell_type": "code",
   "execution_count": 13,
   "metadata": {},
   "outputs": [
    {
     "data": {
      "text/plain": [
       "array([1.0000e+01, 1.1112e+05, 2.2223e+05, 3.3334e+05, 4.4445e+05,\n",
       "       5.5556e+05, 6.6667e+05, 7.7778e+05, 8.8889e+05, 1.0000e+06])"
      ]
     },
     "execution_count": 13,
     "metadata": {},
     "output_type": "execute_result"
    }
   ],
   "source": [
    "NN"
   ]
  },
  {
   "cell_type": "code",
   "execution_count": 14,
   "metadata": {},
   "outputs": [
    {
     "data": {
      "text/plain": [
       "array([2.4       , 3.15194384, 3.14479593, 3.14646907, 3.14122173,\n",
       "       3.13988048, 3.1398503 , 3.14223559, 3.14118057, 3.144104  ])"
      ]
     },
     "execution_count": 14,
     "metadata": {},
     "output_type": "execute_result"
    }
   ],
   "source": [
    "pis"
   ]
  },
  {
   "cell_type": "code",
   "execution_count": 15,
   "metadata": {},
   "outputs": [
    {
     "data": {
      "image/png": "[encoded data removed]",
      "text/plain": [
       "<Figure size 432x288 with 1 Axes>"
      ]
     },
     "metadata": {
      "needs_background": "light"
     },
     "output_type": "display_data"
    }
   ],
   "source": [
    "plt.plot(NN,pis,\"o-\")\n",
    "plt.show()"
   ]
  },
  {
   "cell_type": "markdown",
   "metadata": {},
   "source": [
    "# Example:\n",
    "$$f(x) = \\frac{1}{\\tan(x)+4\\sin^2(x)}, \\;I =\\int_{0.5}^{1.8}{f(x)dx}$$\n",
    "\n",
    "$$-2.1<f(x)<0.7,\\;f(1.5708)= 0$$"
   ]
  },
  {
   "cell_type": "code",
   "execution_count": 16,
   "metadata": {},
   "outputs": [],
   "source": [
    "def f(x):\n",
    "    return 1/(np.tan(x)+4*np.sin(x)**2)"
   ]
  },
  {
   "cell_type": "code",
   "execution_count": 36,
   "metadata": {},
   "outputs": [
    {
     "data": {
      "text/plain": [
       "-2.0294479309468803"
      ]
     },
     "execution_count": 36,
     "metadata": {},
     "output_type": "execute_result"
    }
   ],
   "source": [
    "f(1.8)"
   ]
  },
  {
   "cell_type": "code",
   "execution_count": 27,
   "metadata": {},
   "outputs": [
    {
     "data": {
      "image/png": "[encoded data removed]",
      "text/plain": [
       "<Figure size 432x288 with 1 Axes>"
      ]
     },
     "metadata": {
      "needs_background": "light"
     },
     "output_type": "display_data"
    }
   ],
   "source": [
    "x = np.linspace(0.4,1.81,100)\n",
    "plt.plot(x,f(x),\"-b\")\n",
    "plt.plot(x,np.zeros(x.shape),\"--r\")\n",
    "plt.plot(1.5708,f(1.5708),\"ro\")\n",
    "plt.show()"
   ]
  },
  {
   "cell_type": "code",
   "execution_count": 19,
   "metadata": {},
   "outputs": [],
   "source": [
    "import scipy.optimize as opt"
   ]
  },
  {
   "cell_type": "code",
   "execution_count": 20,
   "metadata": {},
   "outputs": [
    {
     "data": {
      "text/plain": [
       "array([1.57079633])"
      ]
     },
     "execution_count": 20,
     "metadata": {},
     "output_type": "execute_result"
    }
   ],
   "source": [
    "opt.fsolve(f,1.)"
   ]
  },
  {
   "cell_type": "code",
   "execution_count": 21,
   "metadata": {},
   "outputs": [
    {
     "data": {
      "text/plain": [
       "-3.2051034957825927e-09"
      ]
     },
     "execution_count": 21,
     "metadata": {},
     "output_type": "execute_result"
    }
   ],
   "source": [
    "f(1.57079633)"
   ]
  },
  {
   "cell_type": "code",
   "execution_count": 22,
   "metadata": {},
   "outputs": [
    {
     "data": {
      "text/plain": [
       "    fjac: array([[-1.]])\n",
       "     fun: array([-4.21272426e-14])\n",
       " message: 'The solution converged.'\n",
       "    nfev: 10\n",
       "     qtf: array([-3.17074458e-09])\n",
       "       r: array([0.99998669])\n",
       "  status: 1\n",
       " success: True\n",
       "       x: array([1.57079633])"
      ]
     },
     "execution_count": 22,
     "metadata": {},
     "output_type": "execute_result"
    }
   ],
   "source": [
    "opt.root(f,1.)"
   ]
  },
  {
   "cell_type": "code",
   "execution_count": 29,
   "metadata": {},
   "outputs": [],
   "source": [
    "import scipy.integrate as integrate"
   ]
  },
  {
   "cell_type": "code",
   "execution_count": 32,
   "metadata": {},
   "outputs": [
    {
     "name": "stdout",
     "output_type": "stream",
     "text": [
      "0.27076840668494534\n"
     ]
    }
   ],
   "source": [
    "S1 = integrate.quad(f,0.5,1.5708)[0]\n",
    "print(S1)"
   ]
  },
  {
   "cell_type": "code",
   "execution_count": 33,
   "metadata": {},
   "outputs": [
    {
     "name": "stdout",
     "output_type": "stream",
     "text": [
      "-0.0886835434773679\n"
     ]
    }
   ],
   "source": [
    "S2 = integrate.quad(f,1.5708,1.8)[0]\n",
    "print(S2)"
   ]
  },
  {
   "cell_type": "code",
   "execution_count": 35,
   "metadata": {},
   "outputs": [
    {
     "name": "stdout",
     "output_type": "stream",
     "text": [
      "0.18208486320757578\n"
     ]
    }
   ],
   "source": [
    "S = integrate.quad(f,0.5,1.8)[0]\n",
    "print(S)"
   ]
  },
  {
   "cell_type": "code",
   "execution_count": 47,
   "metadata": {},
   "outputs": [
    {
     "data": {
      "image/png": "[encoded data removed]",
      "text/plain": [
       "<Figure size 432x288 with 1 Axes>"
      ]
     },
     "metadata": {
      "needs_background": "light"
     },
     "output_type": "display_data"
    },
    {
     "data": {
      "image/png": "[encoded data removed]",
      "text/plain": [
       "<Figure size 432x288 with 1 Axes>"
      ]
     },
     "metadata": {
      "needs_background": "light"
     },
     "output_type": "display_data"
    }
   ],
   "source": [
    "N = 100\n",
    "x_root = 1.5708\n",
    "x_i = 0.5\n",
    "x_f = 1.8\n",
    "x_min, x_max = (x_i,x_root)\n",
    "delta_x = np.abs(x_min-x_max)\n",
    "x = np.random.rand(N)*delta_x + x_min\n",
    "\n",
    "y_min, y_max = (-2.1,0.7)\n",
    "delta_y = np.abs(y_min-y_max)\n",
    "y = np.random.rand(N)*delta_y + y_min\n",
    "\n",
    "plt.hist(x)\n",
    "plt.show()\n",
    "\n",
    "plt.hist(y)\n",
    "plt.show()"
   ]
  },
  {
   "cell_type": "code",
   "execution_count": 48,
   "metadata": {},
   "outputs": [],
   "source": [
    "points = np.c_[x,y]"
   ]
  },
  {
   "cell_type": "code",
   "execution_count": 54,
   "metadata": {},
   "outputs": [
    {
     "data": {
      "image/png": "[encoded data removed]",
      "text/plain": [
       "<Figure size 432x288 with 1 Axes>"
      ]
     },
     "metadata": {
      "needs_background": "light"
     },
     "output_type": "display_data"
    }
   ],
   "source": [
    "plt.plot(points[:,0],points[:,1],\"rx\")\n",
    "xx = np.linspace(x_min,x_max,2*N)\n",
    "yy = f(xx)\n",
    "plt.plot(xx,yy,\"b-\")\n",
    "plt.plot(xx,np.zeros(xx.size),\"b-\")\n",
    "plt.show()"
   ]
  },
  {
   "cell_type": "code",
   "execution_count": 62,
   "metadata": {},
   "outputs": [
    {
     "name": "stdout",
     "output_type": "stream",
     "text": [
      "2.9982399999999996\n"
     ]
    }
   ],
   "source": [
    "S_R = delta_x * delta_y # Area of the rectangle\n",
    "print(S_R)"
   ]
  },
  {
   "cell_type": "code",
   "execution_count": 56,
   "metadata": {},
   "outputs": [
    {
     "data": {
      "text/plain": [
       "array([[ 1.26640385, -1.39654576],\n",
       "       [ 1.0984341 , -0.78133422],\n",
       "       [ 1.43439824,  0.3124546 ],\n",
       "       [ 1.31595269, -0.45022902],\n",
       "       [ 1.2563598 , -1.9278354 ],\n",
       "       [ 0.93226781,  0.54777966],\n",
       "       [ 0.92165548, -0.12855011],\n",
       "       [ 0.8558665 ,  0.17928443],\n",
       "       [ 1.4063798 , -0.79683845],\n",
       "       [ 1.47606375,  0.24857841]])"
      ]
     },
     "execution_count": 56,
     "metadata": {},
     "output_type": "execute_result"
    }
   ],
   "source": [
    "points[:10,:]"
   ]
  },
  {
   "cell_type": "code",
   "execution_count": 57,
   "metadata": {},
   "outputs": [
    {
     "data": {
      "text/plain": [
       "array([[ 1.26640385, -1.39654576,  0.14654542],\n",
       "       [ 1.0984341 , -0.78133422,  0.1949658 ],\n",
       "       [ 1.43439824,  0.3124546 ,  0.08919014],\n",
       "       [ 1.31595269, -0.45022902,  0.1318487 ],\n",
       "       [ 1.2563598 , -1.9278354 ,  0.14942849],\n",
       "       [ 0.93226781,  0.54777966,  0.25469238],\n",
       "       [ 0.92165548, -0.12855011,  0.25932988],\n",
       "       [ 0.8558665 ,  0.17928443,  0.2913046 ],\n",
       "       [ 1.4063798 , -0.79683845,  0.10080595],\n",
       "       [ 1.47606375,  0.24857841,  0.06901957]])"
      ]
     },
     "execution_count": 57,
     "metadata": {},
     "output_type": "execute_result"
    }
   ],
   "source": [
    "points = np.c_[points,f(points[:,0])]\n",
    "points[:10,:]"
   ]
  },
  {
   "cell_type": "code",
   "execution_count": 58,
   "metadata": {},
   "outputs": [
    {
     "data": {
      "text/plain": [
       "array([[ 1.26640385, -1.39654576,  0.14654542,  1.        ],\n",
       "       [ 1.0984341 , -0.78133422,  0.1949658 ,  1.        ],\n",
       "       [ 1.43439824,  0.3124546 ,  0.08919014,  1.        ],\n",
       "       [ 1.31595269, -0.45022902,  0.1318487 ,  1.        ],\n",
       "       [ 1.2563598 , -1.9278354 ,  0.14942849,  1.        ],\n",
       "       [ 0.93226781,  0.54777966,  0.25469238,  1.        ],\n",
       "       [ 0.92165548, -0.12855011,  0.25932988,  1.        ],\n",
       "       [ 0.8558665 ,  0.17928443,  0.2913046 ,  1.        ],\n",
       "       [ 1.4063798 , -0.79683845,  0.10080595,  1.        ],\n",
       "       [ 1.47606375,  0.24857841,  0.06901957,  1.        ]])"
      ]
     },
     "execution_count": 58,
     "metadata": {},
     "output_type": "execute_result"
    }
   ],
   "source": [
    "points = np.c_[points,np.ones(points.shape[0])]\n",
    "points[:10,:]"
   ]
  },
  {
   "cell_type": "code",
   "execution_count": 59,
   "metadata": {},
   "outputs": [
    {
     "data": {
      "text/plain": [
       "array([[ 1.26640385, -1.39654576,  0.14654542,  1.        ],\n",
       "       [ 1.0984341 , -0.78133422,  0.1949658 ,  1.        ],\n",
       "       [ 1.43439824,  0.3124546 ,  0.08919014,  0.        ],\n",
       "       [ 1.31595269, -0.45022902,  0.1318487 ,  1.        ],\n",
       "       [ 1.2563598 , -1.9278354 ,  0.14942849,  1.        ],\n",
       "       [ 0.93226781,  0.54777966,  0.25469238,  0.        ],\n",
       "       [ 0.92165548, -0.12855011,  0.25932988,  1.        ],\n",
       "       [ 0.8558665 ,  0.17928443,  0.2913046 ,  1.        ],\n",
       "       [ 1.4063798 , -0.79683845,  0.10080595,  1.        ],\n",
       "       [ 1.47606375,  0.24857841,  0.06901957,  0.        ]])"
      ]
     },
     "execution_count": 59,
     "metadata": {},
     "output_type": "execute_result"
    }
   ],
   "source": [
    "points[points[:,1]>points[:,2],3] = 0\n",
    "points[:10,:]"
   ]
  },
  {
   "cell_type": "code",
   "execution_count": 60,
   "metadata": {},
   "outputs": [
    {
     "data": {
      "text/plain": [
       "array([[ 1.26640385, -1.39654576,  0.14654542,  0.        ],\n",
       "       [ 1.0984341 , -0.78133422,  0.1949658 ,  0.        ],\n",
       "       [ 1.43439824,  0.3124546 ,  0.08919014,  0.        ],\n",
       "       [ 1.31595269, -0.45022902,  0.1318487 ,  0.        ],\n",
       "       [ 1.2563598 , -1.9278354 ,  0.14942849,  0.        ],\n",
       "       [ 0.93226781,  0.54777966,  0.25469238,  0.        ],\n",
       "       [ 0.92165548, -0.12855011,  0.25932988,  0.        ],\n",
       "       [ 0.8558665 ,  0.17928443,  0.2913046 ,  1.        ],\n",
       "       [ 1.4063798 , -0.79683845,  0.10080595,  0.        ],\n",
       "       [ 1.47606375,  0.24857841,  0.06901957,  0.        ]])"
      ]
     },
     "execution_count": 60,
     "metadata": {},
     "output_type": "execute_result"
    }
   ],
   "source": [
    "points[points[:,1]<0,3] = 0\n",
    "points[:10,:]"
   ]
  },
  {
   "cell_type": "code",
   "execution_count": 61,
   "metadata": {},
   "outputs": [
    {
     "name": "stdout",
     "output_type": "stream",
     "text": [
      "10.0\n"
     ]
    }
   ],
   "source": [
    "n_inside = np.sum(points[:,3])\n",
    "print(n_inside)"
   ]
  },
  {
   "cell_type": "code",
   "execution_count": 69,
   "metadata": {},
   "outputs": [
    {
     "name": "stdout",
     "output_type": "stream",
     "text": [
      "Estimated integral:      0.29982400\n",
      "Percentage Error: 10.730791553855%\n"
     ]
    }
   ],
   "source": [
    "I = S_R * n_inside / N\n",
    "print(\"Estimated integral: {:15.8f}\".format(I))\n",
    "print(\"Percentage Error: {:.12f}%\".format((I-S1)/S1*100))"
   ]
  },
  {
   "cell_type": "code",
   "execution_count": 78,
   "metadata": {},
   "outputs": [
    {
     "data": {
      "image/png": "[encoded data removed]",
      "text/plain": [
       "<Figure size 432x288 with 1 Axes>"
      ]
     },
     "metadata": {
      "needs_background": "light"
     },
     "output_type": "display_data"
    },
    {
     "name": "stdout",
     "output_type": "stream",
     "text": [
      "Estimated integral:      0.27045624\n",
      "Percentage Error: -0.115289478846%\n"
     ]
    }
   ],
   "source": [
    "N = 100000\n",
    "x_root = 1.5708\n",
    "x_i = 0.5\n",
    "x_f = 1.8\n",
    "x_min, x_max = (x_i,x_root)\n",
    "delta_x = np.abs(x_min-x_max)\n",
    "x = np.random.rand(N)*delta_x + x_min\n",
    "\n",
    "#y_min, y_max = (-2.1,0.7)\n",
    "y_min, y_max = (0,0.7)\n",
    "delta_y = np.abs(y_min-y_max)\n",
    "y = np.random.rand(N)*delta_y + y_min\n",
    "\n",
    "#plt.hist(x)\n",
    "#plt.show()\n",
    "#plt.hist(y)\n",
    "#plt.show()\n",
    "\n",
    "\n",
    "points = np.c_[x,y]\n",
    "\n",
    "plt.plot(points[:,0],points[:,1],\"rx\")\n",
    "xx = np.linspace(x_min,x_max,2*N)\n",
    "yy = f(xx)\n",
    "plt.plot(xx,yy,\"b-\")\n",
    "plt.plot(xx,np.zeros(xx.size),\"b-\")\n",
    "plt.show()\n",
    "\n",
    "S_R = delta_x * delta_y # Area of the rectangle\n",
    "\n",
    "points = np.c_[points,f(points[:,0])]\n",
    "points = np.c_[points,np.ones(points.shape[0])]\n",
    "points[points[:,1]>points[:,2],3] = 0\n",
    "points[points[:,1]<0,3] = 0\n",
    "n_inside = np.sum(points[:,3])\n",
    "\n",
    "I = S_R * n_inside / N\n",
    "print(\"Estimated integral: {:15.8f}\".format(I))\n",
    "print(\"Percentage Error: {:.12f}%\".format((I-S1)/S1*100))"
   ]
  },
  {
   "cell_type": "code",
   "execution_count": 79,
   "metadata": {},
   "outputs": [
    {
     "data": {
      "image/png": "[encoded data removed]",
      "text/plain": [
       "<Figure size 432x288 with 1 Axes>"
      ]
     },
     "metadata": {
      "needs_background": "light"
     },
     "output_type": "display_data"
    }
   ],
   "source": [
    "xx = np.linspace(0.5,x_root,100)\n",
    "plt.plot(xx,f(xx),\"b-\")\n",
    "plt.show()"
   ]
  },
  {
   "cell_type": "markdown",
   "metadata": {},
   "source": [
    "# Gaussian / Normal Function"
   ]
  },
  {
   "cell_type": "code",
   "execution_count": 84,
   "metadata": {},
   "outputs": [],
   "source": [
    "def g(x):\n",
    "    return np.exp(-(x-5)**2/(2*1**2))"
   ]
  },
  {
   "cell_type": "code",
   "execution_count": 81,
   "metadata": {},
   "outputs": [
    {
     "data": {
      "image/png": "[encoded data removed]",
      "text/plain": [
       "<Figure size 432x288 with 1 Axes>"
      ]
     },
     "metadata": {
      "needs_background": "light"
     },
     "output_type": "display_data"
    }
   ],
   "source": [
    "x = np.linspace(-20,20,100)\n",
    "y = g(x,5,1)\n",
    "plt.plot(x,y,\"r-\")\n",
    "plt.show()"
   ]
  },
  {
   "cell_type": "code",
   "execution_count": 87,
   "metadata": {},
   "outputs": [
    {
     "name": "stdout",
     "output_type": "stream",
     "text": [
      "(2.5066282746310007, 2.1735053137514075e-09)\n"
     ]
    }
   ],
   "source": [
    "I = integrate.quad(g,-20,20)\n",
    "print(I)"
   ]
  },
  {
   "cell_type": "code",
   "execution_count": 88,
   "metadata": {},
   "outputs": [
    {
     "data": {
      "text/plain": [
       "array([1.00000000e+00, 8.67103166e-10])"
      ]
     },
     "execution_count": 88,
     "metadata": {},
     "output_type": "execute_result"
    }
   ],
   "source": [
    "I/np.sqrt(2*np.pi*1**2)"
   ]
  },
  {
   "cell_type": "markdown",
   "metadata": {},
   "source": [
    "# Sampling\n",
    "$$P(x) = P^*(x)/Z$$\n",
    "\n",
    "$$Z=\\int{\\diff^NxP^*(x)}$$\n",
    "\n",
    "$$P^*(x)=\\exp[0.4(x-0.4)^2-0.08x^4],\\;x\\in(-\\infty,\\infty)$$"
   ]
  },
  {
   "cell_type": "markdown",
   "metadata": {},
   "source": [
    "## Uniform Sampling\n",
    "$$Z_R = \\sum_{r=1}^{R}{P^*(x^{(r)})}$$\n",
    "$$\\hat\\Phi=\\sum_{r=1}^{R}{\\phi(x^{(r)})\\frac{P^*(x^{(r)})}{Z_R}}$$"
   ]
  },
  {
   "cell_type": "markdown",
   "metadata": {},
   "source": [
    "## Importance Sampling\n",
    "\n",
    "$$P(x)=P^*(x)/Z$$\n",
    "\n",
    "![image.png](images/MC_Integration_1.png)\n",
    "\n",
    "$$Q(x)=Q^*(x)/Z_Q$$\n",
    "\n",
    "$$\\omega_r \\equiv \\frac{P^*(x^{(r)})}{Q^*(x^{(r)})}$$\n",
    "\n",
    "$$\\hat\\Phi \\equiv = \\frac{\\sum_r{\\omega_r\\phi(x^{(r)})}}{\\sum_r{\\omega_r}}$$"
   ]
  },
  {
   "cell_type": "markdown",
   "metadata": {},
   "source": [
    "## Rejection Sampling\n",
    "\n",
    "![image.png](images/MC_Integration_2.png)\n",
    "\n",
    "$$cQ^*(x)>P^*(x),\\,\\text{for all x}$$"
   ]
  },
  {
   "cell_type": "markdown",
   "metadata": {},
   "source": [
    "## Metropolis-Hastings Method\n",
    "\n",
    "![image.png](images/MC_Integration_3.png)\n",
    "\n",
    "1. Use $Q(x';x^{(t)})$ to propose candidate\n",
    "2. Calculate: \n",
    "  \n",
    "$$a = \\frac{P^*(x')}{P^*(x^{(t)})}\\frac{Q(x^{(t)};x')}{Q(x';x^{(t)})}$$\n",
    "\n",
    "3. If $a\\ge1$, the new state is accepted  \n",
    "Otherwise, the new state is accepted with probability $a$.\n",
    "\n",
    "If the step is accepted, we set $x^{(t+1)} = x'$.  \n",
    "If the step is rejected, then we set $x^{(t+1)} = x^{(t)}$.\n",
    "\n",
    "\n",
    "_Remark: The Metropolis-Hastings method is widely used for high-dimensional problems._"
   ]
  },
  {
   "cell_type": "markdown",
   "metadata": {},
   "source": [
    "**References**\n",
    "* David MacKay, \"Information Theory, Inference, and Learning Algorithms\" Chp. 29 ([Online Book](https://www.inference.org.uk/itila/))"
   ]
  },
  {
   "cell_type": "code",
   "execution_count": 2,
   "metadata": {},
   "outputs": [],
   "source": [
    "import numpy as np\n",
    "import matplotlib.pyplot as plt"
   ]
  },
  {
   "cell_type": "markdown",
   "metadata": {},
   "source": [
    "## Drawing from a uniform distribution"
   ]
  },
  {
   "cell_type": "code",
   "execution_count": 11,
   "metadata": {
    "scrolled": true
   },
   "outputs": [
    {
     "data": {
      "image/png": "[encoded data removed]",
      "text/plain": [
       "<Figure size 432x288 with 1 Axes>"
      ]
     },
     "metadata": {
      "needs_background": "light"
     },
     "output_type": "display_data"
    }
   ],
   "source": [
    "x = np.array([1,2,3,4,5,6])\n",
    "plt.bar(x,1/6)\n",
    "plt.show()\n"
   ]
  },
  {
   "cell_type": "code",
   "execution_count": 40,
   "metadata": {},
   "outputs": [],
   "source": [
    "x = np.random.randint(1,7,30000)"
   ]
  },
  {
   "cell_type": "code",
   "execution_count": 41,
   "metadata": {},
   "outputs": [
    {
     "data": {
      "image/png": "[encoded data removed]",
      "text/plain": [
       "<Figure size 432x288 with 1 Axes>"
      ]
     },
     "metadata": {
      "needs_background": "light"
     },
     "output_type": "display_data"
    }
   ],
   "source": [
    "plt.hist(x,align=\"left\",bins=range(1,8),width=0.8)\n",
    "plt.show()\n"
   ]
  },
  {
   "cell_type": "code",
   "execution_count": 42,
   "metadata": {},
   "outputs": [
    {
     "name": "stdout",
     "output_type": "stream",
     "text": [
      "# of 1 : 5051\n",
      "# of 2 : 4964\n",
      "# of 3 : 5006\n",
      "# of 4 : 5043\n",
      "# of 5 : 4940\n",
      "# of 6 : 4996\n"
     ]
    }
   ],
   "source": [
    "for i in range(1,7):\n",
    "    print (\"# of {:d} : {:d}\".format(i,np.sum(x == i)))"
   ]
  },
  {
   "cell_type": "markdown",
   "metadata": {},
   "source": [
    "## Drawing from a non-uniform distribution"
   ]
  },
  {
   "cell_type": "code",
   "execution_count": 62,
   "metadata": {},
   "outputs": [
    {
     "data": {
      "image/png": "[encoded data removed]",
      "text/plain": [
       "<Figure size 432x288 with 1 Axes>"
      ]
     },
     "metadata": {
      "needs_background": "light"
     },
     "output_type": "display_data"
    }
   ],
   "source": [
    "x_set = np.array([1,2,3,4,5,6])\n",
    "w = np.array([3,1,6,4,9,1])\n",
    "\n",
    "# Without Normalization\n",
    "#plt.hist(x_set,weights=w,bins=range(1,8),align='left',width=0.8)\n",
    "\n",
    "# Manual Normalization\n",
    "#plt.hist(x_set,weights=w/np.sum(w),bins=range(1,8),align='left',width=0.8)\n",
    "\n",
    "# Built-in Normalization\n",
    "plt.hist(x_set,weights=w,bins=range(1,8),align='left',width=0.8, density=True)\n",
    "plt.show()"
   ]
  },
  {
   "cell_type": "code",
   "execution_count": 35,
   "metadata": {},
   "outputs": [
    {
     "data": {
      "text/plain": [
       "24"
      ]
     },
     "execution_count": 35,
     "metadata": {},
     "output_type": "execute_result"
    }
   ],
   "source": [
    "np.sum(w)"
   ]
  },
  {
   "cell_type": "code",
   "execution_count": 55,
   "metadata": {},
   "outputs": [
    {
     "data": {
      "text/plain": [
       "array(['GREEN', 'BLUE', 'BLUE', 'GREEN', 'BLUE'], dtype='<U6')"
      ]
     },
     "execution_count": 55,
     "metadata": {},
     "output_type": "execute_result"
    }
   ],
   "source": [
    "np.random.choice([\"BLUE\",\"RED\",\"GREEN\",\"YELLOW\"],size=5,p=[0.5,0,0.4,0.1])"
   ]
  },
  {
   "cell_type": "code",
   "execution_count": 69,
   "metadata": {},
   "outputs": [],
   "source": [
    "x = np.random.choice(np.arange(1,7),size=300,p=w/np.sum(w))"
   ]
  },
  {
   "cell_type": "code",
   "execution_count": 72,
   "metadata": {},
   "outputs": [
    {
     "data": {
      "image/png": "[encoded data removed]",
      "text/plain": [
       "<Figure size 432x288 with 1 Axes>"
      ]
     },
     "metadata": {
      "needs_background": "light"
     },
     "output_type": "display_data"
    }
   ],
   "source": [
    "plt.hist(x_set,weights=w,bins=range(1,8),align='left',width=0.8, density=True)\n",
    "plt.hist(x,bins=range(1,8),align='left',width=0.6, density=True,color=\"red\",\n",
    "         edgecolor=\"black\")\n",
    "plt.show()"
   ]
  },
  {
   "cell_type": "code",
   "execution_count": 74,
   "metadata": {},
   "outputs": [
    {
     "data": {
      "image/png": "[encoded data removed]",
      "text/plain": [
       "<Figure size 432x288 with 1 Axes>"
      ]
     },
     "metadata": {
      "needs_background": "light"
     },
     "output_type": "display_data"
    }
   ],
   "source": [
    "plt.hist(x_set,weights=w,bins=range(1,8),align='left',width=0.8, density=True)\n",
    "plt.hist(x,bins=range(1,8),align='left',width=0.8, density=True,\n",
    "         edgecolor=\"black\",fill=False)\n",
    "plt.show()"
   ]
  },
  {
   "cell_type": "markdown",
   "metadata": {},
   "source": [
    "### Manual Sampling"
   ]
  },
  {
   "cell_type": "code",
   "execution_count": 75,
   "metadata": {},
   "outputs": [
    {
     "data": {
      "text/plain": [
       "3"
      ]
     },
     "execution_count": 75,
     "metadata": {},
     "output_type": "execute_result"
    }
   ],
   "source": [
    "candidate = np.random.randint(1,7)\n",
    "candidate"
   ]
  },
  {
   "cell_type": "code",
   "execution_count": 77,
   "metadata": {},
   "outputs": [
    {
     "data": {
      "text/plain": [
       "array([0.125     , 0.04166667, 0.25      , 0.16666667, 0.375     ,\n",
       "       0.04166667])"
      ]
     },
     "execution_count": 77,
     "metadata": {},
     "output_type": "execute_result"
    }
   ],
   "source": [
    "# Probabilities\n",
    "w / np.sum(w)"
   ]
  },
  {
   "cell_type": "code",
   "execution_count": 78,
   "metadata": {},
   "outputs": [
    {
     "data": {
      "text/plain": [
       "0.29516222221862987"
      ]
     },
     "execution_count": 78,
     "metadata": {},
     "output_type": "execute_result"
    }
   ],
   "source": [
    "acceptance_roll = np.random.rand()\n",
    "acceptance_roll"
   ]
  },
  {
   "cell_type": "code",
   "execution_count": 86,
   "metadata": {},
   "outputs": [],
   "source": [
    "N = 1000\n",
    "collected = []\n",
    "probabilities = w / np.sum(w) \n",
    "probabilities = np.insert(probabilities,0,0)\n",
    "print(probabilities)\n",
    "\n",
    "N_TOT = 0\n",
    "while(len(collected)< N):\n",
    "    N_TOT += 1\n",
    "    candidate = np.random.randint(1,7)\n",
    "    acceptance_roll = np.random.rand()\n",
    "    if(acceptance_roll < probabilities[candidate]):\n",
    "        collected.append(candidate)"
   ]
  },
  {
   "cell_type": "code",
   "execution_count": 89,
   "metadata": {},
   "outputs": [
    {
     "name": "stdout",
     "output_type": "stream",
     "text": [
      "To achieve 1000 samples, 5796 numbers were considered.\n"
     ]
    }
   ],
   "source": [
    "print(\"To achieve {:d} samples, {:d} numbers were considered.\".format(N,N_TOT))"
   ]
  },
  {
   "cell_type": "code",
   "execution_count": 88,
   "metadata": {},
   "outputs": [
    {
     "data": {
      "image/png": "[encoded data removed]",
      "text/plain": [
       "<Figure size 432x288 with 1 Axes>"
      ]
     },
     "metadata": {
      "needs_background": "light"
     },
     "output_type": "display_data"
    }
   ],
   "source": [
    "plt.hist(x_set,weights=w,bins=range(1,8),align='left',width=0.8, density=True)\n",
    "plt.hist(collected,bins=range(1,8),align='left',width=0.6, density=True,color=\"red\",\n",
    "         edgecolor=\"black\")\n",
    "plt.show()"
   ]
  },
  {
   "cell_type": "markdown",
   "metadata": {},
   "source": [
    "## Sampling from a normal distribution\n"
   ]
  },
  {
   "cell_type": "code",
   "execution_count": 99,
   "metadata": {},
   "outputs": [],
   "source": [
    "x_n = np.random.normal(50,10,1000)"
   ]
  },
  {
   "cell_type": "code",
   "execution_count": 100,
   "metadata": {},
   "outputs": [
    {
     "data": {
      "image/png": "[encoded data removed]",
      "text/plain": [
       "<Figure size 432x288 with 1 Axes>"
      ]
     },
     "metadata": {
      "needs_background": "light"
     },
     "output_type": "display_data"
    }
   ],
   "source": [
    "plt.hist(x_n,density=True,color=\"red\",\n",
    "         edgecolor=\"black\",bins=20)\n",
    "plt.show()"
   ]
  },
  {
   "cell_type": "code",
   "execution_count": 101,
   "metadata": {},
   "outputs": [
    {
     "data": {
      "text/plain": [
       "array([45.51498215, 56.97302424, 30.89952981, 23.09017167, 45.14211665,\n",
       "       39.54215777, 64.02142486, 41.50132558, 42.02647725, 36.29954735,\n",
       "       40.21838608, 32.97179065, 50.42042917, 44.98691518, 53.75499363,\n",
       "       31.60140677, 65.78160388, 49.03208001, 42.00518155, 39.92368767,\n",
       "       61.59584818, 56.03466994, 35.99720872, 49.33644527, 41.20455355,\n",
       "       37.23055295, 41.16797281, 53.33644467, 42.53213983, 47.47376994,\n",
       "       62.26945214, 52.02771748, 40.51066522, 43.44573561, 53.2054177 ,\n",
       "       63.03097343, 49.45634938, 37.79534998, 76.05966381, 51.24179563,\n",
       "       40.13928791, 70.46763778, 64.97985934, 46.66631319, 46.50826809,\n",
       "       67.57341076, 57.47028704, 40.45726397, 41.97800197, 53.92132612,\n",
       "       63.37679002, 44.414019  , 53.73776044, 49.80129531, 71.67670455,\n",
       "       46.40219205, 43.05354368, 45.2557151 , 45.5127926 , 44.43014328,\n",
       "       56.66780856, 53.09366363, 46.62822389, 37.37156912, 45.80438318,\n",
       "       70.39289148, 54.5985777 , 50.49381587, 35.89678341, 61.01206995,\n",
       "       53.43183216, 54.0363728 , 57.58046612, 39.3036388 , 52.06504816,\n",
       "       68.56634482, 50.43875381, 64.73972077, 72.4226317 , 44.83871545,\n",
       "       47.61079422, 41.02616709, 44.66243117, 48.26052627, 61.75243378,\n",
       "       59.45365145, 52.50551566, 55.65830227, 31.24614306, 74.29636971,\n",
       "       69.72720151, 52.56195198, 62.5436694 , 32.54026286, 44.90262165,\n",
       "       41.06070926, 37.05655327, 55.97934755, 46.55975191, 39.43887399,\n",
       "       66.72925398, 42.82051465, 47.61793804, 53.35963676, 58.07303446,\n",
       "       46.46496168, 50.03277245, 53.09033259, 43.64951651, 42.54324967,\n",
       "       47.44879458, 50.29731863, 57.5302237 , 47.2923887 , 57.45819436,\n",
       "       52.38391257, 45.80046556, 48.72464347, 51.05395543, 49.97426102,\n",
       "       50.39128624, 53.6397748 , 43.77475334, 57.86675678, 53.56040612,\n",
       "       50.831553  , 73.63899212, 30.58272665, 49.93413593, 53.71320113,\n",
       "       46.77063398, 60.91269301, 27.46290029, 45.58010616, 61.69599668,\n",
       "       61.03933978, 53.6590699 , 81.16874299, 50.55053054, 49.24078547,\n",
       "       47.24124267, 34.60167348, 55.55692776, 42.79013651, 69.87571532,\n",
       "       57.75636516, 46.43497458, 54.47279741, 37.1580181 , 36.85651207,\n",
       "       67.81681102, 59.42917593, 39.60997751, 54.11490237, 55.41925138,\n",
       "       53.97180577, 61.84556267, 55.56187942, 44.76752525, 46.4580673 ,\n",
       "       40.22744515, 49.7641548 , 56.61779315, 41.7962585 , 45.13074331,\n",
       "       43.60292344, 56.02607849, 31.75796038, 47.43627959, 33.85583243,\n",
       "       36.10947631, 56.10752828, 44.63609491, 48.55164634, 48.64548993,\n",
       "       46.22589877, 61.40435053, 50.47136804, 50.12449819, 45.57385287,\n",
       "       50.52216229, 55.71032491, 66.42782636, 42.78796338, 52.3321727 ,\n",
       "       42.12076589, 39.48555077, 44.26668447, 66.91321028, 46.13608254,\n",
       "       29.77553488, 42.21934681, 62.15313684, 50.36950369, 55.02679149,\n",
       "       60.0596832 , 56.0969606 , 49.05314035, 54.22315515, 46.12940919,\n",
       "       70.67074548, 54.55964475, 20.27327322, 46.29399444, 70.12790504,\n",
       "       38.70401335, 45.63907581, 53.16535473, 53.63197506, 42.10228835,\n",
       "       34.5514735 , 44.53791396, 40.53530592, 61.55630551, 37.24793751,\n",
       "       53.72174653, 59.46966903, 52.78818017, 83.69733459, 62.03694326,\n",
       "       51.09498212, 50.74997832, 36.50766303, 58.09044302, 66.63403006,\n",
       "       57.75713066, 62.79010289, 69.91525844, 35.76325302, 51.12417198,\n",
       "       42.56586684, 62.93202423, 56.72529789, 59.48767887, 37.08086216,\n",
       "       64.34913686, 33.69319303, 51.13223421, 62.80010785, 55.10237047,\n",
       "       49.39217417, 46.0512247 , 54.39656965, 38.1603452 , 63.39036979,\n",
       "       64.20782894, 42.59843669, 67.80866518, 51.20760498, 47.16761098,\n",
       "       45.82594788, 41.44890444, 50.22130759, 49.88636602, 34.9325193 ,\n",
       "       51.09830493, 48.69059454, 22.13149901, 48.38571022, 50.82723806,\n",
       "       46.00963974, 49.64279444, 55.65117981, 43.66406444, 62.7788022 ,\n",
       "       45.18778492, 67.20278616, 36.1172139 , 35.11790144, 50.60328566,\n",
       "       53.70703171, 61.28005289, 48.35810701, 40.59198534, 41.41396291,\n",
       "       51.15965911, 54.69928957, 29.29841221, 47.36237717, 50.75515487,\n",
       "       52.29245583, 49.70993782, 41.83328383, 45.90149599, 29.5844132 ,\n",
       "       58.82879663, 34.39513154, 46.84730973, 47.15671729, 79.87870456,\n",
       "       38.6660713 , 55.62349646, 59.83734698, 44.19781219, 47.65521778,\n",
       "       36.49093418, 39.626351  , 62.03806529, 30.63926719, 50.34892018,\n",
       "       35.89649987, 40.62248144, 42.69717346, 67.42379869, 58.06018966,\n",
       "       51.38733051, 45.32063559, 66.62910344, 37.78185028, 44.82224665,\n",
       "       63.37510409, 50.47012488, 62.69965078, 42.83874207, 53.26984882,\n",
       "       30.77839806, 63.36978217, 45.47735172, 53.97080206, 47.47244915,\n",
       "       53.17701204, 47.04154002, 62.01717339, 43.10181887, 56.17563241,\n",
       "       46.1777335 , 49.37071127, 50.12776043, 45.30663899, 43.95550794,\n",
       "       45.86636463, 52.66363827, 56.57731791, 48.42588461, 61.79048146,\n",
       "       58.32628253, 56.28477128, 39.75742412, 41.10381984, 43.76696112,\n",
       "       35.46611471, 33.78260349, 52.26227093, 33.97588205, 39.39683498,\n",
       "       44.9951415 , 50.83583109, 57.3058136 , 54.43405744, 51.07949387,\n",
       "       46.41979696, 56.94365988, 57.69788108, 47.46669395, 65.5941125 ,\n",
       "       43.6914625 , 44.91402684, 41.71089354, 50.70095905, 41.78797231,\n",
       "       58.75936806, 59.02864146, 48.03668884, 53.1052896 , 29.00576747,\n",
       "       39.12276881, 55.14622172, 56.80466328, 65.78616187, 40.93571607,\n",
       "       52.59741413, 52.7432775 , 40.10893465, 48.77384429, 50.57652172,\n",
       "       43.53363339, 50.52058738, 51.47630362, 49.36051445, 29.86341261,\n",
       "       45.60877319, 54.16430652, 68.65725911, 52.25852538, 43.06363426,\n",
       "       43.42736975, 39.58516627, 63.15263417, 45.98429592, 42.44140401,\n",
       "       57.31952855, 59.79887857, 50.74028043, 41.86521382, 51.16631547,\n",
       "       22.84872561, 44.34537589, 56.35758816, 46.88791929, 59.10494649,\n",
       "       70.62944792, 35.00997647, 38.1505512 , 49.38617705, 58.37194238,\n",
       "       39.9087073 , 56.79344443, 58.1014215 , 59.44203336, 43.16803586,\n",
       "       69.89110128, 43.57838087, 56.73746861, 65.66587213, 45.6206392 ,\n",
       "       58.29159047, 53.46055569, 55.00076631, 71.38321332, 34.41151071,\n",
       "       51.90011665, 48.07423392, 37.89139086, 61.39422761, 52.46053306,\n",
       "       59.41874222, 53.61378131, 35.50579716, 37.42462864, 58.89186613,\n",
       "       53.62847394, 52.5044644 , 52.66460905, 62.53480102, 55.08490148,\n",
       "       56.96925865, 41.06189542, 65.11221073, 32.48197363, 48.83737251,\n",
       "       37.72644843, 45.51077448, 67.81879035, 44.58523201, 49.21931577,\n",
       "       45.63949143, 48.43520379, 44.77921413, 39.0074635 , 34.43002627,\n",
       "       47.41015808, 69.6603714 , 30.12222169, 78.05272771, 45.90360596,\n",
       "       44.69070121, 50.81513851, 50.11560319, 45.81768125, 42.30323465,\n",
       "       48.26952659, 51.30127459, 44.92689132, 52.79322261, 54.84406572,\n",
       "       42.9472836 , 29.50178369, 35.01864353, 48.8812064 , 59.47803608,\n",
       "       57.61399164, 53.01351913, 45.19845009, 54.72065601, 47.50486291,\n",
       "       60.14855256, 30.28328764, 56.87666998, 45.70544722, 51.23959214,\n",
       "       69.59504493, 58.30989709, 37.78789219, 54.8127499 , 69.32716225,\n",
       "       47.11670538, 48.68004214, 49.04331462, 51.5260658 , 61.66468662,\n",
       "       36.27301142, 47.3477635 , 48.09138251, 39.40739876, 63.68897887,\n",
       "       50.95669888, 54.21187795, 49.18172188, 62.75946872, 39.05649946,\n",
       "       39.87243585, 69.63482898, 44.14679115, 36.12263922, 47.96495946,\n",
       "       46.65025868, 36.63676149, 54.8629374 , 34.97874135, 34.40622999,\n",
       "       58.68738574, 65.11168693, 50.13571101, 49.36605372, 37.83564523,\n",
       "       47.25950534, 53.88450725, 63.15748958, 52.14179098, 66.94335215,\n",
       "       57.7237728 , 71.55016221, 69.46366879, 47.48216367, 52.86500418,\n",
       "       66.73847585, 55.57016901, 53.5253796 , 35.10566759, 43.30688547,\n",
       "       35.4316839 , 44.59768091, 43.9575048 , 49.77796011, 50.57259936,\n",
       "       45.98712913, 54.01939518, 35.5483187 , 59.99934737, 47.48550322,\n",
       "       41.21687996, 45.64791606, 48.32846215, 61.26406032, 51.60751758,\n",
       "       46.7557613 , 45.03201094, 51.84000155, 69.61967859, 43.57036072,\n",
       "       27.82724319, 41.07830354, 50.46099326, 50.36867607, 52.87012799,\n",
       "       58.54330357, 40.53361871, 56.00671536, 49.5006865 , 51.59500172,\n",
       "       61.27045276, 45.05837683, 37.83613275, 51.54831812, 50.38863915,\n",
       "       45.70922893, 62.84259133, 16.99731108, 62.95281413, 56.32137214,\n",
       "       60.59482251, 50.98404761, 47.6765125 , 38.8215629 , 45.17995616,\n",
       "       42.93536933, 51.55078895, 59.05429064, 34.15715285, 40.02978755,\n",
       "       61.20516281, 44.52629777, 62.67662941, 54.70873474, 50.73105351,\n",
       "       44.40291537, 65.75707322, 40.46160719, 62.8279399 , 39.89532804,\n",
       "       48.0314338 , 38.50359097, 43.09464221, 41.00228694, 52.6761063 ,\n",
       "       63.57550715, 48.02747936, 59.08730946, 50.18231918, 58.45321129,\n",
       "       66.80265049, 55.18567292, 36.028257  , 38.84496833, 72.02612836,\n",
       "       41.90571001, 50.48674287, 34.97883827, 46.25832665, 48.4129198 ,\n",
       "       54.46345134, 59.68936213, 49.68625182, 58.81538023, 59.07745101,\n",
       "       46.13253202, 36.14542868, 46.06559105, 46.00390959, 56.28982445,\n",
       "       40.6513397 , 40.74106096, 24.12772159, 64.3586083 , 47.9094045 ,\n",
       "       62.88902318, 44.83864183, 59.64304185, 54.37355798, 48.90278892,\n",
       "       39.82936537, 47.77030938, 36.98758341, 51.81082847, 38.00067855,\n",
       "       53.95448379, 43.28422019, 36.77885232, 42.64650279, 46.72528629,\n",
       "       40.7402285 , 48.64431922, 64.33547307, 54.53842791, 31.14428425,\n",
       "       56.81850448, 49.3157771 , 56.04320635, 37.85116986, 55.99062768,\n",
       "       54.6038985 , 59.36659928, 58.268819  , 47.29672875, 35.55254718,\n",
       "       68.80399285, 50.83035189, 53.64522586, 50.73341732, 53.7198818 ,\n",
       "       49.99891183, 57.00027665, 47.35069519, 45.58427507, 43.90986022,\n",
       "       59.33417541, 43.90199486, 43.48459418, 53.4482495 , 47.01032001,\n",
       "       42.03330299, 39.10153853, 63.68727   , 48.59857414, 42.66402412,\n",
       "       61.60710922, 67.00361446, 57.9612904 , 34.68712655, 57.09291845,\n",
       "       55.12448907, 51.80978339, 64.36007762, 59.85077427, 60.17527058,\n",
       "       48.31002632, 46.81937494, 45.42961173, 42.92203146, 62.80940732,\n",
       "       47.93315681, 38.70762678, 40.88301849, 49.15041361, 40.39676879,\n",
       "       53.10469535, 46.85083446, 28.385486  , 48.23528342, 37.30618135,\n",
       "       36.51135448, 45.98671401, 58.39880189, 52.67476638, 40.37719621,\n",
       "       64.0027947 , 50.32576919, 51.5567674 , 41.00525813, 38.941717  ,\n",
       "       66.67168139, 50.42185007, 52.08898397, 50.62266115, 48.30019163,\n",
       "       47.89641428, 61.72366137, 46.65165871, 50.5975144 , 57.8061792 ,\n",
       "       41.41983766, 70.11029906, 54.55982102, 50.35684925, 61.61869283,\n",
       "       53.07582786, 68.64976396, 59.98346443, 52.54720081, 52.98393936,\n",
       "       43.92290785, 38.28483382, 51.15725393, 68.68404491, 68.54375584,\n",
       "       59.05369281, 68.59420481, 49.45348116, 52.61759692, 36.62094636,\n",
       "       40.15819384, 53.92501712, 69.04512695, 64.76613418, 47.07904646,\n",
       "       48.2993769 , 47.75389262, 55.27741337, 51.91739949, 53.09011789,\n",
       "       54.56914225, 44.29879488, 39.65459506, 30.17487434, 48.04048165,\n",
       "       47.20765483, 42.43599029, 43.63891023, 59.87074278, 64.72961842,\n",
       "       46.87832227, 52.09161595, 52.70449392, 47.36719802, 65.50988079,\n",
       "       47.07045018, 41.21237566, 67.87566141, 34.30665391, 49.78114917,\n",
       "       52.02723647, 65.89060569, 49.39876837, 58.44377774, 38.76401649,\n",
       "       70.08162192, 50.67785165, 60.74475724, 44.35589767, 52.69970262,\n",
       "       47.09257971, 51.74427917, 46.96667156, 44.43662193, 36.20914435,\n",
       "       37.51697577, 49.93350219, 54.10011431, 54.02435964, 42.38830878,\n",
       "       56.02766564, 40.50346516, 46.17617792, 51.23138743, 61.37353395,\n",
       "       39.23494645, 38.19516494, 49.91282288, 57.65185966, 59.23667598,\n",
       "       51.31826674, 54.0310331 , 52.64626566, 29.87385282, 47.41586877,\n",
       "       42.15020759, 49.3097571 , 37.36402753, 56.33484179, 46.31793337,\n",
       "       49.83359543, 35.26209625, 45.72818036, 55.68607341, 29.45217124,\n",
       "       61.0859309 , 61.3362114 , 63.22273416, 56.18627788, 54.04223609,\n",
       "       47.6066492 , 57.27141666, 43.51784225, 43.21080227, 37.08557899,\n",
       "       63.60783505, 50.94656582, 46.94851524, 58.50988922, 42.24031715,\n",
       "       71.84566471, 61.83917676, 52.74553967, 61.97248257, 54.51533688,\n",
       "       46.2825156 , 55.01405513, 50.06706813, 39.72852857, 34.50156735,\n",
       "       45.65568963, 59.84788246, 40.59469108, 46.46999468, 46.4159601 ,\n",
       "       57.0468019 , 53.84325371, 21.34512874, 51.12280299, 55.6368119 ,\n",
       "       63.69860802, 61.41687735, 50.3880523 , 53.77008346, 55.64847207,\n",
       "       39.5234876 , 47.0560993 , 58.71741483, 28.1067477 , 46.16279184,\n",
       "       41.4704355 , 49.35589592, 62.68063615, 56.17578419, 46.38700181,\n",
       "       52.3104058 , 47.38817853, 36.65286472, 42.26106811, 51.77426908,\n",
       "       37.28820904, 47.76689252, 52.04594235, 47.78857746, 53.84049241,\n",
       "       54.34151922, 42.92455635, 44.72456288, 45.38792768, 31.58510301,\n",
       "       45.92816434, 61.81084416, 47.01004964, 56.42392095, 40.65769913,\n",
       "       55.09424198, 67.83117002, 44.05514574, 44.51280135, 62.74181955,\n",
       "       39.29167377, 54.1120584 , 43.24501303, 55.56101858, 51.2582102 ,\n",
       "       45.37083799, 57.01299128, 38.08182891, 32.4735689 , 62.23690457,\n",
       "       58.29062866, 48.52827017, 60.34499536, 32.2595477 , 30.4504069 ,\n",
       "       32.41993708, 51.32452702, 49.36385461, 41.02094905, 51.75927095,\n",
       "       49.75691236, 59.58330832, 46.79376039, 34.01474878, 44.05858359,\n",
       "       49.83971363, 60.13622969, 66.85525748, 51.5737296 , 38.25491945,\n",
       "       62.25602717, 64.92367245, 49.39725474, 41.07030259, 37.33463241,\n",
       "       45.71417903, 48.55091513, 44.02259434, 59.27426164, 64.20447859,\n",
       "       48.18337974, 54.608693  , 60.92779699, 52.57520829, 47.22089282,\n",
       "       63.98116157, 22.8582289 , 54.32523505, 54.19419218, 30.60645485,\n",
       "       47.73933422, 49.32405319, 69.54282408, 35.19893136, 56.61528426,\n",
       "       71.89907771, 54.25585047, 60.98529711, 29.12133264, 47.82787961,\n",
       "       50.80966958, 52.21367012, 45.41420783, 51.82396731, 53.80137751,\n",
       "       52.83218432, 37.44394179, 52.06624161, 48.29088423, 52.10220275,\n",
       "       63.92053383, 52.71709583, 49.17486583, 49.97322501, 46.6366978 ,\n",
       "       65.2353803 , 60.86219961, 37.01737903, 47.87181626, 41.19166643,\n",
       "       61.41139476, 55.23925044, 64.36712726, 47.25275338, 40.81558695,\n",
       "       45.31137949, 37.38320411, 49.40419153, 58.51779161, 39.98012678,\n",
       "       44.17870215, 51.6242505 , 32.0673724 , 48.54244754, 55.12435722,\n",
       "       80.58748269, 62.64409399, 51.46712982, 44.42549998, 70.46322476,\n",
       "       52.11961761, 37.11067057, 53.91483993, 59.38366407, 43.53863612,\n",
       "       67.98602783, 49.2176844 , 47.47932658, 40.16535814, 43.14160172])"
      ]
     },
     "execution_count": 101,
     "metadata": {},
     "output_type": "execute_result"
    }
   ],
   "source": [
    "x_n"
   ]
  },
  {
   "cell_type": "code",
   "execution_count": 111,
   "metadata": {},
   "outputs": [
    {
     "data": {
      "text/plain": [
       "49.977072136195574"
      ]
     },
     "execution_count": 111,
     "metadata": {},
     "output_type": "execute_result"
    }
   ],
   "source": [
    "data_mean = np.mean(x_n)\n",
    "data_mean"
   ]
  },
  {
   "cell_type": "code",
   "execution_count": 105,
   "metadata": {},
   "outputs": [
    {
     "data": {
      "text/plain": [
       "49.977072136195574"
      ]
     },
     "execution_count": 105,
     "metadata": {},
     "output_type": "execute_result"
    }
   ],
   "source": [
    "np.sum(x_n)/x_n.size"
   ]
  },
  {
   "cell_type": "code",
   "execution_count": 112,
   "metadata": {},
   "outputs": [
    {
     "data": {
      "text/plain": [
       "10.006112198037076"
      ]
     },
     "execution_count": 112,
     "metadata": {},
     "output_type": "execute_result"
    }
   ],
   "source": [
    "data_std = np.std(x_n)\n",
    "data_std"
   ]
  },
  {
   "cell_type": "code",
   "execution_count": 109,
   "metadata": {},
   "outputs": [
    {
     "data": {
      "text/plain": [
       "10.006112198037078"
      ]
     },
     "execution_count": 109,
     "metadata": {},
     "output_type": "execute_result"
    }
   ],
   "source": [
    "np.sqrt(np.mean(x_n**2) - np.mean(x_n)**2)"
   ]
  },
  {
   "cell_type": "code",
   "execution_count": 113,
   "metadata": {},
   "outputs": [],
   "source": [
    "def f(x,mu,sigma):\n",
    "    return np.exp(-(x-mu)**2/(2*sigma**2))/np.sqrt(2*np.pi*sigma**2)"
   ]
  },
  {
   "cell_type": "code",
   "execution_count": 118,
   "metadata": {},
   "outputs": [
    {
     "data": {
      "image/png": "[encoded data removed]",
      "text/plain": [
       "<Figure size 432x288 with 1 Axes>"
      ]
     },
     "metadata": {
      "needs_background": "light"
     },
     "output_type": "display_data"
    }
   ],
   "source": [
    "x = np.linspace(-10,120,500)\n",
    "plt.hist(x_n,density=True,color=\"red\",\n",
    "         edgecolor=\"black\",bins=20)\n",
    "plt.plot(x,f(x,data_mean,data_std),\"k-\")\n",
    "plt.plot(x,f(x,50,10),\"b-\")\n",
    "plt.show()"
   ]
  },
  {
   "cell_type": "code",
   "execution_count": 119,
   "metadata": {},
   "outputs": [],
   "source": [
    "d = np.array([1,2,3,3,3,2,5,6])"
   ]
  },
  {
   "cell_type": "code",
   "execution_count": 123,
   "metadata": {
    "scrolled": true
   },
   "outputs": [
    {
     "data": {
      "image/png": "[encoded data removed]",
      "text/plain": [
       "<Figure size 432x288 with 1 Axes>"
      ]
     },
     "metadata": {
      "needs_background": "light"
     },
     "output_type": "display_data"
    }
   ],
   "source": [
    "x_set = np.array([1,2,3,4,5,6])\n",
    "w = np.array([3,1,6,4,9,1])\n",
    "\n",
    "probabilities = w / np.sum(w) \n",
    "probabilities = np.insert(probabilities,0,0)\n",
    "\n",
    "# Built-in Normalization\n",
    "plt.hist(x_set,weights=w,bins=range(1,8),align='left',width=0.8, density=True)\n",
    "plt.show()"
   ]
  },
  {
   "cell_type": "code",
   "execution_count": 122,
   "metadata": {},
   "outputs": [
    {
     "data": {
      "text/plain": [
       "5.953741807651273e-07"
      ]
     },
     "execution_count": 122,
     "metadata": {},
     "output_type": "execute_result"
    }
   ],
   "source": [
    "# Fair dice:\n",
    "p_f = 1/6**8\n",
    "p_f"
   ]
  },
  {
   "cell_type": "code",
   "execution_count": 126,
   "metadata": {},
   "outputs": [
    {
     "data": {
      "text/plain": [
       "array([0.        , 0.125     , 0.04166667, 0.25      , 0.16666667,\n",
       "       0.375     , 0.04166667])"
      ]
     },
     "execution_count": 126,
     "metadata": {},
     "output_type": "execute_result"
    }
   ],
   "source": [
    "probabilities"
   ]
  },
  {
   "cell_type": "code",
   "execution_count": 128,
   "metadata": {},
   "outputs": [
    {
     "name": "stdout",
     "output_type": "stream",
     "text": [
      "1 0.125\n",
      "2 0.041666666666666664\n",
      "3 0.25\n",
      "3 0.25\n",
      "3 0.25\n",
      "2 0.041666666666666664\n",
      "5 0.375\n",
      "6 0.041666666666666664\n"
     ]
    },
    {
     "data": {
      "text/plain": [
       "5.2981906467013886e-08"
      ]
     },
     "execution_count": 128,
     "metadata": {},
     "output_type": "execute_result"
    }
   ],
   "source": [
    "# Loaded dice\n",
    "p_l = 1\n",
    "for dd in d:\n",
    "    print(dd,probabilities[dd])\n",
    "    p_l *= probabilities[dd]\n",
    "p_l"
   ]
  },
  {
   "cell_type": "code",
   "execution_count": 129,
   "metadata": {},
   "outputs": [
    {
     "data": {
      "text/plain": [
       "array([45.51498215, 56.97302424, 30.89952981, 23.09017167, 45.14211665,\n",
       "       39.54215777, 64.02142486, 41.50132558, 42.02647725, 36.29954735,\n",
       "       40.21838608, 32.97179065, 50.42042917, 44.98691518, 53.75499363,\n",
       "       31.60140677, 65.78160388, 49.03208001, 42.00518155, 39.92368767,\n",
       "       61.59584818, 56.03466994, 35.99720872, 49.33644527, 41.20455355,\n",
       "       37.23055295, 41.16797281, 53.33644467, 42.53213983, 47.47376994,\n",
       "       62.26945214, 52.02771748, 40.51066522, 43.44573561, 53.2054177 ,\n",
       "       63.03097343, 49.45634938, 37.79534998, 76.05966381, 51.24179563,\n",
       "       40.13928791, 70.46763778, 64.97985934, 46.66631319, 46.50826809,\n",
       "       67.57341076, 57.47028704, 40.45726397, 41.97800197, 53.92132612,\n",
       "       63.37679002, 44.414019  , 53.73776044, 49.80129531, 71.67670455,\n",
       "       46.40219205, 43.05354368, 45.2557151 , 45.5127926 , 44.43014328,\n",
       "       56.66780856, 53.09366363, 46.62822389, 37.37156912, 45.80438318,\n",
       "       70.39289148, 54.5985777 , 50.49381587, 35.89678341, 61.01206995,\n",
       "       53.43183216, 54.0363728 , 57.58046612, 39.3036388 , 52.06504816,\n",
       "       68.56634482, 50.43875381, 64.73972077, 72.4226317 , 44.83871545,\n",
       "       47.61079422, 41.02616709, 44.66243117, 48.26052627, 61.75243378,\n",
       "       59.45365145, 52.50551566, 55.65830227, 31.24614306, 74.29636971,\n",
       "       69.72720151, 52.56195198, 62.5436694 , 32.54026286, 44.90262165,\n",
       "       41.06070926, 37.05655327, 55.97934755, 46.55975191, 39.43887399,\n",
       "       66.72925398, 42.82051465, 47.61793804, 53.35963676, 58.07303446,\n",
       "       46.46496168, 50.03277245, 53.09033259, 43.64951651, 42.54324967,\n",
       "       47.44879458, 50.29731863, 57.5302237 , 47.2923887 , 57.45819436,\n",
       "       52.38391257, 45.80046556, 48.72464347, 51.05395543, 49.97426102,\n",
       "       50.39128624, 53.6397748 , 43.77475334, 57.86675678, 53.56040612,\n",
       "       50.831553  , 73.63899212, 30.58272665, 49.93413593, 53.71320113,\n",
       "       46.77063398, 60.91269301, 27.46290029, 45.58010616, 61.69599668,\n",
       "       61.03933978, 53.6590699 , 81.16874299, 50.55053054, 49.24078547,\n",
       "       47.24124267, 34.60167348, 55.55692776, 42.79013651, 69.87571532,\n",
       "       57.75636516, 46.43497458, 54.47279741, 37.1580181 , 36.85651207,\n",
       "       67.81681102, 59.42917593, 39.60997751, 54.11490237, 55.41925138,\n",
       "       53.97180577, 61.84556267, 55.56187942, 44.76752525, 46.4580673 ,\n",
       "       40.22744515, 49.7641548 , 56.61779315, 41.7962585 , 45.13074331,\n",
       "       43.60292344, 56.02607849, 31.75796038, 47.43627959, 33.85583243,\n",
       "       36.10947631, 56.10752828, 44.63609491, 48.55164634, 48.64548993,\n",
       "       46.22589877, 61.40435053, 50.47136804, 50.12449819, 45.57385287,\n",
       "       50.52216229, 55.71032491, 66.42782636, 42.78796338, 52.3321727 ,\n",
       "       42.12076589, 39.48555077, 44.26668447, 66.91321028, 46.13608254,\n",
       "       29.77553488, 42.21934681, 62.15313684, 50.36950369, 55.02679149,\n",
       "       60.0596832 , 56.0969606 , 49.05314035, 54.22315515, 46.12940919,\n",
       "       70.67074548, 54.55964475, 20.27327322, 46.29399444, 70.12790504,\n",
       "       38.70401335, 45.63907581, 53.16535473, 53.63197506, 42.10228835,\n",
       "       34.5514735 , 44.53791396, 40.53530592, 61.55630551, 37.24793751,\n",
       "       53.72174653, 59.46966903, 52.78818017, 83.69733459, 62.03694326,\n",
       "       51.09498212, 50.74997832, 36.50766303, 58.09044302, 66.63403006,\n",
       "       57.75713066, 62.79010289, 69.91525844, 35.76325302, 51.12417198,\n",
       "       42.56586684, 62.93202423, 56.72529789, 59.48767887, 37.08086216,\n",
       "       64.34913686, 33.69319303, 51.13223421, 62.80010785, 55.10237047,\n",
       "       49.39217417, 46.0512247 , 54.39656965, 38.1603452 , 63.39036979,\n",
       "       64.20782894, 42.59843669, 67.80866518, 51.20760498, 47.16761098,\n",
       "       45.82594788, 41.44890444, 50.22130759, 49.88636602, 34.9325193 ,\n",
       "       51.09830493, 48.69059454, 22.13149901, 48.38571022, 50.82723806,\n",
       "       46.00963974, 49.64279444, 55.65117981, 43.66406444, 62.7788022 ,\n",
       "       45.18778492, 67.20278616, 36.1172139 , 35.11790144, 50.60328566,\n",
       "       53.70703171, 61.28005289, 48.35810701, 40.59198534, 41.41396291,\n",
       "       51.15965911, 54.69928957, 29.29841221, 47.36237717, 50.75515487,\n",
       "       52.29245583, 49.70993782, 41.83328383, 45.90149599, 29.5844132 ,\n",
       "       58.82879663, 34.39513154, 46.84730973, 47.15671729, 79.87870456,\n",
       "       38.6660713 , 55.62349646, 59.83734698, 44.19781219, 47.65521778,\n",
       "       36.49093418, 39.626351  , 62.03806529, 30.63926719, 50.34892018,\n",
       "       35.89649987, 40.62248144, 42.69717346, 67.42379869, 58.06018966,\n",
       "       51.38733051, 45.32063559, 66.62910344, 37.78185028, 44.82224665,\n",
       "       63.37510409, 50.47012488, 62.69965078, 42.83874207, 53.26984882,\n",
       "       30.77839806, 63.36978217, 45.47735172, 53.97080206, 47.47244915,\n",
       "       53.17701204, 47.04154002, 62.01717339, 43.10181887, 56.17563241,\n",
       "       46.1777335 , 49.37071127, 50.12776043, 45.30663899, 43.95550794,\n",
       "       45.86636463, 52.66363827, 56.57731791, 48.42588461, 61.79048146,\n",
       "       58.32628253, 56.28477128, 39.75742412, 41.10381984, 43.76696112,\n",
       "       35.46611471, 33.78260349, 52.26227093, 33.97588205, 39.39683498,\n",
       "       44.9951415 , 50.83583109, 57.3058136 , 54.43405744, 51.07949387,\n",
       "       46.41979696, 56.94365988, 57.69788108, 47.46669395, 65.5941125 ,\n",
       "       43.6914625 , 44.91402684, 41.71089354, 50.70095905, 41.78797231,\n",
       "       58.75936806, 59.02864146, 48.03668884, 53.1052896 , 29.00576747,\n",
       "       39.12276881, 55.14622172, 56.80466328, 65.78616187, 40.93571607,\n",
       "       52.59741413, 52.7432775 , 40.10893465, 48.77384429, 50.57652172,\n",
       "       43.53363339, 50.52058738, 51.47630362, 49.36051445, 29.86341261,\n",
       "       45.60877319, 54.16430652, 68.65725911, 52.25852538, 43.06363426,\n",
       "       43.42736975, 39.58516627, 63.15263417, 45.98429592, 42.44140401,\n",
       "       57.31952855, 59.79887857, 50.74028043, 41.86521382, 51.16631547,\n",
       "       22.84872561, 44.34537589, 56.35758816, 46.88791929, 59.10494649,\n",
       "       70.62944792, 35.00997647, 38.1505512 , 49.38617705, 58.37194238,\n",
       "       39.9087073 , 56.79344443, 58.1014215 , 59.44203336, 43.16803586,\n",
       "       69.89110128, 43.57838087, 56.73746861, 65.66587213, 45.6206392 ,\n",
       "       58.29159047, 53.46055569, 55.00076631, 71.38321332, 34.41151071,\n",
       "       51.90011665, 48.07423392, 37.89139086, 61.39422761, 52.46053306,\n",
       "       59.41874222, 53.61378131, 35.50579716, 37.42462864, 58.89186613,\n",
       "       53.62847394, 52.5044644 , 52.66460905, 62.53480102, 55.08490148,\n",
       "       56.96925865, 41.06189542, 65.11221073, 32.48197363, 48.83737251,\n",
       "       37.72644843, 45.51077448, 67.81879035, 44.58523201, 49.21931577,\n",
       "       45.63949143, 48.43520379, 44.77921413, 39.0074635 , 34.43002627,\n",
       "       47.41015808, 69.6603714 , 30.12222169, 78.05272771, 45.90360596,\n",
       "       44.69070121, 50.81513851, 50.11560319, 45.81768125, 42.30323465,\n",
       "       48.26952659, 51.30127459, 44.92689132, 52.79322261, 54.84406572,\n",
       "       42.9472836 , 29.50178369, 35.01864353, 48.8812064 , 59.47803608,\n",
       "       57.61399164, 53.01351913, 45.19845009, 54.72065601, 47.50486291,\n",
       "       60.14855256, 30.28328764, 56.87666998, 45.70544722, 51.23959214,\n",
       "       69.59504493, 58.30989709, 37.78789219, 54.8127499 , 69.32716225,\n",
       "       47.11670538, 48.68004214, 49.04331462, 51.5260658 , 61.66468662,\n",
       "       36.27301142, 47.3477635 , 48.09138251, 39.40739876, 63.68897887,\n",
       "       50.95669888, 54.21187795, 49.18172188, 62.75946872, 39.05649946,\n",
       "       39.87243585, 69.63482898, 44.14679115, 36.12263922, 47.96495946,\n",
       "       46.65025868, 36.63676149, 54.8629374 , 34.97874135, 34.40622999,\n",
       "       58.68738574, 65.11168693, 50.13571101, 49.36605372, 37.83564523,\n",
       "       47.25950534, 53.88450725, 63.15748958, 52.14179098, 66.94335215,\n",
       "       57.7237728 , 71.55016221, 69.46366879, 47.48216367, 52.86500418,\n",
       "       66.73847585, 55.57016901, 53.5253796 , 35.10566759, 43.30688547,\n",
       "       35.4316839 , 44.59768091, 43.9575048 , 49.77796011, 50.57259936,\n",
       "       45.98712913, 54.01939518, 35.5483187 , 59.99934737, 47.48550322,\n",
       "       41.21687996, 45.64791606, 48.32846215, 61.26406032, 51.60751758,\n",
       "       46.7557613 , 45.03201094, 51.84000155, 69.61967859, 43.57036072,\n",
       "       27.82724319, 41.07830354, 50.46099326, 50.36867607, 52.87012799,\n",
       "       58.54330357, 40.53361871, 56.00671536, 49.5006865 , 51.59500172,\n",
       "       61.27045276, 45.05837683, 37.83613275, 51.54831812, 50.38863915,\n",
       "       45.70922893, 62.84259133, 16.99731108, 62.95281413, 56.32137214,\n",
       "       60.59482251, 50.98404761, 47.6765125 , 38.8215629 , 45.17995616,\n",
       "       42.93536933, 51.55078895, 59.05429064, 34.15715285, 40.02978755,\n",
       "       61.20516281, 44.52629777, 62.67662941, 54.70873474, 50.73105351,\n",
       "       44.40291537, 65.75707322, 40.46160719, 62.8279399 , 39.89532804,\n",
       "       48.0314338 , 38.50359097, 43.09464221, 41.00228694, 52.6761063 ,\n",
       "       63.57550715, 48.02747936, 59.08730946, 50.18231918, 58.45321129,\n",
       "       66.80265049, 55.18567292, 36.028257  , 38.84496833, 72.02612836,\n",
       "       41.90571001, 50.48674287, 34.97883827, 46.25832665, 48.4129198 ,\n",
       "       54.46345134, 59.68936213, 49.68625182, 58.81538023, 59.07745101,\n",
       "       46.13253202, 36.14542868, 46.06559105, 46.00390959, 56.28982445,\n",
       "       40.6513397 , 40.74106096, 24.12772159, 64.3586083 , 47.9094045 ,\n",
       "       62.88902318, 44.83864183, 59.64304185, 54.37355798, 48.90278892,\n",
       "       39.82936537, 47.77030938, 36.98758341, 51.81082847, 38.00067855,\n",
       "       53.95448379, 43.28422019, 36.77885232, 42.64650279, 46.72528629,\n",
       "       40.7402285 , 48.64431922, 64.33547307, 54.53842791, 31.14428425,\n",
       "       56.81850448, 49.3157771 , 56.04320635, 37.85116986, 55.99062768,\n",
       "       54.6038985 , 59.36659928, 58.268819  , 47.29672875, 35.55254718,\n",
       "       68.80399285, 50.83035189, 53.64522586, 50.73341732, 53.7198818 ,\n",
       "       49.99891183, 57.00027665, 47.35069519, 45.58427507, 43.90986022,\n",
       "       59.33417541, 43.90199486, 43.48459418, 53.4482495 , 47.01032001,\n",
       "       42.03330299, 39.10153853, 63.68727   , 48.59857414, 42.66402412,\n",
       "       61.60710922, 67.00361446, 57.9612904 , 34.68712655, 57.09291845,\n",
       "       55.12448907, 51.80978339, 64.36007762, 59.85077427, 60.17527058,\n",
       "       48.31002632, 46.81937494, 45.42961173, 42.92203146, 62.80940732,\n",
       "       47.93315681, 38.70762678, 40.88301849, 49.15041361, 40.39676879,\n",
       "       53.10469535, 46.85083446, 28.385486  , 48.23528342, 37.30618135,\n",
       "       36.51135448, 45.98671401, 58.39880189, 52.67476638, 40.37719621,\n",
       "       64.0027947 , 50.32576919, 51.5567674 , 41.00525813, 38.941717  ,\n",
       "       66.67168139, 50.42185007, 52.08898397, 50.62266115, 48.30019163,\n",
       "       47.89641428, 61.72366137, 46.65165871, 50.5975144 , 57.8061792 ,\n",
       "       41.41983766, 70.11029906, 54.55982102, 50.35684925, 61.61869283,\n",
       "       53.07582786, 68.64976396, 59.98346443, 52.54720081, 52.98393936,\n",
       "       43.92290785, 38.28483382, 51.15725393, 68.68404491, 68.54375584,\n",
       "       59.05369281, 68.59420481, 49.45348116, 52.61759692, 36.62094636,\n",
       "       40.15819384, 53.92501712, 69.04512695, 64.76613418, 47.07904646,\n",
       "       48.2993769 , 47.75389262, 55.27741337, 51.91739949, 53.09011789,\n",
       "       54.56914225, 44.29879488, 39.65459506, 30.17487434, 48.04048165,\n",
       "       47.20765483, 42.43599029, 43.63891023, 59.87074278, 64.72961842,\n",
       "       46.87832227, 52.09161595, 52.70449392, 47.36719802, 65.50988079,\n",
       "       47.07045018, 41.21237566, 67.87566141, 34.30665391, 49.78114917,\n",
       "       52.02723647, 65.89060569, 49.39876837, 58.44377774, 38.76401649,\n",
       "       70.08162192, 50.67785165, 60.74475724, 44.35589767, 52.69970262,\n",
       "       47.09257971, 51.74427917, 46.96667156, 44.43662193, 36.20914435,\n",
       "       37.51697577, 49.93350219, 54.10011431, 54.02435964, 42.38830878,\n",
       "       56.02766564, 40.50346516, 46.17617792, 51.23138743, 61.37353395,\n",
       "       39.23494645, 38.19516494, 49.91282288, 57.65185966, 59.23667598,\n",
       "       51.31826674, 54.0310331 , 52.64626566, 29.87385282, 47.41586877,\n",
       "       42.15020759, 49.3097571 , 37.36402753, 56.33484179, 46.31793337,\n",
       "       49.83359543, 35.26209625, 45.72818036, 55.68607341, 29.45217124,\n",
       "       61.0859309 , 61.3362114 , 63.22273416, 56.18627788, 54.04223609,\n",
       "       47.6066492 , 57.27141666, 43.51784225, 43.21080227, 37.08557899,\n",
       "       63.60783505, 50.94656582, 46.94851524, 58.50988922, 42.24031715,\n",
       "       71.84566471, 61.83917676, 52.74553967, 61.97248257, 54.51533688,\n",
       "       46.2825156 , 55.01405513, 50.06706813, 39.72852857, 34.50156735,\n",
       "       45.65568963, 59.84788246, 40.59469108, 46.46999468, 46.4159601 ,\n",
       "       57.0468019 , 53.84325371, 21.34512874, 51.12280299, 55.6368119 ,\n",
       "       63.69860802, 61.41687735, 50.3880523 , 53.77008346, 55.64847207,\n",
       "       39.5234876 , 47.0560993 , 58.71741483, 28.1067477 , 46.16279184,\n",
       "       41.4704355 , 49.35589592, 62.68063615, 56.17578419, 46.38700181,\n",
       "       52.3104058 , 47.38817853, 36.65286472, 42.26106811, 51.77426908,\n",
       "       37.28820904, 47.76689252, 52.04594235, 47.78857746, 53.84049241,\n",
       "       54.34151922, 42.92455635, 44.72456288, 45.38792768, 31.58510301,\n",
       "       45.92816434, 61.81084416, 47.01004964, 56.42392095, 40.65769913,\n",
       "       55.09424198, 67.83117002, 44.05514574, 44.51280135, 62.74181955,\n",
       "       39.29167377, 54.1120584 , 43.24501303, 55.56101858, 51.2582102 ,\n",
       "       45.37083799, 57.01299128, 38.08182891, 32.4735689 , 62.23690457,\n",
       "       58.29062866, 48.52827017, 60.34499536, 32.2595477 , 30.4504069 ,\n",
       "       32.41993708, 51.32452702, 49.36385461, 41.02094905, 51.75927095,\n",
       "       49.75691236, 59.58330832, 46.79376039, 34.01474878, 44.05858359,\n",
       "       49.83971363, 60.13622969, 66.85525748, 51.5737296 , 38.25491945,\n",
       "       62.25602717, 64.92367245, 49.39725474, 41.07030259, 37.33463241,\n",
       "       45.71417903, 48.55091513, 44.02259434, 59.27426164, 64.20447859,\n",
       "       48.18337974, 54.608693  , 60.92779699, 52.57520829, 47.22089282,\n",
       "       63.98116157, 22.8582289 , 54.32523505, 54.19419218, 30.60645485,\n",
       "       47.73933422, 49.32405319, 69.54282408, 35.19893136, 56.61528426,\n",
       "       71.89907771, 54.25585047, 60.98529711, 29.12133264, 47.82787961,\n",
       "       50.80966958, 52.21367012, 45.41420783, 51.82396731, 53.80137751,\n",
       "       52.83218432, 37.44394179, 52.06624161, 48.29088423, 52.10220275,\n",
       "       63.92053383, 52.71709583, 49.17486583, 49.97322501, 46.6366978 ,\n",
       "       65.2353803 , 60.86219961, 37.01737903, 47.87181626, 41.19166643,\n",
       "       61.41139476, 55.23925044, 64.36712726, 47.25275338, 40.81558695,\n",
       "       45.31137949, 37.38320411, 49.40419153, 58.51779161, 39.98012678,\n",
       "       44.17870215, 51.6242505 , 32.0673724 , 48.54244754, 55.12435722,\n",
       "       80.58748269, 62.64409399, 51.46712982, 44.42549998, 70.46322476,\n",
       "       52.11961761, 37.11067057, 53.91483993, 59.38366407, 43.53863612,\n",
       "       67.98602783, 49.2176844 , 47.47932658, 40.16535814, 43.14160172])"
      ]
     },
     "execution_count": 129,
     "metadata": {},
     "output_type": "execute_result"
    }
   ],
   "source": [
    "x_n"
   ]
  },
  {
   "cell_type": "code",
   "execution_count": 130,
   "metadata": {},
   "outputs": [
    {
     "data": {
      "text/plain": [
       "array([45.51498215, 56.97302424, 30.89952981, 23.09017167, 45.14211665,\n",
       "       39.54215777, 64.02142486, 41.50132558, 42.02647725, 36.29954735])"
      ]
     },
     "execution_count": 130,
     "metadata": {},
     "output_type": "execute_result"
    }
   ],
   "source": [
    "x_n[:10]"
   ]
  },
  {
   "cell_type": "code",
   "execution_count": 145,
   "metadata": {},
   "outputs": [
    {
     "data": {
      "text/plain": [
       "(0.0, 0.0)"
      ]
     },
     "execution_count": 145,
     "metadata": {},
     "output_type": "execute_result"
    }
   ],
   "source": [
    "p_n_data = f(x_n,data_mean,data_std)\n",
    "p_n_guess =f(x_n,40,5)\n",
    "\n",
    "np.product(p_n_data),np.product(p_n_guess)"
   ]
  },
  {
   "cell_type": "code",
   "execution_count": 137,
   "metadata": {},
   "outputs": [
    {
     "data": {
      "text/plain": [
       "1.2207905773834402e-18"
      ]
     },
     "execution_count": 137,
     "metadata": {},
     "output_type": "execute_result"
    }
   ],
   "source": [
    "np.product(p_n)"
   ]
  },
  {
   "cell_type": "code",
   "execution_count": 140,
   "metadata": {},
   "outputs": [],
   "source": [
    "# if a<b => log(a) < log(b)\n",
    "a = 0.1\n",
    "b = 0.3\n",
    "np.log(a)\n",
    "np.log(b)"
   ]
  },
  {
   "cell_type": "code",
   "execution_count": 146,
   "metadata": {},
   "outputs": [
    {
     "data": {
      "text/plain": [
       "-3722.134659283682"
      ]
     },
     "execution_count": 146,
     "metadata": {},
     "output_type": "execute_result"
    }
   ],
   "source": [
    "np.sum(np.log(p_n_data))"
   ]
  },
  {
   "cell_type": "code",
   "execution_count": 147,
   "metadata": {},
   "outputs": [
    {
     "data": {
      "text/plain": [
       "-6521.6614402499035"
      ]
     },
     "execution_count": 147,
     "metadata": {},
     "output_type": "execute_result"
    }
   ],
   "source": [
    "np.sum(np.log(p_n_guess))"
   ]
  },
  {
   "cell_type": "code",
   "execution_count": 150,
   "metadata": {},
   "outputs": [],
   "source": [
    "def opt(ms):\n",
    "    p_n_data = f(x_n,ms[0],ms[1])\n",
    "    return -np.sum(np.log(p_n_data))"
   ]
  },
  {
   "cell_type": "code",
   "execution_count": 151,
   "metadata": {},
   "outputs": [
    {
     "data": {
      "text/plain": [
       "3722.134659283682"
      ]
     },
     "execution_count": 151,
     "metadata": {},
     "output_type": "execute_result"
    }
   ],
   "source": [
    "opt([data_mean,data_std])"
   ]
  },
  {
   "cell_type": "code",
   "execution_count": 159,
   "metadata": {},
   "outputs": [],
   "source": [
    "from scipy import optimize,integrate"
   ]
  },
  {
   "cell_type": "code",
   "execution_count": 152,
   "metadata": {},
   "outputs": [
    {
     "data": {
      "text/plain": [
       "      fun: 3722.1346592836935\n",
       " hess_inv: array([[0.09498403, 0.04630181],\n",
       "       [0.04630181, 0.09415597]])\n",
       "      jac: array([0., 0.])\n",
       "  message: 'Optimization terminated successfully.'\n",
       "     nfev: 60\n",
       "      nit: 16\n",
       "     njev: 20\n",
       "   status: 0\n",
       "  success: True\n",
       "        x: array([49.97707363, 10.00611203])"
      ]
     },
     "execution_count": 152,
     "metadata": {},
     "output_type": "execute_result"
    }
   ],
   "source": [
    "optimize.minimize(opt,[40,5])"
   ]
  },
  {
   "cell_type": "code",
   "execution_count": 153,
   "metadata": {},
   "outputs": [
    {
     "data": {
      "text/plain": [
       "(49.977072136195574, 10.006112198037076)"
      ]
     },
     "execution_count": 153,
     "metadata": {},
     "output_type": "execute_result"
    }
   ],
   "source": [
    "data_mean,data_std"
   ]
  },
  {
   "cell_type": "code",
   "execution_count": 167,
   "metadata": {},
   "outputs": [],
   "source": [
    "def P(x):\n",
    "    return np.exp(0.4*(x-0.4)**2 - 0.08*x**4)/norm"
   ]
  },
  {
   "cell_type": "code",
   "execution_count": 168,
   "metadata": {},
   "outputs": [
    {
     "data": {
      "image/png": "[encoded data removed]",
      "text/plain": [
       "<Figure size 432x288 with 1 Axes>"
      ]
     },
     "metadata": {
      "needs_background": "light"
     },
     "output_type": "display_data"
    }
   ],
   "source": [
    "x = np.linspace(-5,5,100)\n",
    "plt.plot(x,P(x),\"k-\")\n",
    "plt.show()"
   ]
  },
  {
   "cell_type": "code",
   "execution_count": 162,
   "metadata": {},
   "outputs": [
    {
     "data": {
      "text/plain": [
       "7.852178178866212"
      ]
     },
     "execution_count": 162,
     "metadata": {},
     "output_type": "execute_result"
    }
   ],
   "source": [
    "norm = integrate.quad(P,-np.infty,np.infty)[0]\n",
    "norm"
   ]
  },
  {
   "cell_type": "code",
   "execution_count": 169,
   "metadata": {},
   "outputs": [
    {
     "data": {
      "text/plain": [
       "2.2539385482880574"
      ]
     },
     "execution_count": 169,
     "metadata": {},
     "output_type": "execute_result"
    }
   ],
   "source": [
    "np.random.rand()*8-4"
   ]
  },
  {
   "cell_type": "code",
   "execution_count": 170,
   "metadata": {},
   "outputs": [
    {
     "data": {
      "text/plain": [
       "0.06388555758286214"
      ]
     },
     "execution_count": 170,
     "metadata": {},
     "output_type": "execute_result"
    }
   ],
   "source": [
    "P(2.2539385482880574)"
   ]
  },
  {
   "cell_type": "code",
   "execution_count": 176,
   "metadata": {},
   "outputs": [
    {
     "name": "stdout",
     "output_type": "stream",
     "text": [
      "To achieve 100000 samples, 807292 numbers were considered.\n"
     ]
    }
   ],
   "source": [
    "N = 100000\n",
    "collected = []\n",
    "\n",
    "N_TOT = 0\n",
    "while(len(collected)< N):\n",
    "    N_TOT += 1\n",
    "    candidate = np.random.rand()*8-4\n",
    "    acceptance_roll = np.random.rand()\n",
    "    if(acceptance_roll < P(candidate)):\n",
    "        collected.append(candidate)\n",
    "print(\"To achieve {:d} samples, {:d} numbers were considered.\".format(N,N_TOT))"
   ]
  },
  {
   "cell_type": "code",
   "execution_count": 178,
   "metadata": {},
   "outputs": [
    {
     "data": {
      "image/png": "[encoded data removed]",
      "text/plain": [
       "<Figure size 432x288 with 1 Axes>"
      ]
     },
     "metadata": {
      "needs_background": "light"
     },
     "output_type": "display_data"
    }
   ],
   "source": [
    "x = np.linspace(-5,5,500)\n",
    "plt.hist(collected,density=True,color=\"red\",\n",
    "         edgecolor=\"black\",bins=40)\n",
    "plt.plot(x,P(x),\"k-\")\n",
    "plt.show()"
   ]
  },
  {
   "cell_type": "markdown",
   "metadata": {},
   "source": [
    "$$f(x) = e^{-x},x\\ge0$$"
   ]
  },
  {
   "cell_type": "code",
   "execution_count": 179,
   "metadata": {},
   "outputs": [],
   "source": [
    "def ff(x):\n",
    "    return np.exp(-x)"
   ]
  },
  {
   "cell_type": "code",
   "execution_count": 181,
   "metadata": {},
   "outputs": [
    {
     "data": {
      "image/png": "[encoded data removed]",
      "text/plain": [
       "<Figure size 432x288 with 1 Axes>"
      ]
     },
     "metadata": {
      "needs_background": "light"
     },
     "output_type": "display_data"
    }
   ],
   "source": [
    "x = np.linspace(0,5,100)\n",
    "plt.plot(x,ff(x))\n",
    "plt.show()"
   ]
  },
  {
   "cell_type": "code",
   "execution_count": null,
   "metadata": {},
   "outputs": [],
   "source": []
  }
 ],
 "metadata": {
  "jupytext": {
   "formats": "ipynb,md:myst"
  },
  "kernelspec": {
   "display_name": "Python 3",
   "language": "python",
   "name": "python3"
  },
  "language_info": {
   "codemirror_mode": {
    "name": "ipython",
    "version": 3
   },
   "file_extension": ".py",
   "mimetype": "text/x-python",
   "name": "python",
   "nbconvert_exporter": "python",
   "pygments_lexer": "ipython3",
   "version": "3.8.3"
  }
 },
 "nbformat": 4,
 "nbformat_minor": 4
}
