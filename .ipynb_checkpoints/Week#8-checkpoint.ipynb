{
 "cells": [
  {
   "cell_type": "code",
   "execution_count": 1,
   "metadata": {},
   "outputs": [],
   "source": [
    "import numpy as np\n",
    "import matplotlib.pyplot as plt\n",
    "np.random.seed(353)"
   ]
  },
  {
   "cell_type": "code",
   "execution_count": 3,
   "metadata": {},
   "outputs": [],
   "source": [
    "N = 100\n",
    "points = np.random.rand(100,2)*2 -1\n",
    "dists = np.sqrt(points[:,0]**2 + points[:,1]**2)\n",
    "\n",
    "points = np.c_[points, dists]"
   ]
  },
  {
   "cell_type": "code",
   "execution_count": 50,
   "metadata": {},
   "outputs": [
    {
     "data": {
      "text/plain": [
       "0.27823667199999996"
      ]
     },
     "execution_count": 50,
     "metadata": {},
     "output_type": "execute_result"
    }
   ],
   "source": [
    "def f(x):\n",
    "    return 1/(np.tan(x) + 4*np.sin(x)**2)\n",
    "\n",
    "\n",
    "N=10000\n",
    "xpoints = np.random.rand(N)*(1.5708 - 0.5) + 0.5\n",
    "ypoints = np.random.rand(N)*(0.7 + 2.1) -2.1\n",
    "\n",
    "curve = f(xpoints)\n",
    "filt_curve = (ypoints>0)&(ypoints<curve)\n",
    "\n",
    "\n",
    "disp = np.c_[xpoints, ypoints, curve, filt_curve]\n",
    "\n",
    "A = (1.5708-0.5)*2.8\n",
    "S1 = A*np.sum(filt_curve)/N\n",
    "\n",
    "S1\n",
    "\n"
   ]
  },
  {
   "cell_type": "code",
   "execution_count": 2,
   "metadata": {},
   "outputs": [],
   "source": [
    "def monte_carlo_integration(function,x0,x1, N):\n",
    "    \n",
    "    xvals = np.linspace(x0, x1, N)\n",
    "    xpoints = np.random.rand(N)*(x1 - x0) + x0\n",
    "    curve = function(xvals)\n",
    "    y0 = np.amin(curve)\n",
    "    y1 = np.amax(curve)\n",
    "    ypoints = np.random.rand(N)*(y1 - y0) + y0\n",
    "    plt.plot(xvals, curve)\n",
    "    plt.plot(xvals, ypoints, 'o')\n",
    "    plt.show()\n",
    "    \n",
    "    A = np.abs(np.abs(x1 - x0)*np.abs(y1 - y0))\n",
    "    \n",
    "    \n",
    "    py = ypoints*(ypoints>0)\n",
    "    ny = ypoints*(ypoints<0)\n",
    "    \n",
    "    py_in_curve = (py<curve) & (py!=0)\n",
    "    ny_in_curve = (ny>curve) & (ny!=0)\n",
    "    \n",
    "    S = A*np.abs(np.sum(py_in_curve)-np.sum(ny_in_curve))/N\n",
    "    \n",
    "    return S"
   ]
  },
  {
   "cell_type": "code",
   "execution_count": 165,
   "metadata": {},
   "outputs": [
    {
     "data": {
      "text/plain": [
       "0.27083279138270083"
      ]
     },
     "execution_count": 165,
     "metadata": {},
     "output_type": "execute_result"
    }
   ],
   "source": [
    "res = monte_carlo_integration(f, 0.5, 1.5708, 10000)\n",
    "res"
   ]
  },
  {
   "cell_type": "code",
   "execution_count": 152,
   "metadata": {},
   "outputs": [
    {
     "ename": "SyntaxError",
     "evalue": "invalid syntax (<ipython-input-152-4b870ddc896a>, line 7)",
     "output_type": "error",
     "traceback": [
      "\u001b[0;36m  File \u001b[0;32m\"<ipython-input-152-4b870ddc896a>\"\u001b[0;36m, line \u001b[0;32m7\u001b[0m\n\u001b[0;31m    err = real_val -\u001b[0m\n\u001b[0m                    ^\u001b[0m\n\u001b[0;31mSyntaxError\u001b[0m\u001b[0;31m:\u001b[0m invalid syntax\n"
     ]
    }
   ],
   "source": [
    "results = np.array()\n",
    "errs = np.array()\n",
    "\n",
    "for N in [50, 100, 1000, 10000]:\n",
    "    res = monte_carlo_integration(f, 0.5, 1.8, -2.1, 0.7, N)\n",
    "    real_val = 0.18208486320757578\n",
    "    err = real_val -\n",
    "    "
   ]
  },
  {
   "cell_type": "code",
   "execution_count": 167,
   "metadata": {},
   "outputs": [
    {
     "data": {
      "image/png": "[encoded data removed]",
      "text/plain": [
       "<Figure size 432x288 with 1 Axes>"
      ]
     },
     "metadata": {
      "needs_background": "light"
     },
     "output_type": "display_data"
    }
   ],
   "source": [
    "xvals = np.linspace(0.5,1.5708, 1000)\n",
    "plt.plot(xvals, f(xvals))\n",
    "plt.show()\n"
   ]
  },
  {
   "cell_type": "code",
   "execution_count": 168,
   "metadata": {},
   "outputs": [
    {
     "data": {
      "image/png": "[encoded data removed]",
      "text/plain": [
       "<Figure size 432x288 with 1 Axes>"
      ]
     },
     "metadata": {
      "needs_background": "light"
     },
     "output_type": "display_data"
    }
   ],
   "source": [
    "\n"
   ]
  },
  {
   "cell_type": "code",
   "execution_count": null,
   "metadata": {},
   "outputs": [],
   "source": []
  }
 ],
 "metadata": {
  "kernelspec": {
   "display_name": "Python 3",
   "language": "python",
   "name": "python3"
  },
  "language_info": {
   "codemirror_mode": {
    "name": "ipython",
    "version": 3
   },
   "file_extension": ".py",
   "mimetype": "text/x-python",
   "name": "python",
   "nbconvert_exporter": "python",
   "pygments_lexer": "ipython3",
   "version": "3.8.5"
  }
 },
 "nbformat": 4,
 "nbformat_minor": 4
}
