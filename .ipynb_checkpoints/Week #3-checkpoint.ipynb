{
 "cells": [
  {
   "cell_type": "code",
   "execution_count": 1,
   "metadata": {},
   "outputs": [],
   "source": [
    "import numpy as np\n",
    "import matplotlib.pyplot as plt\n"
   ]
  },
  {
   "cell_type": "code",
   "execution_count": 2,
   "metadata": {
    "scrolled": true
   },
   "outputs": [
    {
     "name": "stdout",
     "output_type": "stream",
     "text": [
      "poly([ 2.00e-01  2.50e+01 -2.00e+02  6.75e+02 -9.00e+02  4.00e+02])\n"
     ]
    }
   ],
   "source": [
    "p = np.polynomial.Polynomial([0.2, 25,-200,675,-900,400])\n",
    "\n",
    "print(p)"
   ]
  },
  {
   "cell_type": "code",
   "execution_count": 3,
   "metadata": {},
   "outputs": [
    {
     "data": {
      "image/png": "[encoded data removed]",
      "text/plain": [
       "<Figure size 432x288 with 1 Axes>"
      ]
     },
     "metadata": {
      "needs_background": "light"
     },
     "output_type": "display_data"
    }
   ],
   "source": [
    "x = np.linspace(0,0.8,600)\n",
    "plot = plt.plot(x,p(x))"
   ]
  },
  {
   "cell_type": "code",
   "execution_count": 4,
   "metadata": {},
   "outputs": [
    {
     "name": "stdout",
     "output_type": "stream",
     "text": [
      "0.012800000000001999 99.21976592962028\n"
     ]
    }
   ],
   "source": [
    "true_int = 1.640533333\n",
    "\n",
    "mean1 = np.abs(p(0.8) - p(0))/2\n",
    "int1 = mean1*(0.8)\n",
    "\n",
    "precent_error = np.abs(true_int - int1)/true_int*100\n",
    "print(int1, precent_error)"
   ]
  },
  {
   "cell_type": "code",
   "execution_count": 5,
   "metadata": {},
   "outputs": [
    {
     "name": "stdout",
     "output_type": "stream",
     "text": [
      "i = 2,\n",
      "our int = 0.34560000000000407,\n",
      "error=78.93368009975057\n",
      "\n",
      "\n",
      "\n",
      "i = 3,\n",
      "our int = 1.1552000000000018,\n",
      "error=29.58387514824109\n",
      "\n",
      "\n",
      "\n",
      "i = 4,\n",
      "our int = 1.4271736625514437,\n",
      "error=13.005506572572415\n",
      "\n",
      "\n",
      "\n",
      "i = 5,\n",
      "our int = 1.527999999999999,\n",
      "error=6.859557848435446\n",
      "\n",
      "\n",
      "\n",
      "i = 6,\n",
      "our int = 1.5744409599999993,\n",
      "error=4.02871259428416\n",
      "\n",
      "\n",
      "\n",
      "i = 7,\n",
      "our int = 1.5990650205761328,\n",
      "error=2.5277336089255362\n",
      "\n",
      "\n",
      "\n",
      "i = 8,\n",
      "our int = 1.6134290712203254,\n",
      "error=1.652161601014822\n",
      "\n",
      "\n",
      "\n",
      "i = 9,\n",
      "our int = 1.6223999999999987,\n",
      "error=1.1053315793859158\n",
      "\n",
      "\n",
      "\n"
     ]
    }
   ],
   "source": [
    "int_a = 0\n",
    "int_b = 0.8\n",
    "true_int = 1.640533333\n",
    "\n",
    "for i in range(2, 10):\n",
    "    \n",
    "    xvals = np.linspace(int_a, int_b, i)\n",
    "    \n",
    "    means_fip1_fi = 0\n",
    "    for element in range(i):\n",
    "        means_fip1_fi += (p(xvals[element]) + p(xvals[element-1]))/2\n",
    "        \n",
    "    \n",
    "    mean_i = means_fip1_fi/(i-1)\n",
    "    int_i = mean_i*(int_b - int_a)\n",
    "    precent_err = np.abs(true_int - int_i)/true_int*100\n",
    "    print(f\"i = {i},\\nour int = {int_i},\\nerror={precent_err}\\n\\n\\n\")\n",
    "    \n",
    "    \n",
    "    "
   ]
  },
  {
   "cell_type": "code",
   "execution_count": 6,
   "metadata": {},
   "outputs": [
    {
     "name": "stdout",
     "output_type": "stream",
     "text": [
      "i = 2,\n",
      "our int = 0.34560000000000407,\n",
      "error=78.93368009975057\n",
      "\n",
      "\n",
      "\n",
      "i = 3,\n",
      "our int = 1.2416000000000027,\n",
      "error=24.317295173178742\n",
      "\n",
      "\n",
      "\n",
      "i = 4,\n",
      "our int = 1.5423736625514453,\n",
      "error=5.983399939155932\n",
      "\n",
      "\n",
      "\n",
      "i = 5,\n",
      "our int = 1.6576000000000006,\n",
      "error=1.0403121141580967\n",
      "\n",
      "\n",
      "\n",
      "i = 6,\n",
      "our int = 1.712680960000001,\n",
      "error=4.397815365815611\n",
      "\n",
      "\n",
      "\n",
      "i = 7,\n",
      "our int = 1.7430650205761344,\n",
      "error=6.249899682845054\n",
      "\n",
      "\n",
      "\n",
      "i = 8,\n",
      "our int = 1.7615433569346126,\n",
      "error=7.37626121337777\n",
      "\n",
      "\n",
      "\n",
      "i = 9,\n",
      "our int = 1.7736000000000005,\n",
      "error=8.111183376973205\n",
      "\n",
      "\n",
      "\n"
     ]
    }
   ],
   "source": [
    "int_a = 0\n",
    "int_b = 0.8\n",
    "true_int = 1.640533333\n",
    "\n",
    "for i in range(2, 10):\n",
    "    \n",
    "    xvals = np.linspace(int_a, int_b, i)\n",
    "    \n",
    "    means_fip1_fi = 0\n",
    "    for element in range(i):\n",
    "        means_fip1_fi += np.abs(xvals[element]-xvals[element-1])*(p(xvals[element]) + p(xvals[element-1]))/2\n",
    "        \n",
    "    \n",
    "    mean_i = means_fip1_fi\n",
    "    int_i = mean_i\n",
    "    precent_err = np.abs(true_int - int_i)/true_int*100\n",
    "    print(f\"i = {i},\\nour int = {int_i},\\nerror={precent_err}\\n\\n\\n\")"
   ]
  },
  {
   "cell_type": "code",
   "execution_count": 21,
   "metadata": {},
   "outputs": [
    {
     "name": "stdout",
     "output_type": "stream",
     "text": [
      "1.0688000000000009 34.85045512330343\n"
     ]
    }
   ],
   "source": [
    "n = 3\n",
    "xvalsn = np.linspace(0, 0.8, n)\n",
    "mean_n = 0\n",
    "\n",
    "int_n = 0\n",
    "for i in range(1, n):\n",
    "    mean_n = (p(xvalsn[i]) + p(xvalsn[i-1]))/2\n",
    "    int_n += mean_n * (xvalsn[i] - xvalsn[i-1])\n",
    "    \n",
    "err = np.abs(true_int - int_n)/true_int*100\n",
    "    \n",
    "print(int_n, err)"
   ]
  },
  {
   "cell_type": "code",
   "execution_count": 22,
   "metadata": {},
   "outputs": [
    {
     "name": "stdout",
     "output_type": "stream",
     "text": [
      "1.0688000000000006 34.850455123303455\n"
     ]
    }
   ],
   "source": [
    "n = 3\n",
    "mean_n = 0\n",
    "xvalsn = np.linspace(0, 0.8, n)\n",
    "\n",
    "for i in range(1, n):\n",
    "    mean_n += (p(xvalsn[i]) + p(xvalsn[i-1]))/2\n",
    "    \n",
    "int_n = mean_n/(n-1) * (0.8 - 0)\n",
    "    \n",
    "err = np.abs(true_int - int_n)/true_int*100\n",
    "    \n",
    "print(int_n, err)\n",
    "    "
   ]
  },
  {
   "cell_type": "markdown",
   "metadata": {},
   "source": [
    "# Simpson's Rule Method"
   ]
  },
  {
   "cell_type": "markdown",
   "metadata": {},
   "source": [
    "Chapra pg 611"
   ]
  },
  {
   "cell_type": "code",
   "execution_count": 26,
   "metadata": {},
   "outputs": [
    {
     "data": {
      "text/plain": [
       "16.644993481112856"
      ]
     },
     "execution_count": 26,
     "metadata": {},
     "output_type": "execute_result"
    }
   ],
   "source": [
    "xvals = np.linspace(0,0.8,3)\n",
    "h = xvals[1] - xvals[0]\n",
    "int_s = (h/3)*(p(xvals[0]) + 4*p(xvals[1]) + p(xvals[2]))\n",
    "\n",
    "err = np.abs(true_int - int_s)/true_int*100\n",
    "\n"
   ]
  },
  {
   "cell_type": "markdown",
   "metadata": {},
   "source": []
  },
  {
   "cell_type": "code",
   "execution_count": 49,
   "metadata": {},
   "outputs": [
    {
     "name": "stdout",
     "output_type": "stream",
     "text": [
      "i1 = 1\n",
      "i1 = 3\n",
      "i1 = 5\n",
      "i1 = 7\n",
      "i1 = 9\n",
      "i1 = 11\n",
      "i1 = 13\n",
      "i2 = 2\n",
      "i2 = 4\n",
      "i2 = 6\n",
      "i2 = 8\n",
      "i2 = 10\n",
      "i2 = 12\n",
      "i2 = 14\n"
     ]
    },
    {
     "data": {
      "text/plain": [
       "1.6240290989865331"
      ]
     },
     "execution_count": 49,
     "metadata": {},
     "output_type": "execute_result"
    }
   ],
   "source": [
    "n = 15\n",
    "x = np.linspace(0,0.8,n)\n",
    "h = x[1] - x[0]\n",
    "\n",
    "f2i = 0\n",
    "f2m1i = 0\n",
    "for i in range(1,n-1,2):\n",
    "    print(f\"i1 = {i}\")\n",
    "    f2m1i += p(x[i])\n",
    "    \n",
    "for i in range(2,n,2):\n",
    "    print(f\"i2 = {i}\")\n",
    "    f2i += p(x[i])\n",
    "    \n",
    "int_s = (h/3)*(p(x[0]) + 2*f2m1i + 4*f2i + p(x[n-1]))\n",
    "\n",
    "int_s"
   ]
  },
  {
   "cell_type": "markdown",
   "metadata": {},
   "source": [
    "Richardson extrapolation"
   ]
  },
  {
   "cell_type": "code",
   "execution_count": null,
   "metadata": {},
   "outputs": [],
   "source": []
  }
 ],
 "metadata": {
  "kernelspec": {
   "display_name": "Python 3",
   "language": "python",
   "name": "python3"
  },
  "language_info": {
   "codemirror_mode": {
    "name": "ipython",
    "version": 3
   },
   "file_extension": ".py",
   "mimetype": "text/x-python",
   "name": "python",
   "nbconvert_exporter": "python",
   "pygments_lexer": "ipython3",
   "version": "3.8.5"
  }
 },
 "nbformat": 4,
 "nbformat_minor": 4
}
