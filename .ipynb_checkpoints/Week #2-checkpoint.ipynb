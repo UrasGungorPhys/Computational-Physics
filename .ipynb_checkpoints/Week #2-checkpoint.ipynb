{
 "cells": [
  {
   "cell_type": "code",
<<<<<<< HEAD
   "execution_count": 10,
=======
   "execution_count": 1,
   "metadata": {},
   "outputs": [],
   "source": [
    "import numpy as np"
   ]
  },
  {
   "cell_type": "code",
   "execution_count": 28,
   "metadata": {},
   "outputs": [],
   "source": [
    "a = 9\n",
    "x = 0.14"
   ]
  },
  {
   "cell_type": "code",
   "execution_count": 29,
>>>>>>> master
   "metadata": {},
   "outputs": [
    {
     "name": "stdout",
     "output_type": "stream",
     "text": [
<<<<<<< HEAD
      "0 0.1\n",
      "0 0.2\n",
      "0 0.4\n",
      "0 0.8\n",
      "0 1.6\n",
      "0 3.2\n",
      "0 6.4\n",
      "0 12.8\n",
      "0 25.6\n",
      "0 51.2\n",
      "1 0.0975\n",
      "1 0.18549375\n",
      "1 0.3365795687109375\n",
      "1 0.5598733313482344\n",
      "1 0.8062885155414989\n",
      "1 0.9624758607888839\n",
      "1 0.9985919389764648\n",
      "1 0.999998017364154\n",
      "1 0.9999999999960693\n",
      "1 0.9999999999999999\n",
      "2 0.095\n",
      "2 0.17195000000000002\n",
      "2 0.284766395\n",
      "2 0.407348990557408\n",
      "2 0.4828315808985375\n",
      "2 0.4994104907711131\n",
      "2 0.4999993049577381\n",
      "2 0.4999999999990339\n",
      "2 0.5\n",
      "2 0.5\n",
      "3 0.09250000000000001\n",
      "3 0.15933125\n",
      "3 0.24250315832031252\n",
      "3 0.30858297125464534\n",
      "3 0.33149559206425483\n",
      "3 0.33332320145441713\n",
      "3 0.33333333302536844\n",
      "3 0.33333333333333337\n",
      "3 0.33333333333333337\n",
      "3 0.33333333333333337\n",
      "4 0.09000000000000001\n",
      "4 0.1476\n",
      "4 0.20805696\n",
      "4 0.2429631255822336\n",
      "4 0.24980192959371433\n",
      "4 0.24999984307245662\n",
      "4 0.24999999999990152\n",
      "4 0.25\n",
      "4 0.25\n",
      "4 0.25\n",
      "5 0.08750000000000001\n",
      "5 0.13671875\n",
      "5 0.1799774169921875\n",
      "5 0.1979954808484763\n",
      "5 0.19997990951485586\n",
      "5 0.19999999798186202\n",
      "5 0.19999999999999996\n",
      "5 0.2\n",
      "5 0.2\n",
      "5 0.2\n",
      "6 0.085\n",
      "6 0.12665\n",
      "6 0.15705866500000001\n",
      "6 0.16611278449050665\n",
      "6 0.16666482595387624\n",
      "6 0.1666666666463373\n",
      "6 0.16666666666666669\n",
      "6 0.16666666666666669\n",
      "6 0.16666666666666669\n",
      "6 0.16666666666666669\n",
      "7 0.0825\n",
      "7 0.11735625\n",
      "7 0.1383050741015625\n",
      "7 0.14271209354745415\n",
      "7 0.14285699558202716\n",
      "7 0.14285714285699103\n",
      "7 0.14285714285714285\n",
      "7 0.14285714285714285\n",
      "7 0.14285714285714285\n",
      "7 0.14285714285714285\n",
      "8 0.08000000000000002\n",
      "8 0.10880000000000001\n",
      "8 0.12290048\n",
      "8 0.1249647361261568\n",
      "8 0.12499999005167362\n",
      "8 0.12499999999999921\n",
      "8 0.12499999999999999\n",
      "8 0.12499999999999999\n",
      "8 0.12499999999999999\n",
      "8 0.12499999999999999\n",
      "9 0.07750000000000001\n",
      "9 0.10094375\n",
      "9 0.1101807340234375\n",
      "9 0.1111033206973837\n",
      "9 0.11111111056489618\n",
      "9 0.1111111111111111\n",
      "9 0.1111111111111111\n",
      "9 0.1111111111111111\n",
      "9 0.1111111111111111\n",
      "9 0.1111111111111111\n"
=======
      "0.14\n",
      "0.10359999999999998\n",
      "0.11060336\n",
      "0.11110879081039358\n",
      "0.11111111106265696\n",
      "0.11111111111111112\n",
      "0.11111111111111112\n",
      "0.11111111111111112\n",
      "0.11111111111111112\n",
      "0.11111111111111112\n",
      "0.11111111111111112\n",
      "0.11111111111111112\n",
      "0.11111111111111112\n",
      "0.11111111111111112\n",
      "0.11111111111111112\n",
      "0.11111111111111112\n",
      "0.11111111111111112\n",
      "0.11111111111111112\n",
      "0.11111111111111112\n",
      "0.11111111111111112\n",
      "0.11111111111111112\n"
>>>>>>> master
     ]
    }
   ],
   "source": [
<<<<<<< HEAD
    "import numpy as np\n",
    "import matplotlib.pyplot as plt\n",
    "\n",
    "x0 = 0.05\n",
    "x_np1 = 0\n",
    "for a0 in range(0,10):\n",
    "    x_n = x0\n",
    "    for i in range(0,10):\n",
    "        \n",
    "        x_n = x_n * (2-a0*x_n)\n",
    "        x_n\n",
    "        print(a0, x_n)\n",
    "\n",
    "\n",
    "    "
=======
    "print(x)\n",
    "for i in range(20):\n",
    "    x = x*(2-a*x)\n",
    "    print(x)"
   ]
  },
  {
   "attachments": {
    "image.png": {
     "image/png": "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"
    }
   },
   "cell_type": "markdown",
   "metadata": {},
   "source": [
    "![image.png](attachment:image.png)\n",
    "[Source: Grady Wright Lecture Notes](https://www.math.utah.edu/mathcircle/notes/non_linear_root_finding.pdf)"
   ]
  },
  {
   "cell_type": "markdown",
   "metadata": {},
   "source": [
    "Kepler's laws of planetary motion:\n",
    "\n",
    "$$x=a(\\cos E -e)\\\\y=a\\sqrt{1-e^2}\\sin E$$\n",
    "\n",
    "Eccentricity: $e = \\sqrt{1-\\frac{b^2}{a^2}}$\n",
    "\n",
    "Eccentric anomaly: $E=\\omega t + e\\sin E$\n",
    "\n"
   ]
  },
  {
   "cell_type": "markdown",
   "metadata": {},
   "source": [
    "# Bisection Method"
   ]
  },
  {
   "cell_type": "markdown",
   "metadata": {},
   "source": [
    "$f(x) = x^2 -2$"
   ]
  },
  {
   "cell_type": "markdown",
   "metadata": {},
   "source": [
    "$x = 1 + 0.3\\cos x$"
   ]
  },
  {
   "attachments": {
    "image.png": {
     "image/png": "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"
    }
   },
   "cell_type": "markdown",
   "metadata": {},
   "source": [
    "# Secant Method\n",
    "![image.png](attachment:image.png)\n",
    "[Source: Grady Wright Lecture Notes](https://www.math.utah.edu/mathcircle/notes/non_linear_root_finding.pdf)"
   ]
  },
  {
   "cell_type": "markdown",
   "metadata": {},
   "source": [
    "$$x_0 \\mapsto f(x_0)\\\\\n",
    "x_1 \\mapsto f(x_1)\\\\\n",
    "\\frac{f(x_1) - f(x_0)}{x_1 - x_0}(x_2 - x_1)+f(x_1) = 0\\\\\n",
    "\\rightarrow x_2 = -f(x_1)\\frac{x_1 - x_0}{f(x_1) - f(x_0)} + x_1\\\\\n",
    "x_2 =x_1-\\frac{x_1 - x_0}{f(x_1) - f(x_0)}f(x_1) $$\n",
    "\n",
    "\n",
    "$$\\boxed {x_{n+1} = x_n-\\frac{x_n - x_{n-1}}{f(x_n) - f(x_{n-1})}f(x_n) }$$"
   ]
  },
  {
   "cell_type": "markdown",
   "metadata": {},
   "source": [
    "$h_n \\equiv x_{n-1} - x_{n}\\rightarrow x_{n-1} = x_n + h$\n",
    "\n",
    "$$\\begin{align*}x_{n+1} &= x_n-\\frac{\\overbrace{x_n - x_{n-1}}^{-h_n}}{\\underbrace{f(x_n) - f(x_{n-1})}_{f(x_n) - f(x_n + h)}}f(x_n)\\\\\n",
    "&=x_n-\\frac{-h}{f(x_n) - f(x_n + h)}f(x_n)\\\\\n",
    "&=x_n-\\frac{f(x_n)}{\\frac{f(x_n+h)-f(x_n)}{h_n}}\n",
    "\\end{align*}$$\n",
    "\n",
    "In the limit where $h_n \\rightarrow 0$, the denominator is the derivative of $f(x)$ at $x_n$:\n",
    "$$x_{n+1} = x_n - \\frac{f(x_n)}{f'(x_n)}$$"
   ]
  },
  {
   "cell_type": "markdown",
   "metadata": {},
   "source": [
    "# Fixed point iteration\n",
    "\n",
    "$$x = f(x)$$\n",
    "<hr>\n",
    "$$x_1 = f(x_0)\\\\\n",
    "x_2 = f(x_1)\\\\\n",
    "x_3 = f(x_2)\\\\\n",
    "\\vdots\\\\\n",
    "x_{n+1} = f(x_n)\\\\\n",
    "\\vdots$$"
   ]
  },
  {
   "cell_type": "markdown",
   "metadata": {},
   "source": [
    "$$f(x) = x^2 - a = 0 \\quad(a>0)$$\n",
    "\n",
    "$$x = x - a+x^2\\\\\n",
    "x = \\frac{a}{x}\\\\\n",
    "x=x+1-\\frac{1}{a}x^2\\\\\n",
    "x = \\frac{1}{2}\\left(x+\\frac{a}{x}\\right)$$"
   ]
  },
  {
   "cell_type": "markdown",
   "metadata": {},
   "source": [
    "# Reference\n",
    "* Grady Wright, \"[Nonlinear Root Finding](https://www.math.utah.edu/mathcircle/notes/non_linear_root_finding.pdf)\", University of Utah, Math Circle Notes"
>>>>>>> master
   ]
  },
  {
   "cell_type": "code",
   "execution_count": null,
   "metadata": {},
   "outputs": [],
   "source": []
  }
 ],
 "metadata": {
  "kernelspec": {
   "display_name": "Python 3",
   "language": "python",
   "name": "python3"
  },
  "language_info": {
   "codemirror_mode": {
    "name": "ipython",
    "version": 3
   },
   "file_extension": ".py",
   "mimetype": "text/x-python",
   "name": "python",
   "nbconvert_exporter": "python",
   "pygments_lexer": "ipython3",
<<<<<<< HEAD
   "version": "3.8.5"
=======
   "version": "3.8.3"
>>>>>>> master
  }
 },
 "nbformat": 4,
 "nbformat_minor": 4
}
