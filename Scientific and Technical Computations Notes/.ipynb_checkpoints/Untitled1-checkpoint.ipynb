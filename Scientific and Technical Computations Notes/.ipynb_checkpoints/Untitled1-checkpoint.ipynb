{
 "cells": [
  {
   "cell_type": "code",
   "execution_count": 1,
   "metadata": {},
   "outputs": [],
   "source": [
    "import numpy as np"
   ]
  },
  {
   "cell_type": "code",
   "execution_count": 27,
   "metadata": {},
   "outputs": [],
   "source": [
    "outcomes = [1, 0.5, 0]\n",
    "players = np.array(np.arange(1,1001))\n",
    "\n",
    "groupA = players[0:500]\n",
    "groupB = players[500:1000]\n",
    "winners = []\n",
    "losers = []\n",
    "draws = []\n",
    "\n",
    "# Round 1:\n",
    "\n",
    "for i in range(len(groupA)):\n",
    "    \n",
    "    outcome = np.random.choice(outcomes)\n",
    "\n",
    "    if outcome == 1:\n",
    "        winners.append(groupA[i])\n",
    "        losers.append(groupB[i])\n",
    "        \n",
    "\n",
    "    elif outcome == 0.5:\n",
    "        draws.append(groupA[i])\n",
    "        draws.append(groupB[i])\n",
    "\n",
    "    else:\n",
    "        winners.append(groupB[i])\n",
    "        losers.append(groupA[i])\n",
    "\n",
    "            "
   ]
  },
  {
   "cell_type": "code",
   "execution_count": 32,
   "metadata": {},
   "outputs": [
    {
     "name": "stdout",
     "output_type": "stream",
     "text": [
      "322\n",
      "322\n",
      "356\n"
     ]
    }
   ],
   "source": [
    "print(len(winners))\n",
    "print(len(losers))\n",
    "print(len(draws))"
   ]
  }
 ],
 "metadata": {
  "kernelspec": {
   "display_name": "Python 3",
   "language": "python",
   "name": "python3"
  },
  "language_info": {
   "codemirror_mode": {
    "name": "ipython",
    "version": 3
   },
   "file_extension": ".py",
   "mimetype": "text/x-python",
   "name": "python",
   "nbconvert_exporter": "python",
   "pygments_lexer": "ipython3",
   "version": "3.8.3"
  }
 },
 "nbformat": 4,
 "nbformat_minor": 4
}
