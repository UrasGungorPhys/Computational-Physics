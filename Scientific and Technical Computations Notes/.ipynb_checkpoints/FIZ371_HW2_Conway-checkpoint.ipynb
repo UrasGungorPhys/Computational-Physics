{
 "cells": [
  {
   "cell_type": "markdown",
   "metadata": {},
   "source": [
    "# Question 1:"
   ]
  },
  {
   "cell_type": "markdown",
   "metadata": {},
   "source": [
    "## Part A:"
   ]
  },
  {
   "cell_type": "markdown",
   "metadata": {},
   "source": [
    "With an 18-sided dice there are 18 outcomes from 1 to 18, and the probabilities of all outcomes are equal to $\\frac{1}{18}$  \n",
    "With 3 6-sided die there are 16 outcomes from 3 to 18, but probabilities differ.  \n",
    "\n",
    "If we are playing a game of survival when the tossed value is higher than 1 player survives:  \n",
    "- Probability of survival with 18 sided die = $\\frac{17}{18}$\n",
    "- Probability of survival with 3 6-sided dice = 1\n",
    "\n",
    "If we are playing a game of survival when the tossed value is higher than 17 player survives:  \n",
    "- Probability of survival with 18 sided die = $\\frac{1}{18}$ \n",
    "- Probability of survival with 3 6-sided dice = $\\frac{1}{216}$\n",
    "\n",
    "So, at the lower end 3 6-sided dice is more advantegous but at the higher end 18-sided die is more advantegous. There most be a critical point where advantage of one goes from one to the other. "
   ]
  },
  {
   "cell_type": "markdown",
   "metadata": {},
   "source": [
    "First we should calculate the probabilities of outcomes of 3 6-sided dice:  \n",
    "Probability of tossing 3 is $ P(3) = \\frac{1}{216}$ because there is only 1 possible outcome which is 1-1-1  \n",
    "Probability of tossing 18 is $ P(18) = \\frac{1}{216}$ because there is only 1 possible outcome which is 6-6-6  \n",
    "Probability of tossing 4 is $ P(4) = \\frac{3}{216}$ because there is only 3 possible outcome which are the permutations of 1-1-2   \n",
    "Probability of tossing 17 is $ P(17) = \\frac{3}{216}$ because there is only 3 possible outcome which are the permutations of 5-6-6    "
   ]
  },
  {
   "cell_type": "markdown",
   "metadata": {},
   "source": [
    "From this point we can easily understand that it will be totally symmetrical so we only have to calculate the probabilites between 3 and 10. Rest will be known because of symmetry.  \n",
    "As the number goes higher it will be harder to calculate all the outcomes one by one so the approach in [1] can be used which is:"
   ]
  },
  {
   "cell_type": "markdown",
   "metadata": {},
   "source": [
    "Tossing 3 can be symbolised as 3 boxes (◻◻◻) and we should divide those boxes to 3 of our dice like:  \n",
    "◻|◻|◻  \n",
    "For 3 there is only one way to divide because there are two places to place the dividers (|) and there are two dividers which means $N(3) = {2 \\choose 2} = 1$  where N is the number of ways to obtain that number between the total of 216 ways.\n",
    "To toss 4 there are 3 ways to divide the boxes:  \n",
    "◻|◻|◻◻ , ◻|◻◻|◻  , ◻◻|◻|◻  \n",
    "Because there are 3 places to place the 2 dividers: $N(4) = {3 \\choose 2} = 3$ \n",
    "This easily goes on like this until 9:    \n",
    "$N(5) = {4 \\choose 2} = 6$  \n",
    "$N(6) = {5 \\choose 2} = 10$  \n",
    "$N(7) = {6 \\choose 2} = 15$  \n",
    "$N(8) = {7 \\choose 2} = 21$"
   ]
  },
  {
   "cell_type": "markdown",
   "metadata": {},
   "source": [
    "$N(9) = {8 \\choose 2} - {^3P_3} = 28 - 3 = 25$  \n",
    "$N(10) = {9 \\choose 2} - {^3P_2} - {^3P_3}= 36 - 6 - 3 = 27$"
   ]
  },
  {
   "cell_type": "markdown",
   "metadata": {},
   "source": [
    "The rest can be calculated from symmetry and the probability of them can be calculated by dividing all with 216 then all of this can be put to a table together with the possibilities of 18-sided die:"
   ]
  },
  {
   "cell_type": "markdown",
   "metadata": {},
   "source": [
    "Outcome | possibility with 3 6-sided dice | possibility with a 18-sided die\n",
    "-|-|-\n",
    "1|0|$\\frac{1}{18}$\n",
    "2|0|$\\frac{1}{18}$\n",
    "3|$\\frac{1}{216}$|$\\frac{1}{18}$\n",
    "4|$\\frac{3}{216}$|$\\frac{1}{18}$\n",
    "5|$\\frac{6}{216}$|$\\frac{1}{18}$\n",
    "6|$\\frac{10}{216}$|$\\frac{1}{18}$\n",
    "7|$\\frac{15}{216}$|$\\frac{1}{18}$\n",
    "8|$\\frac{21}{216}$|$\\frac{1}{18}$\n",
    "9|$\\frac{25}{216}$|$\\frac{1}{18}$\n",
    "10|$\\frac{27}{216}$|$\\frac{1}{18}$\n",
    "11|$\\frac{27}{216}$|$\\frac{1}{18}$\n",
    "12|$\\frac{25}{216}$|$\\frac{1}{18}$\n",
    "13|$\\frac{21}{216}$|$\\frac{1}{18}$\n",
    "14|$\\frac{15}{216}$|$\\frac{1}{18}$\n",
    "15|$\\frac{10}{216}$|$\\frac{1}{18}$\n",
    "16|$\\frac{6}{216}$|$\\frac{1}{18}$\n",
    "17|$\\frac{3}{216}$|$\\frac{1}{18}$\n",
    "18|$\\frac{1}{216}$|$\\frac{1}{18}$"
   ]
  },
  {
   "cell_type": "markdown",
   "metadata": {},
   "source": [
    "From the table it can easily be calculated that possibility of tossing a higher number than 10 is equal to:  \n",
    "- $\\frac{108}{216} = 0.5$ with 3 6-sided dice  \n",
    "- $\\frac{8}{18} = 0.44$ with a 18-sided die  \n",
    "So  6-sided dice is more advantageous.  \n",
    "\n",
    "Possibility of tossing a higher number than 10 is equal to:\n",
    "- $\\frac{81}{216} = 0.375$ with 3 6-sided dice  \n",
    "- $\\frac{7}{18} = 0.3888$ with a 18-sided die  \n",
    "\n",
    "So  18-sided die is more advantageous.\n",
    "\n",
    "Thus critical value is 10 and 11."
   ]
  },
  {
   "cell_type": "markdown",
   "metadata": {},
   "source": [
    "## Part B:"
   ]
  },
  {
   "cell_type": "markdown",
   "metadata": {},
   "source": [
    "The set of probabilities in our system is:"
   ]
  },
  {
   "cell_type": "markdown",
   "metadata": {},
   "source": [
    "$$\n",
    "P(A\\,|B) = \\frac{P(B\\,|A)\\, P(A)}{P(B)}\n",
    "$$\n",
    "\n",
    "Where, $P(A)$ is the marginal probability of picking the right number out of all the possible combinations,  \n",
    "\n",
    "$P(B)$ is the marginal probability of getting a busy tone when calling a number,\n",
    "\n",
    "$P(B|A) = 1$, since we will always get a busy tone if we've managed to dial our own number,\n",
    "\n",
    "And $P(A|B)$ is the probability that we indeed got the right number when we got the busy tone."
   ]
  },
  {
   "cell_type": "markdown",
   "metadata": {},
   "source": [
    "### Let's start from the tip of the iceberg?"
   ]
  },
  {
   "cell_type": "markdown",
   "metadata": {},
   "source": [
    "We can hit it and start sinking later. For now, assuming the phone numbers use all combinations of the four digits, ranging from 0000 to 9999, we will have 10000 combinations to pick from, making our default and dull $P(A)$ value 1/10000. \n",
    "\n",
    "Next, for $P(B)$, we are going to assume we get busy tones for all the numbers that aren't in use (if we don't make this assumption things seem to fall apart, as it is really difficult to make $P(B)$ > $P(A)$, which we require), and there will be at least 9000 of them since the company has 1000 workers, along with the numbers that are currently in a call, and of course our own number. Through this, we know $P(B)$ has to be at least 9001/10000, as that would be the situation with no calls happening elsewhere."
   ]
  },
  {
   "cell_type": "markdown",
   "metadata": {},
   "source": [
    "$$\n",
    "P(A|B) = \\frac{1/10000}{9001/10000}\n",
    "$$\n"
   ]
  },
  {
   "cell_type": "code",
   "execution_count": 28,
   "metadata": {},
   "outputs": [
    {
     "name": "stdout",
     "output_type": "stream",
     "text": [
      "The not-so-estimated probability is: 0.00011109876680368848\n"
     ]
    }
   ],
   "source": [
    "print(f\"The not-so-estimated probability is: {1/10000 / (9001/10000)}\")"
   ]
  },
  {
   "cell_type": "markdown",
   "metadata": {},
   "source": [
    "Let's try to complicate this now and see if we can get less depressing results..."
   ]
  },
  {
   "cell_type": "markdown",
   "metadata": {},
   "source": [
    "## Brainstorm time!"
   ]
  },
  {
   "cell_type": "markdown",
   "metadata": {},
   "source": [
    "Let's list down some factors we may want to consider in this system:"
   ]
  },
  {
   "cell_type": "markdown",
   "metadata": {},
   "source": [
    "- ### How we tend to remember large numbers:"
   ]
  },
  {
   "cell_type": "markdown",
   "metadata": {},
   "source": [
    "Usually when trying to remember 4 digit codes, we don't \"code\" them into our memory as four digit numbers, instead we break them into two 2 digit numbers, for example if the code is 7281, we tend to recall it as \"seventy-two, eighty-one\" instead of \"seven-thousand two-hundred and eighty-one\", guess it takes less mental ram that way. This tendency usually makes remembering the \"seventy\" and \"eighty\" part more likely, while we can get blurry on the \"two\" and \"one\" parts, as we intuitively feel that the larger part of the numbers contain more information to what the number is, so we give it more importance in memory. What we are trying to get at here is, if we can kinda remember what the number is, it is likely that we can recall two digits of it correctly, in which case the probability of us dialing the right number will increase significantly."
   ]
  },
  {
   "cell_type": "markdown",
   "metadata": {},
   "source": [
    "If the company uses all possible 4 digit numbers, we will have a range from 0000 to 9999, meaning we will get 10000 combinations in total. Recalling 2 digits correctly will reduce the combinations we need to consider all the way down to 100."
   ]
  },
  {
   "cell_type": "markdown",
   "metadata": {},
   "source": [
    "- So $P(A)$ = 1/100"
   ]
  },
  {
   "cell_type": "markdown",
   "metadata": {},
   "source": [
    "- ### Are the numbers given randomly or by classification?:"
   ]
  },
  {
   "cell_type": "markdown",
   "metadata": {},
   "source": [
    "Companies have to be somewhat organised, most interior communication happens in between sections, or departments, of the company making it likely that the numbers were arranged with respect to departments in some way. For example, every department or division within the company may be indicated by the first two digits in the phone numbers, i.e. research department has phone numbers \"0 9 _ _\", sales department gets \"1 3 _ _ \", human resources, \"0 4 _ _ \", etc.\n",
    "\n",
    "This would imply, if we know our own department, or hopefuly we can just ask, we would surely get the first two digits right. \n",
    "\n",
    "*Since this stacks up with the \"how we tend to remember large numbers\" part, getting two digits right seems like a valid assumption to make.*\n",
    "\n",
    "- So $P(A)$ = 1/100 looks good, with these two assumptions, we could argue it to be even larger!"
   ]
  },
  {
   "cell_type": "markdown",
   "metadata": {},
   "source": [
    "- ### Our friends' small help:"
   ]
  },
  {
   "cell_type": "markdown",
   "metadata": {},
   "source": [
    "Assuming our co-worker knows their own number, we can presume they will stop us if we try to dial their number. Considering this as our only assumption, this will reduce the total possibilities down to 9999 from 10000, not the strongest way to start a friendship, but it will do.\n",
    "\n",
    "Thinking about this in terms of our department-seperated numbers assumption, for this to work our friend would have to be in the same department as us, eliminating one of the 100 combinations instead. This is likely though, our friend came to our room to ask for our number, meaning they should be close by, in the same department. Hopefully, it is a large enough company to make that division.\n",
    "\n",
    "- So $P(A)$ is up to 1/99"
   ]
  },
  {
   "cell_type": "markdown",
   "metadata": {},
   "source": [
    "- ### Do all the employeys have their own phone line?"
   ]
  },
  {
   "cell_type": "markdown",
   "metadata": {},
   "source": [
    "The question specifies there are a total of 1000 workers *and* officers. Perhaps it is only the officers within the company that would get their own phone lines, as they would be the ones with the *offices*. This could mean there are way less than 1000 numbers that are being used from the 10000 possible combinations. This would increase our chance to get a busy tone, from 9001/10000 to something like 9801/10000, for 800 workers and 200 officers.\n",
    "\n",
    "- So $P(B)$ > 9001, if only officers get phones."
   ]
  },
  {
   "cell_type": "markdown",
   "metadata": {},
   "source": [
    "- ### The likelyhood of conversation, in general, and after lunch:"
   ]
  },
  {
   "cell_type": "markdown",
   "metadata": {},
   "source": [
    "\n",
    "Since it is an internal line of phones we are considering, all the people trying to reach the company for some reason after the rather universal lunch break are off the equation, we are only considering internal calls. The question is, how likely are the workers in the company to engage in conversation after lunchtime, are they less likely than usual, since they would have already had enough chatter during lunch, or is it more likely than usual, since they might want to plan out the rest of their day after the lunch break, invite people to meetings and whatnot, or of course the \"hey, I couldn't see you at lunch today\" calls.\n",
    "\n",
    "The answer most likely, is that it is less likely to come across calls after lunch, even if there are more of those \"planning\" calls happening, they won't be longs calls, less than half a minute is adequate for them, and the more personal conversations can hopefully just happen on personal phones, or just in texts since it is 2021.\n",
    "\n",
    "If we were to assume there is at least one call happening at any given time, $P(B)$ would be up to 9003/10000, as there are two numbers that would give us a busy tone per active call. \n",
    "\n",
    "If we assume a call lasts one minute on average, and the work hours are 9-5, giving 480 minutes to cover, it would take 480 non-overlapping calls. Meaning everybody in the company has to make at least one call to a coworker per day, keep the call going for at least one minute, and also manage not to overlap it with any other calls. This seems like it is a lot to ask for, however we could at least ask for this to be valid half the time, meaning we should at least be able to assume $P(B)$ to be 9002/10000. \n",
    "\n",
    "- So $P(B)$ is up to 9002/10000 or 9802/10000 if only officers get phones (with 200 officers)"
   ]
  },
  {
   "cell_type": "markdown",
   "metadata": {},
   "source": [
    "### So our final answer(s):"
   ]
  },
  {
   "cell_type": "markdown",
   "metadata": {},
   "source": [
    "<b>Assuming all workers have phones, and there is at least one active call half the time:<b>"
   ]
  },
  {
   "cell_type": "markdown",
   "metadata": {},
   "source": [
    "$$\n",
    "P(A|B) = \\frac{1/99}{9002/10000}\n",
    "$$"
   ]
  },
  {
   "cell_type": "code",
   "execution_count": 22,
   "metadata": {},
   "outputs": [
    {
     "name": "stdout",
     "output_type": "stream",
     "text": [
      "The estimated probability is: 0.011220851034225841\n"
     ]
    }
   ],
   "source": [
    "print(f\"The estimated probability is: {1/99 / (9002/10000)}\")"
   ]
  },
  {
   "cell_type": "markdown",
   "metadata": {},
   "source": [
    "<b>Assuming only officers get phones, and with 800 workers and 200 officers, with at least one active call half the time:<b>"
   ]
  },
  {
   "cell_type": "markdown",
   "metadata": {},
   "source": [
    "$$\n",
    "P(A|B) = \\frac{1/99}{9802/10000}\n",
    "$$"
   ]
  },
  {
   "cell_type": "code",
   "execution_count": 25,
   "metadata": {},
   "outputs": [
    {
     "name": "stdout",
     "output_type": "stream",
     "text": [
      "The estimated probability is: 0.010305050092848503\n"
     ]
    }
   ],
   "source": [
    "print(f\"The estimated probability is: {1/99 / (9802/10000)}\")"
   ]
  },
  {
   "cell_type": "markdown",
   "metadata": {},
   "source": [
    "<b> Assuming we know two digits from our department code, and have a 1/2 chance to get another digit right (first and second assumptions together):<b>"
   ]
  },
  {
   "cell_type": "markdown",
   "metadata": {},
   "source": [
    "$$\n",
    "P(A|B) = \\frac{1/20}{9002/10000}\n",
    "$$"
   ]
  },
  {
   "cell_type": "code",
   "execution_count": 27,
   "metadata": {},
   "outputs": [
    {
     "name": "stdout",
     "output_type": "stream",
     "text": [
      "The estimated probability is: 0.05554321261941791\n"
     ]
    }
   ],
   "source": [
    "print(f\"The estimated probability is: {1/20 / (9002/10000)}\")"
   ]
  },
  {
   "cell_type": "markdown",
   "metadata": {},
   "source": [
    "#### Assuming we get three digits right:"
   ]
  },
  {
   "cell_type": "markdown",
   "metadata": {},
   "source": [
    "$$\n",
    "P(A|B) = \\frac{1/10}{9002/10000}\n",
    "$$"
   ]
  },
  {
   "cell_type": "code",
   "execution_count": 26,
   "metadata": {},
   "outputs": [
    {
     "name": "stdout",
     "output_type": "stream",
     "text": [
      "The estimated probability is: 0.11108642523883581\n"
     ]
    }
   ],
   "source": [
    "print(f\"The estimated probability is: {1/10 / (9002/10000)}\")"
   ]
  },
  {
   "cell_type": "markdown",
   "metadata": {},
   "source": [
    "So we can hardly get up to an 11% probability, even if we are guaranteed to recall 3 digits of our number. Seems like this isn't a good way to find confirm our number after all!"
   ]
  },
  {
   "cell_type": "markdown",
   "metadata": {},
   "source": [
    "### Second part (After work hours):"
   ]
  },
  {
   "cell_type": "markdown",
   "metadata": {},
   "source": [
    "After our discussion of how many active calls there are at any given time, we could only justify raising the $P(B)$ value from 9001/10000 to 9002/10000. If we were wrong about this, and the company in fact has a much bussier internal phone line than we thought, then 5:45 PM would have made a difference. However in our assumptions, all it would do is reduce $P(B)$ back down to 9001/10000. Looks like we will just have to note our number down next time."
   ]
  },
  {
   "cell_type": "markdown",
   "metadata": {},
   "source": [
    "# Question 2:"
   ]
  },
  {
   "cell_type": "markdown",
   "metadata": {},
   "source": [
    "### The second quickest way? (Cop out answer):"
   ]
  },
  {
   "cell_type": "markdown",
   "metadata": {},
   "source": [
    "Let's assume we gave all of the 1000 players a number, starting from one, as they signed up for the tournament. When the tournament starts we randomly pick a number between 1 and 1000, and the player with that number is the winner, and we will probably never organize a tournament again. 8)"
   ]
  },
  {
   "cell_type": "markdown",
   "metadata": {},
   "source": [
    "### This must be the quickest way (Also cop out answer):"
   ]
  },
  {
   "cell_type": "markdown",
   "metadata": {},
   "source": [
    "Even quicker than the first cop out answer, we can let the first player to sign up to the tournament be the winner, this way we don't even have to wait for all 1000 players to show up."
   ]
  },
  {
   "cell_type": "markdown",
   "metadata": {},
   "source": [
    "### Good old fashion winners matched with winners approach:"
   ]
  },
  {
   "cell_type": "markdown",
   "metadata": {},
   "source": [
    "Unfortunately, we weren't able to find any viable alternatives to this approach. But at least to see how many rounds it would take to resolve, we made a small simulation, and ran it 10 times. The players are divided into two groups at random, the groups are matched against eachother, the winners move on to play the winners, draws and losses are instantly out, to make things faster. If we get all draw results in the last few rounds of the tournament, we repeat the round until we get a clear winner. Also, if the number of players we have is ever an odd number, we simply remove one player at random, since justice is dead these days..."
   ]
  },
  {
   "cell_type": "code",
   "execution_count": 12,
   "metadata": {},
   "outputs": [
    {
     "name": "stdout",
     "output_type": "stream",
     "text": [
      "Run 1: After 8 rounds of intense chess, the winner is player number 141!\n",
      "Run 2: After 7 rounds of intense chess, the winner is player number 198!\n",
      "Run 3: After 6 rounds of intense chess, the winner is player number 374!\n",
      "Run 4: After 6 rounds of intense chess, the winner is player number 714!\n",
      "Run 5: After 5 rounds of intense chess, the winner is player number 168!\n",
      "Run 6: After 6 rounds of intense chess, the winner is player number 186!\n",
      "Run 7: After 9 rounds of intense chess, the winner is player number 932!\n",
      "Run 8: After 6 rounds of intense chess, the winner is player number 487!\n",
      "Run 9: After 6 rounds of intense chess, the winner is player number 133!\n",
      "Run 10: After 6 rounds of intense chess, the winner is player number 38!\n"
     ]
    }
   ],
   "source": [
    "import numpy as np\n",
    "for run in range(1, 11):\n",
    "    outcomes = [1, 0.5, 0]\n",
    "    winners = np.array(np.arange(1,1001))\n",
    "    players = []\n",
    "    groupA = players[0:500]\n",
    "    groupB = players[500:1000]\n",
    "    rounds = 1\n",
    "\n",
    "    while True:\n",
    "        players = np.copy(winners)\n",
    "\n",
    "        if len(players)%2 == 1:\n",
    "            np.delete(players, np.random.randint(0, len(players)))\n",
    "\n",
    "        groupA = players[0:int(len(players) / 2)]\n",
    "        groupB = players[int(len(players) / 2):len(players)]\n",
    "        winners = np.empty(0)\n",
    "        draws = np.empty(0)\n",
    "\n",
    "        for i in range(len(groupA)):\n",
    "\n",
    "            outcome = np.random.choice(outcomes)\n",
    "\n",
    "            if outcome == 1:\n",
    "                winners = np.append(winners, groupA[i])\n",
    "\n",
    "\n",
    "            elif outcome == 0.5:\n",
    "                draws = np.append(draws, groupA[i])\n",
    "                draws = np.append(draws, groupB[i])\n",
    "\n",
    "            else:\n",
    "                winners = np.append(winners, groupB[i])\n",
    "\n",
    "        if len(winners) == 1:\n",
    "                      break\n",
    "\n",
    "        elif len(winners) == 0:  # in case we get draws at the end, the winners list will be empty\n",
    "            winners = draws  # so we reset it this way and repeat the round.\n",
    "\n",
    "\n",
    "        rounds += 1\n",
    "    print(f\"Run {run}: After {rounds} rounds of intense chess, the winner is player number {int(winners)}!\")"
   ]
  },
  {
   "cell_type": "markdown",
   "metadata": {},
   "source": [
    "Depending on how many draws happen throughout, the tournament seems to conclude after anywhere from 5 to 12 rounds, but theoretically it could take an infinite number of rounds, a case which we unfortunately couldn't demonstrate in the simulation. If there were no draws happening at all, this approach would conclude in N rounds for $2^N$ players."
   ]
  },
  {
   "cell_type": "markdown",
   "metadata": {},
   "source": [
    "## Other approaches we've tried:"
   ]
  },
  {
   "cell_type": "markdown",
   "metadata": {},
   "source": [
    "### Binary search inspired:"
   ]
  },
  {
   "cell_type": "markdown",
   "metadata": {},
   "source": [
    "If we try to divide the players up into groups of three, and match the player in the \"middle\" of the group against the \"left\" and \"right\" players to pick the strongest of the three (this could happen after one player beats the other two, or one player beats one player, then the other player beats the player who beat that first player, making them likely to be stronger than the first player who has lost as well) and lead the stronger players to the next round, we get to eliminate a third of the competition in one \"step\" of the algorithm.\n",
    "\n",
    "The problem with this approach is it simply being slower (not to mention that odd player out, since we can't slice them into three). Each group had to play two matches back to back, resulting in the player number dropping to 333, meaning we had to wait through 2 matches to eliminate 666 players. For comparison, in the natural winners play winners approach, we only had to wait through only one match, and the player number already dropped down to less than half, since we chose to eliminate both the losers and the drawers."
   ]
  },
  {
   "cell_type": "markdown",
   "metadata": {},
   "source": [
    "### Random matches galore:"
   ]
  },
  {
   "cell_type": "markdown",
   "metadata": {},
   "source": [
    "We could also have the players randomly matched up with eachother, not caring about who wins or loses in the matchmaking, but rather just keeping score. After a few matches, say 3, we would eliminate all the players who haven't won all three of their matches, and keep matching randomly until either one player develops a big enough lead to become the winner, or we get a smaller group of players that we can then match up against eachother in the \"finals\". So basically, players play matches back to back and get cut off if they haven't made it to a certain score.\n",
    "\n",
    "The advantage of this approach is the fact that we never have to wait for a round to end to start the next one. Players can simply sit down on any empty table they find to play their matches, nobody has to wait for their opponent to finish, as they will just be matched up against whoever is ready to play.\n",
    "\n",
    "The problem is, again, this approach seems to take more matches to finish up compared to the natural scenario, though since play happens faster, it could still potentially be quicker, there is no way we can think of to be sure it will be."
   ]
  },
  {
   "cell_type": "markdown",
   "metadata": {},
   "source": [
    "# Question 3:"
   ]
  },
  {
   "cell_type": "markdown",
   "metadata": {},
   "source": [
    "An approach to make draws which obey the Maxwell-Boltzman distribution would be using the pre-cooked code, the `rv_continous` class of `scipy.stats`:"
   ]
  },
  {
   "cell_type": "code",
   "execution_count": 1,
   "metadata": {},
   "outputs": [
    {
     "data": {
      "image/png": "[encoded data removed]",
      "text/plain": [
       "<Figure size 432x288 with 1 Axes>"
      ]
     },
     "metadata": {
      "needs_background": "light"
     },
     "output_type": "display_data"
    }
   ],
   "source": [
    "import numpy as np\n",
    "from scipy.stats import rv_continuous\n",
    "import matplotlib.pyplot as plt\n",
    "\n",
    "\n",
    "class boltzman(rv_continuous):\n",
    "\n",
    "    def _pdf(self,x,m,t):\n",
    "        k=1.380649*10**(-23)\n",
    "        return np.sqrt((m/(2*np.pi*k*t))**3)*4*np.pi*x**2*np.exp(-m*x**2/(2*k*t))\n",
    "\n",
    "if __name__==\"__main__\":\n",
    "    m1= 6.6464731*10**-27 #mass of Helium in kg\n",
    "    t1=300 #temperature in Kelvin\n",
    "    N=1000 # Number of draws\n",
    "    x=boltzman()\n",
    "    speed = x.rvs(size=N,m=m1,t=t1)\n",
    "    speed = -speed # The draw obeys the Maxwell-Boltzman distribution but all points has a minus. \\\n",
    "    #We couldn't understand why.\n",
    "\n",
    "\n",
    "plt.hist(speed)\n",
    "plt.show()"
   ]
  },
  {
   "cell_type": "markdown",
   "metadata": {},
   "source": [
    "But birds fly not into our mouth ready roasted. That's why we also made a home-made code.  \n",
    "In our code a random number between 0 and $5\\sigma$ is drawn. And then another random number is drawn to check the possibility of it.  \n",
    "Maximum possible velocity is taken as $5\\sigma$ because bigger values are possible but has a very low possibility so it would just take longer times to make draws. The result would be almost same.\n",
    "\n",
    "$5\\sigma  = 5\\sqrt{\\frac{kT}{m}}$"
   ]
  },
  {
   "cell_type": "code",
   "execution_count": 2,
   "metadata": {},
   "outputs": [
    {
     "data": {
      "image/png": "[encoded data removed]",
      "text/plain": [
       "<Figure size 432x288 with 1 Axes>"
      ]
     },
     "metadata": {
      "needs_background": "light"
     },
     "output_type": "display_data"
    }
   ],
   "source": [
    "import numpy as np\n",
    "import matplotlib.pyplot as plt\n",
    "\n",
    "def f(v,m,t):\n",
    "    k=1.380649*10**(-23)\n",
    "    return np.sqrt((m/(2*np.pi*k*t))**3)*4*np.pi*v**2*np.exp(-m*v**2/(2*k*t))\n",
    "\n",
    "if __name__==\"__main__\":\n",
    "    k=1.380649*10**(-23)\n",
    "    m= 6.6464731*10**-27\n",
    "    t=300\n",
    "    N=1000\n",
    "    sigma = np.sqrt(k*t/m)\n",
    "\n",
    "    a=np.empty(N)\n",
    "    i=0\n",
    "    while i < N:\n",
    "        x=5*sigma*np.random.rand() # Random number between 0 and 5 sigma( Minimum velocity=0 maximum velocity=5sigma)\n",
    "\n",
    "        if np.random.rand()<f(x,m,t):\n",
    "            a[i]=x\n",
    "            i=i+1\n",
    "\n",
    "    plt.hist(a)\n",
    "    plt.show()\n"
   ]
  },
  {
   "cell_type": "markdown",
   "metadata": {},
   "source": [
    "In both approaches we only calculated the speed of the He molecules. Direction of the molecules can be given randomly. To give a random direction spherical coordinates is the easist way. We can use spherical coordinates and draw a random $\\theta$ between 0 and $\\pi$ and a random $\\phi$ between 0 and $2\\pi$ . That way we have a 3D direction.\n"
   ]
  },
  {
   "cell_type": "code",
   "execution_count": 3,
   "metadata": {},
   "outputs": [
    {
     "name": "stdout",
     "output_type": "stream",
     "text": [
      "[[7.43608705e+02 3.41049845e-01 1.46718989e+00]\n",
      " [1.35343722e+03 1.98985915e+00 1.93846871e+00]\n",
      " [7.35633015e+02 2.62153055e+00 2.69286720e+00]\n",
      " ...\n",
      " [2.38754670e+03 5.64998054e-01 1.62498174e+00]\n",
      " [7.79797204e+02 1.53866215e+00 2.13236028e+00]\n",
      " [6.11374251e+02 2.85657001e+00 2.62586728e+00]] \n",
      "\n",
      " [[1.11801000e+03 3.41049845e-01 1.46718989e+00]\n",
      " [2.47791241e+03 1.98985915e+00 1.93846871e+00]\n",
      " [1.79340748e+03 2.62153055e+00 2.69286720e+00]\n",
      " ...\n",
      " [2.54228988e+03 5.64998054e-01 1.62498174e+00]\n",
      " [1.20001251e+03 1.53866215e+00 2.13236028e+00]\n",
      " [2.17124171e+03 2.85657001e+00 2.62586728e+00]]\n"
     ]
    }
   ],
   "source": [
    "import numpy as np\n",
    "direction=np.empty((1000,2))\n",
    "for j in range(N):\n",
    "    direction[j,0]=np.pi*np.random.rand() #0th element of every array is theta\n",
    "    direction[j,1]=2*np.pi*np.random.rand() #0th element of every array is phi\n",
    "final_data=np.column_stack((speed,direction)) # 0th element is speed, 1st is theta, 2nd is phi\n",
    "final_data2=np.column_stack((a,direction)) #Same with home-made code\n",
    "print(final_data, \"\\n\\n\", final_data2)"
   ]
  },
  {
   "cell_type": "markdown",
   "metadata": {},
   "source": [
    "# Question 4:"
   ]
  },
  {
   "cell_type": "markdown",
   "metadata": {},
   "source": [
    "We can think of this as 9 different cells because it's Moore neigbourhood. We labeled the cells like:"
   ]
  },
  {
   "cell_type": "markdown",
   "metadata": {},
   "source": [
    "| | | |\n",
    "|-|-|-|\n",
    "|0|1|2|\n",
    "|3|4|5|\n",
    "|6|7|8|\n"
   ]
  },
  {
   "cell_type": "markdown",
   "metadata": {},
   "source": [
    "From the given transition 10 of the possible $2^9$ states can be known and those are:"
   ]
  },
  {
   "cell_type": "markdown",
   "metadata": {},
   "source": [
    "**012 345 678**  #Labels given above  \n",
    "000 000 000 $\\Rightarrow$ 0   # If all the cells are dead the outcome of middle one(4 labeled) will be dead.  \n",
    "000 000 001 $\\Rightarrow$ 1   # If only right bottom one(8 labeled) is alive, outcome of middle will be alive.  \n",
    "000 000 010 $\\Rightarrow$ 0   # If only middle bottom one(7 labeled) is alive, outcome of middle will be dead.  \n",
    "000 000 100 $\\Rightarrow$ 1   # And so on...  \n",
    "000 001 000 $\\Rightarrow$ 0  \n",
    "000 010 000 $\\Rightarrow$ 0  \n",
    "000 100 000 $\\Rightarrow$ 0  \n",
    "001 000 000 $\\Rightarrow$ 1  \n",
    "010 000 000 $\\Rightarrow$ 0  \n",
    "100 000 000 $\\Rightarrow$ 1  \n"
   ]
  },
  {
   "cell_type": "markdown",
   "metadata": {},
   "source": [
    "These rules are given by the question. There are $2^9 - 10 = 502$ remaining unknown states. Those states can both be 0 or 1. So there are $2^{502}$ different rules that can create the sequence given in the question.\n",
    "\n",
    "We chose the rule which has 0 on all the 502 states and 10 of the states is like above."
   ]
  },
  {
   "cell_type": "markdown",
   "metadata": {},
   "source": [
    "5 steps of the evaluation would be like following:"
   ]
  },
  {
   "cell_type": "markdown",
   "metadata": {},
   "source": [
    "| | | | | | | | | | | | | | | | | | | | | | | |\n",
    "|-|-|-|-|-|-|-|-|-|-|-|-|-|-|-|-|-|-|-|-|-|-|-|\n",
    "|◻|◻|◻|◻|◻|◻|◻|◻|◻|◻|◻|◻|◻|◻|◻|◻|◻|◻|◻|◻|◻|◻|◻|\n",
    "|◻|◻|◻|◻|◻|◻|◻|◻|◻|◻|◻|◻|◻|◻|◻|◻|◻|◻|◻|◻|◻|◻|◻|\n",
    "|◻|◻|◻|◻|◻|◻|◻|◻|◻|◻|◻|◻|◻|◻|◻|◻|◻|◻|◻|◻|◻|◻|◻|\n",
    "|◻|◻|◻|◻|◻|◻|◻|◻|◻|◻|◻|◻|◻|◻|◻|◻|◻|◻|◻|◻|◻|◻|◻|\n",
    "|◻|◻|◻|◻|◻|◻|◻|◻|◻|◻|◻|◻|◻|◻|◻|◻|◻|◻|◻|◻|◻|◻|◻|\n",
    "|◻|◻|◻|◻|◻|◻|◻|◻|◻|◻|◻|◻|◻|◻|◻|◻|◻|◻|◻|◻|◻|◻|◻|\n",
    "|◻|◻|◻|◻|◻|◻|◻|◻|◻|◻|◻|◼|◻|◻|◻|◻|◻|◻|◻|◻|◻|◻|◻|\n",
    "|◻|◻|◻|◻|◻|◻|◻|◻|◻|◻|◻|◻|◻|◻|◻|◻|◻|◻|◻|◻|◻|◻|◻|\n",
    "|◻|◻|◻|◻|◻|◻|◻|◻|◻|◻|◻|◻|◻|◻|◻|◻|◻|◻|◻|◻|◻|◻|◻|\n",
    "|◻|◻|◻|◻|◻|◻|◻|◻|◻|◻|◻|◻|◻|◻|◻|◻|◻|◻|◻|◻|◻|◻|◻|\n",
    "|◻|◻|◻|◻|◻|◻|◻|◻|◻|◻|◻|◻|◻|◻|◻|◻|◻|◻|◻|◻|◻|◻|◻|\n",
    "|◻|◻|◻|◻|◻|◻|◻|◻|◻|◻|◻|◻|◻|◻|◻|◻|◻|◻|◻|◻|◻|◻|◻|\n",
    "|◻|◻|◻|◻|◻|◻|◻|◻|◻|◻|◻|◻|◻|◻|◻|◻|◻|◻|◻|◻|◻|◻|◻|\n",
    "|◻|◻|◻|◻|◻|◻|◻|◻|◻|◻|◻|◻|◻|◻|◻|◻|◻|◻|◻|◻|◻|◻|◻|\n",
    "|◻|◻|◻|◻|◻|◻|◻|◻|◻|◻|◻|◻|◻|◻|◻|◻|◻|◻|◻|◻|◻|◻|◻|"
   ]
  },
  {
   "cell_type": "markdown",
   "metadata": {},
   "source": [
    "| | | | | | | | | | | | | | | | | | | | | | | |\n",
    "|-|-|-|-|-|-|-|-|-|-|-|-|-|-|-|-|-|-|-|-|-|-|-|\n",
    "|◻|◻|◻|◻|◻|◻|◻|◻|◻|◻|◻|◻|◻|◻|◻|◻|◻|◻|◻|◻|◻|◻|◻|\n",
    "|◻|◻|◻|◻|◻|◻|◻|◻|◻|◻|◻|◻|◻|◻|◻|◻|◻|◻|◻|◻|◻|◻|◻|\n",
    "|◻|◻|◻|◻|◻|◻|◻|◻|◻|◻|◻|◻|◻|◻|◻|◻|◻|◻|◻|◻|◻|◻|◻|\n",
    "|◻|◻|◻|◻|◻|◻|◻|◻|◻|◻|◻|◻|◻|◻|◻|◻|◻|◻|◻|◻|◻|◻|◻|\n",
    "|◻|◻|◻|◻|◻|◻|◻|◻|◻|◻|◻|◻|◻|◻|◻|◻|◻|◻|◻|◻|◻|◻|◻|\n",
    "|◻|◻|◻|◻|◻|◻|◻|◻|◻|◻|◼|◻|◼|◻|◻|◻|◻|◻|◻|◻|◻|◻|◻|\n",
    "|◻|◻|◻|◻|◻|◻|◻|◻|◻|◻|◻|◻|◻|◻|◻|◻|◻|◻|◻|◻|◻|◻|◻|\n",
    "|◻|◻|◻|◻|◻|◻|◻|◻|◻|◻|◼|◻|◼|◻|◻|◻|◻|◻|◻|◻|◻|◻|◻|\n",
    "|◻|◻|◻|◻|◻|◻|◻|◻|◻|◻|◻|◻|◻|◻|◻|◻|◻|◻|◻|◻|◻|◻|◻|\n",
    "|◻|◻|◻|◻|◻|◻|◻|◻|◻|◻|◻|◻|◻|◻|◻|◻|◻|◻|◻|◻|◻|◻|◻|\n",
    "|◻|◻|◻|◻|◻|◻|◻|◻|◻|◻|◻|◻|◻|◻|◻|◻|◻|◻|◻|◻|◻|◻|◻|\n",
    "|◻|◻|◻|◻|◻|◻|◻|◻|◻|◻|◻|◻|◻|◻|◻|◻|◻|◻|◻|◻|◻|◻|◻|\n",
    "|◻|◻|◻|◻|◻|◻|◻|◻|◻|◻|◻|◻|◻|◻|◻|◻|◻|◻|◻|◻|◻|◻|◻|\n",
    "|◻|◻|◻|◻|◻|◻|◻|◻|◻|◻|◻|◻|◻|◻|◻|◻|◻|◻|◻|◻|◻|◻|◻|\n",
    "|◻|◻|◻|◻|◻|◻|◻|◻|◻|◻|◻|◻|◻|◻|◻|◻|◻|◻|◻|◻|◻|◻|◻|"
   ]
  },
  {
   "cell_type": "markdown",
   "metadata": {},
   "source": [
    "| | | | | | | | | | | | | | | | | | | | | | | |\n",
    "|-|-|-|-|-|-|-|-|-|-|-|-|-|-|-|-|-|-|-|-|-|-|-|\n",
    "|◻|◻|◻|◻|◻|◻|◻|◻|◻|◻|◻|◻|◻|◻|◻|◻|◻|◻|◻|◻|◻|◻|◻|\n",
    "|◻|◻|◻|◻|◻|◻|◻|◻|◻|◻|◻|◻|◻|◻|◻|◻|◻|◻|◻|◻|◻|◻|◻|\n",
    "|◻|◻|◻|◻|◻|◻|◻|◻|◻|◻|◻|◻|◻|◻|◻|◻|◻|◻|◻|◻|◻|◻|◻|\n",
    "|◻|◻|◻|◻|◻|◻|◻|◻|◻|◻|◻|◻|◻|◻|◻|◻|◻|◻|◻|◻|◻|◻|◻|\n",
    "|◻|◻|◻|◻|◻|◻|◻|◻|◻|◼|◻|◻|◻|◼|◻|◻|◻|◻|◻|◻|◻|◻|◻|\n",
    "|◻|◻|◻|◻|◻|◻|◻|◻|◻|◻|◻|◻|◻|◻|◻|◻|◻|◻|◻|◻|◻|◻|◻|\n",
    "|◻|◻|◻|◻|◻|◻|◻|◻|◻|◻|◻|◻|◻|◻|◻|◻|◻|◻|◻|◻|◻|◻|◻|\n",
    "|◻|◻|◻|◻|◻|◻|◻|◻|◻|◻|◻|◻|◻|◻|◻|◻|◻|◻|◻|◻|◻|◻|◻|\n",
    "|◻|◻|◻|◻|◻|◻|◻|◻|◻|◼|◻|◻|◻|◼|◻|◻|◻|◻|◻|◻|◻|◻|◻|\n",
    "|◻|◻|◻|◻|◻|◻|◻|◻|◻|◻|◻|◻|◻|◻|◻|◻|◻|◻|◻|◻|◻|◻|◻|\n",
    "|◻|◻|◻|◻|◻|◻|◻|◻|◻|◻|◻|◻|◻|◻|◻|◻|◻|◻|◻|◻|◻|◻|◻|\n",
    "|◻|◻|◻|◻|◻|◻|◻|◻|◻|◻|◻|◻|◻|◻|◻|◻|◻|◻|◻|◻|◻|◻|◻|\n",
    "|◻|◻|◻|◻|◻|◻|◻|◻|◻|◻|◻|◻|◻|◻|◻|◻|◻|◻|◻|◻|◻|◻|◻|\n",
    "|◻|◻|◻|◻|◻|◻|◻|◻|◻|◻|◻|◻|◻|◻|◻|◻|◻|◻|◻|◻|◻|◻|◻|\n",
    "|◻|◻|◻|◻|◻|◻|◻|◻|◻|◻|◻|◻|◻|◻|◻|◻|◻|◻|◻|◻|◻|◻|◻|"
   ]
  },
  {
   "cell_type": "markdown",
   "metadata": {},
   "source": [
    "| | | | | | | | | | | | | | | | | | | | | | | |\n",
    "|-|-|-|-|-|-|-|-|-|-|-|-|-|-|-|-|-|-|-|-|-|-|-|\n",
    "|◻|◻|◻|◻|◻|◻|◻|◻|◻|◻|◻|◻|◻|◻|◻|◻|◻|◻|◻|◻|◻|◻|◻|\n",
    "|◻|◻|◻|◻|◻|◻|◻|◻|◻|◻|◻|◻|◻|◻|◻|◻|◻|◻|◻|◻|◻|◻|◻|\n",
    "|◻|◻|◻|◻|◻|◻|◻|◻|◻|◻|◻|◻|◻|◻|◻|◻|◻|◻|◻|◻|◻|◻|◻|\n",
    "|◻|◻|◻|◻|◻|◻|◻|◻|◼|◻|◼|◻|◼|◻|◼|◻|◻|◻|◻|◻|◻|◻|◻|\n",
    "|◻|◻|◻|◻|◻|◻|◻|◻|◻|◻|◻|◻|◻|◻|◻|◻|◻|◻|◻|◻|◻|◻|◻|\n",
    "|◻|◻|◻|◻|◻|◻|◻|◻|◼|◻|◼|◻|◼|◻|◼|◻|◻|◻|◻|◻|◻|◻|◻|\n",
    "|◻|◻|◻|◻|◻|◻|◻|◻|◻|◻|◻|◻|◻|◻|◻|◻|◻|◻|◻|◻|◻|◻|◻|\n",
    "|◻|◻|◻|◻|◻|◻|◻|◻|◼|◻|◼|◻|◼|◻|◼|◻|◻|◻|◻|◻|◻|◻|◻|\n",
    "|◻|◻|◻|◻|◻|◻|◻|◻|◻|◻|◻|◻|◻|◻|◻|◻|◻|◻|◻|◻|◻|◻|◻|\n",
    "|◻|◻|◻|◻|◻|◻|◻|◻|◼|◻|◼|◻|◼|◻|◼|◻|◻|◻|◻|◻|◻|◻|◻|\n",
    "|◻|◻|◻|◻|◻|◻|◻|◻|◻|◻|◻|◻|◻|◻|◻|◻|◻|◻|◻|◻|◻|◻|◻|\n",
    "|◻|◻|◻|◻|◻|◻|◻|◻|◻|◻|◻|◻|◻|◻|◻|◻|◻|◻|◻|◻|◻|◻|◻|\n",
    "|◻|◻|◻|◻|◻|◻|◻|◻|◻|◻|◻|◻|◻|◻|◻|◻|◻|◻|◻|◻|◻|◻|◻|\n",
    "|◻|◻|◻|◻|◻|◻|◻|◻|◻|◻|◻|◻|◻|◻|◻|◻|◻|◻|◻|◻|◻|◻|◻|\n",
    "|◻|◻|◻|◻|◻|◻|◻|◻|◻|◻|◻|◻|◻|◻|◻|◻|◻|◻|◻|◻|◻|◻|◻|"
   ]
  },
  {
   "cell_type": "markdown",
   "metadata": {},
   "source": [
    "| | | | | | | | | | | | | | | | | | | | | | | |\n",
    "|-|-|-|-|-|-|-|-|-|-|-|-|-|-|-|-|-|-|-|-|-|-|-|\n",
    "|◻|◻|◻|◻|◻|◻|◻|◻|◻|◻|◻|◻|◻|◻|◻|◻|◻|◻|◻|◻|◻|◻|◻|\n",
    "|◻|◻|◻|◻|◻|◻|◻|◻|◻|◻|◻|◻|◻|◻|◻|◻|◻|◻|◻|◻|◻|◻|◻|\n",
    "|◻|◻|◻|◻|◻|◻|◻|◼|◻|◻|◻|◻|◻|◻|◻|◼|◻|◻|◻|◻|◻|◻|◻|\n",
    "|◻|◻|◻|◻|◻|◻|◻|◻|◻|◻|◻|◻|◻|◻|◻|◻|◻|◻|◻|◻|◻|◻|◻|\n",
    "|◻|◻|◻|◻|◻|◻|◻|◻|◻|◻|◻|◻|◻|◻|◻|◻|◻|◻|◻|◻|◻|◻|◻|\n",
    "|◻|◻|◻|◻|◻|◻|◻|◻|◻|◻|◻|◻|◻|◻|◻|◻|◻|◻|◻|◻|◻|◻|◻|\n",
    "|◻|◻|◻|◻|◻|◻|◻|◻|◻|◻|◻|◻|◻|◻|◻|◻|◻|◻|◻|◻|◻|◻|◻|\n",
    "|◻|◻|◻|◻|◻|◻|◻|◻|◻|◻|◻|◻|◻|◻|◻|◻|◻|◻|◻|◻|◻|◻|◻|\n",
    "|◻|◻|◻|◻|◻|◻|◻|◻|◻|◻|◻|◻|◻|◻|◻|◻|◻|◻|◻|◻|◻|◻|◻|\n",
    "|◻|◻|◻|◻|◻|◻|◻|◻|◻|◻|◻|◻|◻|◻|◻|◻|◻|◻|◻|◻|◻|◻|◻|\n",
    "|◻|◻|◻|◻|◻|◻|◻|◼|◻|◻|◻|◻|◻|◻|◻|◼|◻|◻|◻|◻|◻|◻|◻|\n",
    "|◻|◻|◻|◻|◻|◻|◻|◻|◻|◻|◻|◻|◻|◻|◻|◻|◻|◻|◻|◻|◻|◻|◻|\n",
    "|◻|◻|◻|◻|◻|◻|◻|◻|◻|◻|◻|◻|◻|◻|◻|◻|◻|◻|◻|◻|◻|◻|◻|\n",
    "|◻|◻|◻|◻|◻|◻|◻|◻|◻|◻|◻|◻|◻|◻|◻|◻|◻|◻|◻|◻|◻|◻|◻|\n",
    "|◻|◻|◻|◻|◻|◻|◻|◻|◻|◻|◻|◻|◻|◻|◻|◻|◻|◻|◻|◻|◻|◻|◻|"
   ]
  },
  {
   "cell_type": "markdown",
   "metadata": {},
   "source": [
    "| | | | | | | | | | | | | | | | | | | | | | | |\n",
    "|-|-|-|-|-|-|-|-|-|-|-|-|-|-|-|-|-|-|-|-|-|-|-|\n",
    "|◻|◻|◻|◻|◻|◻|◻|◻|◻|◻|◻|◻|◻|◻|◻|◻|◻|◻|◻|◻|◻|◻|◻|\n",
    "|◻|◻|◻|◻|◻|◻|◼|◻|◼|◻|◻|◻|◻|◻|◼|◻|◼|◻|◻|◻|◻|◻|◻|\n",
    "|◻|◻|◻|◻|◻|◻|◻|◻|◻|◻|◻|◻|◻|◻|◻|◻|◻|◻|◻|◻|◻|◻|◻|\n",
    "|◻|◻|◻|◻|◻|◻|◼|◻|◼|◻|◻|◻|◻|◻|◼|◻|◼|◻|◻|◻|◻|◻|◻|\n",
    "|◻|◻|◻|◻|◻|◻|◻|◻|◻|◻|◻|◻|◻|◻|◻|◻|◻|◻|◻|◻|◻|◻|◻|\n",
    "|◻|◻|◻|◻|◻|◻|◻|◻|◻|◻|◻|◻|◻|◻|◻|◻|◻|◻|◻|◻|◻|◻|◻|\n",
    "|◻|◻|◻|◻|◻|◻|◻|◻|◻|◻|◻|◻|◻|◻|◻|◻|◻|◻|◻|◻|◻|◻|◻|\n",
    "|◻|◻|◻|◻|◻|◻|◻|◻|◻|◻|◻|◻|◻|◻|◻|◻|◻|◻|◻|◻|◻|◻|◻|\n",
    "|◻|◻|◻|◻|◻|◻|◻|◻|◻|◻|◻|◻|◻|◻|◻|◻|◻|◻|◻|◻|◻|◻|◻|\n",
    "|◻|◻|◻|◻|◻|◻|◼|◻|◼|◻|◻|◻|◻|◻|◼|◻|◼|◻|◻|◻|◻|◻|◻|\n",
    "|◻|◻|◻|◻|◻|◻|◻|◻|◻|◻|◻|◻|◻|◻|◻|◻|◻|◻|◻|◻|◻|◻|◻|\n",
    "|◻|◻|◻|◻|◻|◻|◼|◻|◼|◻|◻|◻|◻|◻|◼|◻|◼|◻|◻|◻|◻|◻|◻|\n",
    "|◻|◻|◻|◻|◻|◻|◻|◻|◻|◻|◻|◻|◻|◻|◻|◻|◻|◻|◻|◻|◻|◻|◻|\n",
    "|◻|◻|◻|◻|◻|◻|◻|◻|◻|◻|◻|◻|◻|◻|◻|◻|◻|◻|◻|◻|◻|◻|◻|\n",
    "|◻|◻|◻|◻|◻|◻|◻|◻|◻|◻|◻|◻|◻|◻|◻|◻|◻|◻|◻|◻|◻|◻|◻|"
   ]
  },
  {
   "cell_type": "markdown",
   "metadata": {},
   "source": [
    "This is called an isotropic non-totalistic lifelike cellular automaton... Specifically Moore Neighborhood 4c.\n",
    "\n",
    "We couldn't find a solid proof as to what class this is because all classes are spesifically stated for 1D cellular automata on the web so we are making an educated-guess based on what we've learned. So far we know that the classification of cellular automata is based on random initial conditions. If the system converges to a \"simple\" steady state regardless of the initial conditions, it is classified as class 1, which is not the case here, since even with a small number of cells alive initially, there will be no one basic pattern to which it collapses to.  - Of all the possible 2D patterns it seems like the easiest one to spot as class 1 the Moore Neighborhood 0 pattern -\n",
    "\n",
    "It is therefore most probably a class 2 or class 3 automata though, which is the case for practically all the 2D automata. We can say that this is a class 3 system, because some initial patterns make it way too chaotic to be class 2."
   ]
  },
  {
   "cell_type": "markdown",
   "metadata": {},
   "source": [
    "# References:"
   ]
  },
  {
   "cell_type": "markdown",
   "metadata": {},
   "source": [
    "- ### Probabilities:"
   ]
  },
  {
   "cell_type": "markdown",
   "metadata": {},
   "source": [
    "http://www.cargalmathbooks.com/22%20Three%20Die%20.pdf"
   ]
  },
  {
   "cell_type": "markdown",
   "metadata": {},
   "source": [
    "- ### Distributions:"
   ]
  },
  {
   "cell_type": "markdown",
   "metadata": {},
   "source": [
    "https://docs.scipy.org/doc/scipy/reference/generated/scipy.stats.rv_continuous.html"
   ]
  },
  {
   "cell_type": "markdown",
   "metadata": {},
   "source": [
    "- ### Cellular Automata:"
   ]
  },
  {
   "cell_type": "markdown",
   "metadata": {},
   "source": [
    "https://www.conwaylife.com/wiki/Isotropic_non-totalistic_Life-like_cellular_automaton"
   ]
  },
  {
   "cell_type": "markdown",
   "metadata": {},
   "source": [
    "https://www.wolframscience.com/nks/p231--four-classes-of-behavior/"
   ]
  }
 ],
 "metadata": {
  "kernelspec": {
   "display_name": "Python 3",
   "language": "python",
   "name": "python3"
  },
  "language_info": {
   "codemirror_mode": {
    "name": "ipython",
    "version": 3
   },
   "file_extension": ".py",
   "mimetype": "text/x-python",
   "name": "python",
   "nbconvert_exporter": "python",
   "pygments_lexer": "ipython3",
   "version": "3.8.3"
  }
 },
 "nbformat": 4,
 "nbformat_minor": 4
}
