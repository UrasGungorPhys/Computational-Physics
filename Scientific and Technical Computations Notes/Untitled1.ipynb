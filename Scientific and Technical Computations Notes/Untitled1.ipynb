{
 "cells": [
  {
   "cell_type": "code",
   "execution_count": 1,
   "metadata": {},
   "outputs": [],
   "source": [
    "import numpy as np"
   ]
  },
  {
   "cell_type": "code",
   "execution_count": 114,
   "metadata": {},
   "outputs": [
    {
     "name": "stdout",
     "output_type": "stream",
     "text": [
      "7 [873.]\n"
     ]
    }
   ],
   "source": [
    "outcomes = [1, 0.5, 0]\n",
    "winners = np.array(np.arange(1,1001))\n",
    "\n",
    "groupA = players[0:500]\n",
    "groupB = players[500:1000]\n",
    "rounds = 1\n",
    "\n",
    "while True:\n",
    "    players = np.copy(winners)\n",
    "    \n",
    "    if len(players)%2 == 1:\n",
    "        np.delete(players, np.random.randint(0, len(players)))\n",
    "    \n",
    "    groupA = players[0:int(len(players) / 2)]\n",
    "    groupB = players[int(len(players) / 2):len(players)]\n",
    "    winners = np.empty(0)\n",
    "    draws = np.empty(0)\n",
    "    \n",
    "    for i in range(len(groupA)):\n",
    "\n",
    "        outcome = np.random.choice(outcomes)\n",
    "\n",
    "        if outcome == 1:\n",
    "            winners = np.append(winners, groupA[i])\n",
    "\n",
    "\n",
    "        elif outcome == 0.5:\n",
    "            draws = np.append(draws, groupA[i])\n",
    "            draws = np.append(draws, groupB[i])\n",
    "\n",
    "        else:\n",
    "            winners = np.append(winners, groupB[i])\n",
    "                  \n",
    "    if len(winners) == 1:  # a failsafe, in case there are all draws towards the end, we go for more matches.\n",
    "                  break\n",
    "            \n",
    "    elif len(winners) == 0:\n",
    "        winners = draws\n",
    "        \n",
    "\n",
    "    rounds += 1\n",
    "print(rounds, winners)"
   ]
  },
  {
   "cell_type": "code",
   "execution_count": null,
   "metadata": {},
   "outputs": [],
   "source": []
  }
 ],
 "metadata": {
  "kernelspec": {
   "display_name": "Python 3",
   "language": "python",
   "name": "python3"
  },
  "language_info": {
   "codemirror_mode": {
    "name": "ipython",
    "version": 3
   },
   "file_extension": ".py",
   "mimetype": "text/x-python",
   "name": "python",
   "nbconvert_exporter": "python",
   "pygments_lexer": "ipython3",
   "version": "3.8.3"
  }
 },
 "nbformat": 4,
 "nbformat_minor": 4
}
