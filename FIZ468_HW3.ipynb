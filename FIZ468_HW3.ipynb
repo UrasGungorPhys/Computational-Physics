{
 "cells": [
  {
   "cell_type": "code",
   "execution_count": 1,
   "metadata": {},
   "outputs": [],
   "source": [
    "import numpy as np\n",
    "import matplotlib.pyplot as plt"
   ]
  },
  {
   "cell_type": "markdown",
   "metadata": {},
   "source": [
    "$$\n",
    "    y'' = y,\\;\\;y''(0) = y'(0) = y(0) = 1\n",
    "$$"
   ]
  },
  {
   "cell_type": "code",
   "execution_count": 2,
   "metadata": {},
   "outputs": [],
   "source": [
    "def ypp(y):\n",
    "    return y\n",
    "\n",
    "\n",
    "N = 15\n",
    "xs = np.linspace(0,4,N)\n",
    "h = xs[1] - xs[0]\n",
    "\n",
    "smooth_xs = np.linspace(0,4,200)  # so we have smooth graphs for the analytical solutions:\n",
    "analytical_yp = np.exp(smooth_xs)\n",
    "analytical_y = np.exp(smooth_xs)"
   ]
  },
  {
   "cell_type": "markdown",
   "metadata": {},
   "source": [
    "## Using Euler's Method First:"
   ]
  },
  {
   "cell_type": "code",
   "execution_count": 3,
   "metadata": {},
   "outputs": [
    {
     "name": "stdout",
     "output_type": "stream",
     "text": [
      "y' plot\n"
     ]
    },
    {
     "data": {
      "image/png": "[encoded data removed]",
      "text/plain": [
       "<Figure size 432x288 with 1 Axes>"
      ]
     },
     "metadata": {
      "needs_background": "light"
     },
     "output_type": "display_data"
    },
    {
     "name": "stdout",
     "output_type": "stream",
     "text": [
      "\n",
      "\n",
      "\n",
      "y plot\n"
     ]
    },
    {
     "data": {
      "image/png": "[encoded data removed]",
      "text/plain": [
       "<Figure size 432x288 with 1 Axes>"
      ]
     },
     "metadata": {
      "needs_background": "light"
     },
     "output_type": "display_data"
    }
   ],
   "source": [
    "ypps = yps = ys = np.array([1])  # since y''(0) = y'(0) = y(0) = 1\n",
    "\n",
    "yp = 0\n",
    "y = 0\n",
    "\n",
    "for x in xs[1:]:  # since y(xs[0]) = y(0) = 1\n",
    "    \n",
    "    yp = yps[-1] + ypp(ys[-1])*h\n",
    "    y = ys[-1] + yp*h\n",
    "    yps = np.append(yps, yp)\n",
    "    ys = np.append(ys, y)\n",
    "\n",
    "print(\"y' plot\")\n",
    "plt.plot(xs, yps, 'o-')\n",
    "plt.plot(smooth_xs, analytical_yp, '--r')\n",
    "plt.show()\n",
    "\n",
    "print(\"\\n\\n\\ny plot\")\n",
    "plt.plot(xs,ys, 'o-')\n",
    "plt.plot(smooth_xs, analytical_y, '--r')\n",
    "plt.show()"
   ]
  },
  {
   "cell_type": "markdown",
   "metadata": {},
   "source": [
    "## Using Runge-Kutta:"
   ]
  },
  {
   "cell_type": "markdown",
   "metadata": {},
   "source": [
    "Calculating $y'$ using $y'' = y'$. Then calculating $y$, using the $y'$ values we have computed and $y' = y$."
   ]
  },
  {
   "cell_type": "markdown",
   "metadata": {},
   "source": [
    "$$k_1 = f(y_i)\\\\\n",
    "k_2= f(y_i+\\tfrac{1}{2}k_1 h)\\\\\n",
    "k_3= f(y_i+\\tfrac{1}{2}k_2 h)\\\\\n",
    "k_4 = f(y_i+k_3 h)$$"
   ]
  },
  {
   "cell_type": "markdown",
   "metadata": {},
   "source": [
    " Since the $k_n$ values pick on values of the function $f(y)$ - in our case $y'(y)$ - that are between $y'(y_i)$ and $y'(y_i + h)$, we need to compute the following values on each iteration:\n",
    "\n",
    "$y'(y_i) = k_1\\rightarrow$ nothing extra here, we have $k_1$!\n",
    "\n",
    "$y'(y_i + \\frac{h}{2}k_1)= k_2\\;\\rightarrow\\;$ need $\\left[y_i + \\frac{h}{2}k_1\\right]$ for $k_2$,\n",
    "\n",
    "$y'(y_i + \\frac{h}{2}k_2) = y'(y_i + \\frac{h}{2}y'(y_i + \\frac{h}{2}k_1)) = k_3\\;\\rightarrow\\;$ need $\\left[y_i + \\frac{h}{2}y'(y_i + \\frac{h}{2}k_1)\\right]$ for $k_3$,\n",
    "\n",
    "$y'(y_i + hk_3) = y'(y_i + hy'(y_i + \\frac{h}{2}y'(y_i + \\frac{h}{2}k_1)))\\;\\rightarrow\\;$ need $\\left[y_i + \\frac{h}{2}y'(y_i + \\frac{h}{2}k_1))\\right]$ for $k_4$.\n"
   ]
  },
  {
   "cell_type": "markdown",
   "metadata": {},
   "source": [
    "To get to this step, we will need to do 4 seperate computations of $y'$, each using the previous results, to then land on the values we require to get the $k_n$'s we need. The first 'computation' however will be free, as we already know $y'(0) = 1$, leaving only 3.\n"
   ]
  },
  {
   "cell_type": "code",
   "execution_count": 4,
   "metadata": {},
   "outputs": [],
   "source": [
    "def ypp(yp):\n",
    "    return yp\n",
    "\n",
    "def yp(y):\n",
    "    return y"
   ]
  },
  {
   "cell_type": "code",
   "execution_count": 5,
   "metadata": {
    "scrolled": false
   },
   "outputs": [
    {
     "name": "stdout",
     "output_type": "stream",
     "text": [
      "y_k1 = 1\n",
      "y_k2 = 1.1535644870192976\n",
      "y_k3 = 1.179150762301048\n",
      "y_k4 = 1.400597157817437\n",
      "\n",
      "y = 1.336477507450387\n",
      "yp = 1.3306955435235317\n",
      "-------------------------------------------------- \n",
      "\n",
      "\n",
      "y_k1 = 1.3306955435235317\n",
      "y_k2 = 1.609300105800487\n",
      "y_k3 = 1.6746430172519524\n",
      "y_k4 = 2.147196428770907\n",
      "\n",
      "y = 1.8148478988027352\n",
      "yp = 1.7707506295533877\n",
      "-------------------------------------------------- \n",
      "\n",
      "\n",
      "y_k1 = 1.7707506295533877\n",
      "y_k2 = 2.2804229288978437\n",
      "y_k3 = 2.4526552993406594\n",
      "y_k4 = 3.5683735983942637\n",
      "\n",
      "y = 2.519861264727719\n",
      "yp = 2.356329971438181\n",
      "-------------------------------------------------- \n",
      "\n",
      "\n",
      "y_k1 = 2.356329971438181\n",
      "y_k2 = 3.2992548516181346\n",
      "y_k3 = 3.7749980432072334\n",
      "y_k4 = 6.925651395625204\n",
      "\n",
      "y = 3.6355987483807723\n",
      "yp = 3.1355577920637185\n",
      "-------------------------------------------------- \n",
      "\n",
      "\n",
      "y_k1 = 3.1355577920637185\n",
      "y_k2 = 4.906889456551338\n",
      "y_k3 = 6.319756019157975\n",
      "y_k4 = 18.968792140007686\n",
      "\n",
      "y = 5.757391171404107\n",
      "yp = 4.1724727803596755\n",
      "-------------------------------------------------- \n",
      "\n",
      "\n",
      "y_k1 = 4.1724727803596755\n",
      "y_k2 = 7.570002203911568\n",
      "y_k3 = 12.29760517424311\n",
      "y_k4 = 125.99927757666893\n",
      "\n",
      "y = 13.84819903394401\n",
      "yp = 5.552290934297861\n",
      "-------------------------------------------------- \n",
      "\n",
      "\n",
      "y_k1 = 5.552290934297861\n",
      "y_k2 = 12.256229819164876\n",
      "y_k3 = 31.838732372750513\n",
      "y_k4 = 7091.222097376818\n",
      "\n",
      "y = 355.9893567813224\n",
      "yp = 7.3884088026162695\n",
      "-------------------------------------------------- \n",
      "\n",
      "\n",
      "y_k1 = 7.3884088026162695\n",
      "y_k2 = 21.132359632126096\n",
      "y_k3 = 143.10109159478998\n",
      "y_k4 = 13662909.670557473\n",
      "\n",
      "y = 650986.7286838637\n",
      "yp = 9.831722667371503\n",
      "-------------------------------------------------- \n",
      "\n",
      "\n",
      "y_k1 = 9.831722667371503\n",
      "y_k2 = 39.472644084229884\n",
      "y_k3 = 1588.7445438294922\n",
      "y_k4 = 2697461775610.9155\n",
      "\n",
      "y = 128451211885.64207\n",
      "yp = 13.08302953863055\n",
      "-------------------------------------------------- \n",
      "\n",
      "\n",
      "y_k1 = 13.08302953863055\n",
      "y_k2 = 81.2737174465487\n",
      "y_k3 = 47747.804655706386\n",
      "y_k4 = 6.8696084593224425e+19\n",
      "\n",
      "y = 3.2712422519380936e+18\n",
      "yp = 17.409529102842402\n",
      "-------------------------------------------------- \n",
      "\n",
      "\n",
      "y_k1 = 17.409529102842402\n",
      "y_k2 = 186.94424298895092\n",
      "y_k3 = 3182226.678983432\n",
      "y_k4 = 9.059892124044357e+28\n",
      "\n",
      "y = 4.3142343480542686e+27\n",
      "yp = 23.166782791995615\n",
      "-------------------------------------------------- \n",
      "\n",
      "\n",
      "y_k1 = 23.166782791995615\n",
      "y_k2 = 482.4805697589043\n",
      "y_k3 = 396449773.16212904\n",
      "y_k4 = 2.7192955227108724e+39\n",
      "\n",
      "y = 1.2949026299054624e+38\n",
      "yp = 30.82793461908621\n",
      "-------------------------------------------------- \n",
      "\n",
      "\n",
      "y_k1 = 30.82793461908621\n",
      "y_k2 = 1387.6071403063615\n",
      "y_k3 = 83312179990.26254\n",
      "y_k4 = 1.1144460762128065e+51\n",
      "\n",
      "y = 5.306886077216789e+49\n",
      "yp = 41.02259521365283\n",
      "-------------------------------------------------- \n",
      "\n",
      "\n",
      "y_k1 = 41.02259521365283\n",
      "y_k2 = 4378.060968596874\n",
      "y_k3 = 27055763626661.75\n",
      "y_k4 = 4.0254604213075836e+63\n",
      "\n",
      "y = 1.9168859149089037e+62\n",
      "yp = 54.588584634577586\n",
      "-------------------------------------------------- \n",
      "\n",
      "\n"
     ]
    },
    {
     "data": {
      "image/png": "[encoded data removed]",
      "text/plain": [
       "<Figure size 432x288 with 1 Axes>"
      ]
     },
     "metadata": {
      "needs_background": "light"
     },
     "output_type": "display_data"
    }
   ],
   "source": [
    "ypps = yps = ys = np.array([1])  # since y''(0) = y'(0) = y(0) = 1\n",
    "\n",
    "yp = 0\n",
    "y = 0\n",
    "for x in xs[1:]:\n",
    "    \n",
    "    # -------------- For y_k1:\n",
    "    yp1 = yps[-1]  # the latest value of y' will be our starting point each iteration.\n",
    "    y_k1 = yp1  # and it is also our first k! \n",
    "    \n",
    "    # -------------- For y_k2:\n",
    "    # We need the value of y', (h/2)*y_k1 away from the first value. Let's define a distance h2 then:\n",
    "    h2 = y_k1*h/2\n",
    "    \n",
    "    yp_k1_for_y_k2 = ypp(yp1)\n",
    "    yp_k2_for_y_k2 = ypp(yp1+0.5*yp_k1_for_y_k2*h2)\n",
    "    yp_k3_for_y_k2 = ypp(yp1+0.5*yp_k2_for_y_k2*h2)\n",
    "    yp_k4_for_y_k2 = ypp(yp1+yp_k3_for_y_k2*h2)\n",
    "    \n",
    "    # this is going to be hard to fit:\n",
    "    yp2 = yp1 + (1/6)*(yp_k1_for_y_k2 + 2*yp_k2_for_y_k2 + 2*yp_k3_for_y_k2 + yp_k4_for_y_k2)*h2\n",
    "    y_k2 = yp2\n",
    "    \n",
    "    \n",
    "    # -------------- For y_k3:\n",
    "    # Now we go (h/2)*y_k2 - (y_k1*h/2) away from the last value, yp2. Defining h3 then:\n",
    "    \n",
    "    h3 = y_k2*h/2 - y_k1*h/2\n",
    "    \n",
    "    yp_k1_for_y_k3 = ypp(yp2)\n",
    "    yp_k2_for_y_k3 = ypp(yp2+0.5*yp_k1_for_y_k3*h3)\n",
    "    yp_k3_for_y_k3 = ypp(yp2+0.5*yp_k2_for_y_k3*h3)\n",
    "    yp_k4_for_y_k3 = ypp(yp2+yp_k3_for_y_k3*h3)\n",
    "    \n",
    "    yp3 = yp2 + (1/6)*(yp_k1_for_y_k3 + 2*yp_k2_for_y_k3 + 2*yp_k3_for_y_k3 + yp_k4_for_y_k3)*h3\n",
    "    y_k3 = yp3\n",
    "    \n",
    "    # -------------- For y_k4:\n",
    "    # Now we go h*k3 - (h/2)k2 away from the last value, yp3. Defining h4 then:\n",
    "    \n",
    "    h4 = y_k3*h - h/2*y_k2\n",
    "    \n",
    "    yp_k1_for_y_k4 = ypp(yp3)\n",
    "    yp_k2_for_y_k4 = ypp(yp3+0.5*yp_k1_for_y_k4*h4)\n",
    "    yp_k3_for_y_k4 = ypp(yp3+0.5*yp_k2_for_y_k4*h4)\n",
    "    yp_k4_for_y_k4 = ypp(yp3+yp_k3_for_y_k4*h4)\n",
    "    \n",
    "    yp4 = yp3 + (1/6)*(yp_k1_for_y_k4 + 2*yp_k2_for_y_k4 + 2*yp_k3_for_y_k4 + yp_k4_for_y_k4)*h4\n",
    "    y_k4 = yp4\n",
    "    \n",
    "    \n",
    "    # ------ That should be all, claiming the much deserved y value:\n",
    "    \n",
    "    y = ys[-1] + (1/6)*(y_k1 + 2*y_k2 + 2*y_k3 + y_k4)*h\n",
    "    print(f\"y_k1 = {y_k1}\\ny_k2 = {y_k2}\\ny_k3 = {y_k3}\\ny_k4 = {y_k4}\\n\")\n",
    "    print(f\"y = {y}\")\n",
    "    ys = np.append(ys, y)\n",
    "    \n",
    "    \n",
    "    # ------ Now we just need to calculate the y' value at h away from the initial value, for the next iteration.\n",
    "    yp_k1 = ypp(yps[-1])\n",
    "    yp_k2 = ypp(yps[-1]+0.5*yp_k1*h)\n",
    "    yp_k3 = ypp(yps[-1]+0.5*yp_k2*h)\n",
    "    yp_k4 = ypp(yps[-1]+yp_k3*h)\n",
    "    \n",
    "    yp = yps[-1] + (1/6)*(yp_k1 + 2*yp_k2 + 2*yp_k3 + yp_k4)*h\n",
    "    print(f'yp = {yp}')\n",
    "    print('-'*50,'\\n\\n')\n",
    "    yps = np.append(yps, yp)\n",
    "\n",
    "    \n",
    "plt.plot(xs,ys, 'o-')\n",
    "plt.show()"
   ]
  },
  {
   "cell_type": "markdown",
   "metadata": {},
   "source": [
    "**We see that the values blow up here after iteration 6, unfortunately the N = 15 value doesn't seem viable for this code.**  "
   ]
  },
  {
   "cell_type": "markdown",
   "metadata": {},
   "source": [
    "Let's see if it at least works with higher N's:"
   ]
  },
  {
   "cell_type": "code",
   "execution_count": 6,
   "metadata": {},
   "outputs": [
    {
     "name": "stdout",
     "output_type": "stream",
     "text": [
      "N = 200 plot:\n"
     ]
    },
    {
     "data": {
      "image/png": "[encoded data removed]",
      "text/plain": [
       "<Figure size 432x288 with 1 Axes>"
      ]
     },
     "metadata": {
      "needs_background": "light"
     },
     "output_type": "display_data"
    },
    {
     "name": "stdout",
     "output_type": "stream",
     "text": [
      "N = 500 plot:\n"
     ]
    },
    {
     "data": {
      "image/png": "[encoded data removed]",
      "text/plain": [
       "<Figure size 432x288 with 1 Axes>"
      ]
     },
     "metadata": {
      "needs_background": "light"
     },
     "output_type": "display_data"
    },
    {
     "name": "stdout",
     "output_type": "stream",
     "text": [
      "N = 1000 plot:\n"
     ]
    },
    {
     "data": {
      "image/png": "[encoded data removed]",
      "text/plain": [
       "<Figure size 432x288 with 1 Axes>"
      ]
     },
     "metadata": {
      "needs_background": "light"
     },
     "output_type": "display_data"
    },
    {
     "name": "stdout",
     "output_type": "stream",
     "text": [
      "N = 10000 plot:\n"
     ]
    },
    {
     "data": {
      "image/png": "[encoded data removed]",
      "text/plain": [
       "<Figure size 432x288 with 1 Axes>"
      ]
     },
     "metadata": {
      "needs_background": "light"
     },
     "output_type": "display_data"
    }
   ],
   "source": [
    "for N in [200, 500, 1000, 10000]:\n",
    "    ypps = yps = ys = np.array([1])\n",
    "    xs = np.linspace(0,4,N)\n",
    "    h = xs[1] - xs[0]\n",
    "\n",
    "    yp = 0\n",
    "    y = 0\n",
    "    for x in xs[1:]:\n",
    "\n",
    "        yp1 = yps[-1]\n",
    "        y_k1 = yp1\n",
    "\n",
    "        h2 = y_k1*h/2\n",
    "\n",
    "        yp_k1_for_y_k2 = ypp(yp1)\n",
    "        yp_k2_for_y_k2 = ypp(yp1+0.5*yp_k1_for_y_k2*h2)\n",
    "        yp_k3_for_y_k2 = ypp(yp1+0.5*yp_k2_for_y_k2*h2)\n",
    "        yp_k4_for_y_k2 = ypp(yp1+yp_k3_for_y_k2*h2)\n",
    "\n",
    "        yp2 = yp1 + (1/6)*(yp_k1_for_y_k2 + 2*yp_k2_for_y_k2 + 2*yp_k3_for_y_k2 + yp_k4_for_y_k2)*h2\n",
    "        y_k2 = yp2\n",
    "\n",
    "\n",
    "        h3 = y_k2*h/2 - y_k1*h/2\n",
    "\n",
    "        yp_k1_for_y_k3 = ypp(yp2)\n",
    "        yp_k2_for_y_k3 = ypp(yp2+0.5*yp_k1_for_y_k3*h3)\n",
    "        yp_k3_for_y_k3 = ypp(yp2+0.5*yp_k2_for_y_k3*h3)\n",
    "        yp_k4_for_y_k3 = ypp(yp2+yp_k3_for_y_k3*h3)\n",
    "\n",
    "        yp3 = yp2 + (1/6)*(yp_k1_for_y_k3 + 2*yp_k2_for_y_k3 + 2*yp_k3_for_y_k3 + yp_k4_for_y_k3)*h3\n",
    "        y_k3 = yp3\n",
    "\n",
    "\n",
    "        h4 = y_k3*h - h/2*y_k2\n",
    "\n",
    "        yp_k1_for_y_k4 = ypp(yp3)\n",
    "        yp_k2_for_y_k4 = ypp(yp3+0.5*yp_k1_for_y_k4*h4)\n",
    "        yp_k3_for_y_k4 = ypp(yp3+0.5*yp_k2_for_y_k4*h4)\n",
    "        yp_k4_for_y_k4 = ypp(yp3+yp_k3_for_y_k4*h4)\n",
    "\n",
    "        yp4 = yp3 + (1/6)*(yp_k1_for_y_k4 + 2*yp_k2_for_y_k4 + 2*yp_k3_for_y_k4 + yp_k4_for_y_k4)*h4\n",
    "        y_k4 = yp4\n",
    "\n",
    "\n",
    "        y = ys[-1] + (1/6)*(y_k1 + 2*y_k2 + 2*y_k3 + y_k4)*h\n",
    "        ys = np.append(ys, y)\n",
    "\n",
    "        yp_k1 = ypp(yps[-1])\n",
    "        yp_k2 = ypp(yps[-1]+0.5*yp_k1*h)\n",
    "        yp_k3 = ypp(yps[-1]+0.5*yp_k2*h)\n",
    "        yp_k4 = ypp(yps[-1]+yp_k3*h)\n",
    "\n",
    "        yp = yps[-1] + (1/6)*(yp_k1 + 2*yp_k2 + 2*yp_k3 + yp_k4)*h\n",
    "        yps = np.append(yps, yp)\n",
    "\n",
    "    print(f\"N = {N} plot:\")\n",
    "    plt.plot(xs,ys)\n",
    "    plt.plot(smooth_xs, analytical_yp, '--r')\n",
    "    plt.plot()\n",
    "    plt.show()"
   ]
  },
  {
   "cell_type": "markdown",
   "metadata": {},
   "source": [
    "Got better as N increases, but that in the end defeats the whole purpose, so can't call this successful! :c"
   ]
  }
 ],
 "metadata": {
  "kernelspec": {
   "display_name": "Python 3",
   "language": "python",
   "name": "python3"
  },
  "language_info": {
   "codemirror_mode": {
    "name": "ipython",
    "version": 3
   },
   "file_extension": ".py",
   "mimetype": "text/x-python",
   "name": "python",
   "nbconvert_exporter": "python",
   "pygments_lexer": "ipython3",
   "version": "3.8.5"
  }
 },
 "nbformat": 4,
 "nbformat_minor": 4
}
