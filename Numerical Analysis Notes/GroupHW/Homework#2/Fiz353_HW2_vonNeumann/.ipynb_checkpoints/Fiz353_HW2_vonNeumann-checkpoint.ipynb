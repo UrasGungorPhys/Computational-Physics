{
 "cells": [
  {
   "cell_type": "markdown",
   "metadata": {},
   "source": [
    "# Question 1:"
   ]
  },
  {
   "cell_type": "markdown",
   "metadata": {},
   "source": [
    "### Part 1 - The equations:\n",
    "By following the current loops using Faraday's law (or Kirchoff's loop rule for less excitement) we get the linear equation set:\n",
    "\n",
    "<br>\n",
    "$$\n",
    "(R_1 + R_2 + r_2)I_2 + R_1 I_3 = V_1\\\\\n",
    "R_1 I_2 + (R_1 + R_3 + r_3) I_3 = V_2 \n",
    "$$\n",
    " <br>\n",
    " \n",
    "Rewriting these using matrices:\n",
    "\n",
    "$$\n",
    "\\begin{bmatrix}\n",
    "(R_1 + R_2 + r_2)&R_1\\\\\n",
    "R_1 & (R_1 + R_3 + r_3)\n",
    "\\end{bmatrix}\n",
    "\\begin{bmatrix}I_2\\\\I_3\\end{bmatrix}\n",
    "=\\begin{pmatrix}V_1\\\\V_2\\end{pmatrix}\n",
    "$$\n",
    "<br>\n",
    "With the numerical values, that is:\n",
    "\n",
    "$$\n",
    "\\begin{bmatrix}\n",
    "(6 + 2.5 + 0.5)&6\\\\\n",
    "6 & (6 + 1.5 + 0.5)\n",
    "\\end{bmatrix}\n",
    "\\begin{bmatrix}I_2\\\\I_3\\end{bmatrix}\n",
    "=\\begin{pmatrix}18\\\\45\\end{pmatrix}\n",
    "$$\n",
    "<br>"
   ]
  },
  {
   "cell_type": "code",
   "execution_count": 1,
   "metadata": {},
   "outputs": [],
   "source": [
    "import numpy as np\n",
    "coeffs = np.array([[6 + 2.5 + 0.5, 6], [6, 6 + 1.5 + 0.5]])   \n",
    "solns = np.array([18, 45])"
   ]
  },
  {
   "cell_type": "markdown",
   "metadata": {},
   "source": [
    "### Part 2 - Solution using the inverse of the coefficients matrix:\n",
    "\n",
    "\n",
    "$$ C \\begin{bmatrix}I_2\\\\I_3\\end{bmatrix} = \\begin{pmatrix}V_1\\\\V_2\\end{pmatrix}$$\n",
    "\n",
    "$$ C^{-1}\\,C \\begin{bmatrix}I_2\\\\I_3\\end{bmatrix} = C^{-1} \\begin{pmatrix}V_1\\\\V_2\\end{pmatrix}$$\n",
    "\n",
    "$$ I\\,\\begin{bmatrix}I_2\\\\I_3\\end{bmatrix} = C^{-1} \\begin{pmatrix}V_1\\\\V_2\\end{pmatrix}$$\n",
    "\n",
    "$$ \\begin{bmatrix}I_2\\\\I_3\\end{bmatrix} = C^{-1} \\begin{pmatrix}V_1\\\\V_2\\end{pmatrix} $$\n",
    "<br>"
   ]
  },
  {
   "cell_type": "code",
   "execution_count": 2,
   "metadata": {},
   "outputs": [
    {
     "name": "stdout",
     "output_type": "stream",
     "text": [
      "I2 = -3.5\n",
      "I3 = 8.25\n"
     ]
    }
   ],
   "source": [
    "c_inv = np.linalg.inv(coeffs)\n",
    "(I2, I3) = np.dot(c_inv, solns)\n",
    "print(f\"I2 = {I2}\\nI3 = {I3}\")\n",
    "# np.linalg.solve(coeffs, solns) - just to check"
   ]
  },
  {
   "cell_type": "markdown",
   "metadata": {},
   "source": [
    "### Part 3 - Solution using Cramer's rule:\n",
    "\n",
    "\n",
    "<br>\n",
    "$$\n",
    "\\begin{bmatrix}\n",
    "c_{11} & c_{12}\\\\\n",
    "c_{21} & c_{22}\n",
    "\\end{bmatrix}\n",
    "\\begin{bmatrix}I_2\\\\I_3\\end{bmatrix}\n",
    "=\\begin{pmatrix}V_1\\\\V_2\\end{pmatrix}\n",
    "$$\n",
    "<br>\n",
    "\n",
    "<br>\n",
    "$$\n",
    "I_2 = \\frac{det\\begin{bmatrix} V_1 & c_{12}\\\\ V_2 & c_{22} \\end{bmatrix}}{det\\begin{bmatrix}\n",
    "c_{11} & c_{12}\\\\\n",
    "c_{21} & c_{22}\n",
    "\\end{bmatrix}},\\; \n",
    "I_3 = \\frac{det\\begin{bmatrix} c_{11} & V_1\\\\ c_{21} & V_2 \\end{bmatrix}}{det\\begin{bmatrix}\n",
    "c_{11} & c_{12}\\\\\n",
    "c_{21} & c_{22}\n",
    "\\end{bmatrix}}\n",
    "$$\n",
    "<br>"
   ]
  },
  {
   "cell_type": "code",
   "execution_count": 3,
   "metadata": {},
   "outputs": [
    {
     "name": "stdout",
     "output_type": "stream",
     "text": [
      "I1 using Cramer's rule: -3.5\n",
      "I2 using Cramer's rule: 8.250000000000002\n"
     ]
    }
   ],
   "source": [
    "cram1 = np.array([[18, 6], [45, 6 + 1.5 + 0.5]])\n",
    "I1_c = np.linalg.det(cram1) / np.linalg.det(coeffs)\n",
    "\n",
    "cram2 = np.array([[6 + 2.5 + 0.5, 18], [6, 45]])\n",
    "I2_c = np.linalg.det(cram2) / np.linalg.det(coeffs)\n",
    "\n",
    "print(f\"I1 using Cramer's rule: {I1_c}\\nI2 using Cramer's rule: {I2_c}\")"
   ]
  },
  {
   "cell_type": "markdown",
   "metadata": {},
   "source": [
    "### Part 4 - Solution using LU decomposition:\n",
    "$$C \\begin{bmatrix}I_2\\\\I_3\\end{bmatrix} = \\begin{pmatrix}V_1\\\\V_2\\end{pmatrix}$$\n",
    "\n",
    "<br>\n",
    "$$ LU \\begin{bmatrix}I_2\\\\I_3\\end{bmatrix} = \\begin{pmatrix}V_1\\\\V_2\\end{pmatrix}$$\n",
    "\n",
    "<br>\n",
    "Here we rewrite $U \\,\\textbf{I}_{2,3}$ as $\\textbf{z}$:\n",
    "\n",
    "<br>\n",
    "$$\\textbf{z} = \\begin{bmatrix} u_{11} & u_{12}\\\\0 & u_{22}\\end{bmatrix}\\begin{bmatrix}I_2\\\\I_3\\end{bmatrix}$$\n",
    "\n",
    "<br>\n",
    "$$\\begin{bmatrix}l_{11} & 0 \\\\ l_{21} & l_{22}\\end{bmatrix}\\begin{bmatrix}z_2\\\\z_3\\end{bmatrix} = \\begin{pmatrix}V_1\\\\V_2\\end{pmatrix}$$\n",
    "\n",
    "<br>\n",
    "From here we get the equations:\n",
    "<br>\n",
    "$$\n",
    "z_2 = \\frac{V_1}{l_{11}}\n",
    "$$\n",
    "\n",
    "$$\n",
    "l_{21}z_2 + l_{22}z_3 = V_2\n",
    "$$\n",
    "\n",
    "<br>\n",
    "And:\n",
    "<br>\n",
    "$$\\fbox{$z_2 = \\frac{V_1}{l_{11}}$}$$\n",
    "$$\\fbox{$z_3 = l_{22} V_2- \\frac{l_{21}}{l_{11}\\,l_{22}} V_1$}$$\n",
    "\n",
    "<br>\n",
    "We can now use Scipy to start calculating:"
   ]
  },
  {
   "cell_type": "code",
   "execution_count": 4,
   "metadata": {},
   "outputs": [
    {
     "name": "stdout",
     "output_type": "stream",
     "text": [
      "z2 = 18.0\n",
      "z3 = 33.0\n"
     ]
    }
   ],
   "source": [
    "import scipy.linalg as la\n",
    "\n",
    "LU = la.lu(coeffs)\n",
    "(I, L, U) = LU\n",
    "\n",
    "# let's pull out the values we need:\n",
    "(l11, l21, l22) = L[0][0], L[1][0], L[1][1]\n",
    "V1, V2 = solns\n",
    "\n",
    "z2 = V1/l11\n",
    "z3 = l22*V2 - l21*V1 / (l11*l22)\n",
    "\n",
    "print(f\"z2 = {z2}\\nz3 = {z3}\")"
   ]
  },
  {
   "cell_type": "markdown",
   "metadata": {},
   "source": [
    "Now that we know $z_2$ and $z_3$, we can calculate $I_2$ and $I_3$:\n",
    "\n",
    "<br>\n",
    "$$\n",
    "\\begin{bmatrix} u_{11} & u_{12}\\\\0 & u_{22}\\end{bmatrix}\\begin{bmatrix}I_2\\\\I_3\\end{bmatrix} = \\begin{bmatrix}z_2\\\\z_3\\end{bmatrix}\n",
    "$$\n",
    "<br>\n",
    "\n",
    "$$\n",
    "I_3 = \\frac{z_3}{u_{22}}\n",
    "$$\n",
    "\n",
    "$$\n",
    "u_{11}\\,I_2 + u_{12}\\,I_3 = z_2\n",
    "$$\n",
    "<br>\n",
    "\n",
    "$$\\fbox{$I_3 = \\frac{z_3}{u_{22}}$}$$\n",
    "$$\\fbox{$I_2 = \\frac{z_2}{u_{11}} - \\frac{u_{12}}{u_{11}\\,u_{22}} z_3$}$$"
   ]
  },
  {
   "cell_type": "code",
   "execution_count": 5,
   "metadata": {},
   "outputs": [
    {
     "name": "stdout",
     "output_type": "stream",
     "text": [
      "LU decompostition result for I2: -3.5\n",
      "LU decompostition result for I3: 8.25\n"
     ]
    }
   ],
   "source": [
    "(u11, u12, u22) = U[0][0], U[0][1], U[1][1]\n",
    "\n",
    "I3_LU = z3/u22\n",
    "I2_LU = z2/u11 - u12*z3 / (u11*u22)\n",
    "\n",
    "print(f\"LU decompostition result for I2: {I2}\\nLU decompostition result for I3: {I3}\")  # wohoo!"
   ]
  },
  {
   "cell_type": "markdown",
   "metadata": {},
   "source": [
    "### Part 5 - New $V_1$, $V_2$ values:\n",
    "$V_1$ = 30, $V_2$ = 15:\n",
    "\n",
    "Yes, we definitely understand how convenient this is and are very satisfied :)\n",
    "\n",
    "Again we can copy-paste our equations for $\\textbf{z}$ and $\\textbf{I}_{2,3}$, because the L and U values all stay the same:\n",
    "\n",
    "<br>\n",
    "$$\\fbox{$z_2 = \\frac{V_1}{l_{11}}$}$$\n",
    "$$\\fbox{$z_3 = l_{22} V_2- \\frac{l_{21}}{l_{11}\\,l_{22}} V_1$}$$\n",
    "\n",
    "\n",
    "\n",
    "$$\\fbox{$I_3 = \\frac{z_3}{u_{22}}$}$$\n",
    "$$\\fbox{$I_2 = \\frac{z_2}{u_{11}} - \\frac{u_{12}}{u_{11}\\,u_{22}} z_3$}$$"
   ]
  },
  {
   "cell_type": "code",
   "execution_count": 6,
   "metadata": {},
   "outputs": [
    {
     "name": "stdout",
     "output_type": "stream",
     "text": [
      "New LU result for I2: 4.166666666666667\n",
      "New LU result for I3: -1.25\n"
     ]
    }
   ],
   "source": [
    "V1_5, V2_5 = 30, 15\n",
    "\n",
    "z2_5 = V1_5/l11\n",
    "z3_5 = l22*V2_5 - l21*V1_5 / (l11*l22)\n",
    "\n",
    "I3_5 = z3_5/u22\n",
    "I2_5 = z2_5/u11 - u12*z3_5 / (u11*u22)\n",
    "\n",
    "print(f\"New LU result for I2: {I2_5}\\nNew LU result for I3: {I3_5}\")"
   ]
  },
  {
   "cell_type": "markdown",
   "metadata": {},
   "source": [
    "\n",
    "\n",
    "Let's also check that, using the `np.linalg.solve()` function:"
   ]
  },
  {
   "cell_type": "code",
   "execution_count": 7,
   "metadata": {},
   "outputs": [
    {
     "data": {
      "text/plain": [
       "array([ 4.16666667, -1.25      ])"
      ]
     },
     "execution_count": 7,
     "metadata": {},
     "output_type": "execute_result"
    }
   ],
   "source": [
    "coeffs = np.array([[6 + 2.5 + 0.5, 6], [6, 6 + 1.5 + 0.5]])\n",
    "solns_5 = np.array([30, 15])\n",
    "\n",
    "np.linalg.solve(coeffs, solns_5)"
   ]
  },
  {
   "cell_type": "markdown",
   "metadata": {},
   "source": [
    "$\\rightarrow$ All good, ours even has a higher precision 8)\n",
    "\n"
   ]
  },
  {
   "cell_type": "markdown",
   "metadata": {},
   "source": [
    "# Question 2:"
   ]
  },
  {
   "cell_type": "code",
   "execution_count": 8,
   "metadata": {},
   "outputs": [
    {
     "name": "stdout",
     "output_type": "stream",
     "text": [
      "Threshold for 10%: 0\n",
      "Threshold for 30%: 6\n",
      "Threshold for 50%: 30\n",
      "Threshold for 75%: 135\n",
      "Threshold for 90%: 403\n",
      "Threshold for 95%: 651\n"
     ]
    }
   ],
   "source": [
    "from PIL import Image\n",
    "from resizeimage import resizeimage as rsi\n",
    "# %pip install python-resize-image\n",
    "# This module is to resize the images to %25, as requested.\n",
    "\n",
    "# letting Pillow do its magic:\n",
    "image = Image.open(\"data/Solvay_conference_1927.jpg\")\n",
    "\n",
    "# we can resize the original image to 25% and save it first:\n",
    "rsi.resize_cover(image, [image.size[0]*0.4,image.size[1]*0.4]).save(\"100.jpg\")\n",
    "\n",
    "# letting Numpy do its magic:\n",
    "data = np.asarray(image)\n",
    "\n",
    "# singular value decomposition for u,s and vh:\n",
    "[u,s,vh]=np.linalg.svd(data)\n",
    "total_sigma = np.sum(s)  # sum of the σ values to calculate the %\n",
    "\n",
    "for x in (10,30,50,75,90,95):  # looping for the different desired x% values\n",
    "    break_value = total_sigma*x/100\n",
    "    tot_aux = 0\n",
    "    \n",
    "    for i in range(s.size):\n",
    "        tot_aux += s[i]  # now we add the σ, until we reach the desired size\n",
    "        if(tot_aux > break_value):\n",
    "            print(f\"Threshold for {x}%: {i}\")\n",
    "            break\n",
    "        \n",
    "    threshold = i\n",
    "    decomposed_array = np.empty(data.shape)\n",
    "    \n",
    "    for i in range(threshold):\n",
    "        # A = ((σ1*u1*v1)^T)+...+((σr*ur*vr)^T)\n",
    "        decomposed_array += s[i]*np.dot(np.array([u[:,i]]).T,np.array([vh[i,:]])) \n",
    "    \n",
    "    # letting Pillow do its magic again to undo Numpy's magic:\n",
    "    image = Image.fromarray(decomposed_array)\n",
    "    \n",
    "    # translating color scale to gray:\n",
    "    image = image.convert(\"L\")\n",
    "    \n",
    "    # resizing to %25:\n",
    "    image=rsi.resize_cover(image, [image.size[0]*0.4,image.size[1]*0.4])\n",
    "    image.save(str(x)+\".jpg\")"
   ]
  },
  {
   "cell_type": "markdown",
   "metadata": {},
   "source": [
    "# Question 3:\n"
   ]
  },
  {
   "cell_type": "code",
   "execution_count": 9,
   "metadata": {},
   "outputs": [],
   "source": [
    "import pandas as pd\n",
    "import seaborn as sns\n",
    "\n",
    "dinodf = pd.read_csv(\"data/data_dino.csv\").set_index(\"x\")\n",
    "stardf = pd.read_csv(\"data/data_star.csv\").set_index(\"x\")"
   ]
  },
  {
   "cell_type": "markdown",
   "metadata": {},
   "source": [
    "$$\n",
    "V_y = \\frac{\\sum(y_i-\\overline{y})^2}{n-1}\n",
    "$$\n",
    "\n",
    "<br>\n",
    "\n",
    "$$\n",
    "V_{yx} = \\frac{\\sum(y_i-\\overline{y})(x_i - \\overline{x})}{n-1}\n",
    "$$"
   ]
  },
  {
   "cell_type": "markdown",
   "metadata": {},
   "source": [
    "We need a handful of different residual sum values to plug into these equations, we can neatly calculate them in a compact for loop:"
   ]
  },
  {
   "cell_type": "markdown",
   "metadata": {},
   "source": [
    "### Dino Dataset:"
   ]
  },
  {
   "cell_type": "code",
   "execution_count": 10,
   "metadata": {},
   "outputs": [
    {
     "name": "stdout",
     "output_type": "stream",
     "text": [
      "\n",
      "Mean of the x values in the Dino Dataset: 54.26327323943662\n",
      "Mean of the y values in the Dino Dataset: 47.832252816901416\n",
      "\n",
      "Variance of the x values in the Dino dataset: 281.0699875917608\n",
      "Variance of the y values in the Dino dataset: 725.5159610042117\n",
      "\n",
      "Covariance of the x and y values in the Dino dataset: -29.113932673470174\n",
      "\n",
      "\n",
      "Datasaurus, roooar!\n",
      "\n",
      "\n"
     ]
    },
    {
     "data": {
      "image/png": "[encoded data removed]",
      "text/plain": [
       "<Figure size 401.875x360 with 1 Axes>"
      ]
     },
     "metadata": {
      "needs_background": "light"
     },
     "output_type": "display_data"
    }
   ],
   "source": [
    "dinoy = dinodf[\"y\"].values\n",
    "dino_ymean = np.sum(dinodf[\"y\"].values) / len(dinoy)\n",
    "\n",
    "dinox = dinodf.index.values\n",
    "dino_xmean = np.sum(dinox) / len(dinox)\n",
    "\n",
    "st_x = 0\n",
    "st_y = 0\n",
    "st_xy = 0\n",
    "\n",
    "for i in range(len(dinoy)):\n",
    "    \n",
    "    st_x += (dinox[i] - dino_xmean)**2\n",
    "    st_y += (dinoy[i] - dino_ymean)**2\n",
    "    st_xy += (dinox[i] - dino_xmean) * (dinoy[i] - dino_ymean)\n",
    "    \n",
    "var_dinox = st_x / (len(dinox) - 1)\n",
    "var_dinoy = st_y / (len(dinoy) - 1)\n",
    "covar_dino = st_xy / (len(dinoy) - 1)\n",
    "\n",
    "print(f\"\\nMean of the x values in the Dino Dataset: {dino_xmean}\")\n",
    "print(f\"Mean of the y values in the Dino Dataset: {dino_ymean}\\n\")\n",
    "\n",
    "print(f\"Variance of the x values in the Dino dataset: {var_dinox}\")\n",
    "print(f\"Variance of the y values in the Dino dataset: {var_dinoy}\\n\")\n",
    "\n",
    "print(f\"Covariance of the x and y values in the Dino dataset: {covar_dino}\\n\\n\\nDatasaurus, roooar!\\n\\n\")\n",
    "dino_plot = sns.relplot(data=dinodf)"
   ]
  },
  {
   "cell_type": "markdown",
   "metadata": {},
   "source": [
    "### Star Dataset:"
   ]
  },
  {
   "cell_type": "code",
   "execution_count": 11,
   "metadata": {},
   "outputs": [
    {
     "name": "stdout",
     "output_type": "stream",
     "text": [
      "\n",
      "Mean of the x values in the Star Dataset: 54.26734110449506\n",
      "Mean of the y values in the Star Dataset: 47.839545225097886\n",
      "\n",
      "Variance of the x values in the Star dataset: 281.1979931971459\n",
      "Variance of the y values in the Star dataset: 725.2396947522021\n",
      "\n",
      "Covariance of the x and y values in the Star dataset: -28.43277185623957\n",
      "\n",
      "\n",
      "The plot of a true star:\n",
      "\n",
      "\n"
     ]
    },
    {
     "data": {
      "image/png": "[encoded data removed]",
      "text/plain": [
       "<Figure size 401.875x360 with 1 Axes>"
      ]
     },
     "metadata": {
      "needs_background": "light"
     },
     "output_type": "display_data"
    }
   ],
   "source": [
    "stary = stardf[\"y\"].values\n",
    "star_ymean = np.sum(stary) / len(stary)\n",
    "\n",
    "starx = stardf.index.values\n",
    "star_xmean = np.sum(starx) / len(starx)\n",
    "\n",
    "st_x = 0\n",
    "st_y = 0\n",
    "st_xy = 0\n",
    "\n",
    "for i in range(len(dinoy)):\n",
    "    \n",
    "    st_x += (starx[i] - star_xmean)**2\n",
    "    st_y += (stary[i] - star_ymean)**2\n",
    "    st_xy += (starx[i] - star_xmean) * (stary[i] - star_ymean)\n",
    "    \n",
    "var_starx = st_x / (len(starx) - 1)\n",
    "var_stary = st_y / (len(stary) - 1)\n",
    "covar_star = st_xy / (len(stary) - 1)\n",
    "\n",
    "print(f\"\\nMean of the x values in the Star Dataset: {star_xmean}\")\n",
    "print(f\"Mean of the y values in the Star Dataset: {star_ymean}\\n\")\n",
    "\n",
    "print(f\"Variance of the x values in the Star dataset: {var_starx}\")\n",
    "print(f\"Variance of the y values in the Star dataset: {var_stary}\\n\")\n",
    "\n",
    "print(f\"Covariance of the x and y values in the Star dataset: {covar_star}\\n\\n\\nThe plot of a true star:\\n\\n\")\n",
    "\n",
    "star_plot = sns.relplot(data=stardf)"
   ]
  },
  {
   "cell_type": "markdown",
   "metadata": {},
   "source": [
    "The values we have reached are remarkably close to eachother. This very practically demonstrates that in our universe, all stars, all life, and all graphs are made of the same building blocks, and perhaps the universe itself cannot even distinguish them from eachother. They are all stardust 8)!"
   ]
  },
  {
   "cell_type": "markdown",
   "metadata": {},
   "source": [
    "More mathematically speaking, this is a great demonstration of what our course is all about, it proves that our efforts of fitting curves onto datasets were never in vain, as we see two rather different shapes come out to have the same results from basic statistical analyses. A proper double-edged sword, it also shows that we cannot simply relly on statistics to know if our model has fit enough, it can only take us so far. Even if it numerically behaves so right in some values and in general, we have no guarantees that it will behave always. We can be snuck onto from all directions, so we need to use our heads. We see now, just how much data visualization helps with that, a visual guide lets us see the big picture of what is actually going on, shows us the parts we may have missed, and others that we did not even come close to guessing. -- And at least guarantees that we will be able to distinguish the data of a dinosaur from that of a star."
   ]
  },
  {
   "cell_type": "markdown",
   "metadata": {},
   "source": [
    "## References:\n"
   ]
  },
  {
   "cell_type": "markdown",
   "metadata": {},
   "source": [
    "- Riley, Hobson, Bence - Mathematical Methods for Physics and Engineering 3rd Edition:\n",
    "    - Chapter 31 - Statistics\n",
    "    - Chapter 8 - Matrices and Vector Spaces\n",
    "    \n",
    "\n",
    "- Chapra, Canale - Numerical Methods for Engineers 7th Edition:\n",
    "    - Chapter 5 - Curve Fitting (the statistical parts)\n",
    "    \n",
    "    \n",
    "- Khan Academy - Course on Probabilty and Statistics\n",
    "    - Variance, Covariance\n",
    "    - Link to course: https://www.khanacademy.org/math/statistics-probability\n",
    "    \n",
    "\n",
    "- MIT OCW - 18.06 by Prof. Gilbert Strang:\n",
    "    - Lectures on LU Decomposition, SVD\n",
    "    - Link to playlist: https://www.youtube.com/playlist?list=PLE7DDD91010BC51F8\n",
    "    \n",
    "    \n",
    "- Walter Lewin Lectures on Physics; 8.02:\n",
    "    - Basic Circuit Analysis (yeah we actually had to look... )\n",
    "    - Link to lecture: https://www.youtube.com/watch?v=ViwSDL657L4&t=2440s\n",
    "    \n",
    "    \n",
    "- Justin Matejka, George Fitzmaurice: Same Stats, Different Graphs: Generating Datasets with Varied Appearance and Identical Statistics through Simulated Annealing:\n",
    "\n",
    "    - https://www.autodesk.com/research/publications/same-stats-different-graphs"
   ]
  }
 ],
 "metadata": {
  "kernelspec": {
   "display_name": "Python 3",
   "language": "python",
   "name": "python3"
  },
  "language_info": {
   "codemirror_mode": {
    "name": "ipython",
    "version": 3
   },
   "file_extension": ".py",
   "mimetype": "text/x-python",
   "name": "python",
   "nbconvert_exporter": "python",
   "pygments_lexer": "ipython3",
   "version": "3.8.3"
  }
 },
 "nbformat": 4,
 "nbformat_minor": 4
}
