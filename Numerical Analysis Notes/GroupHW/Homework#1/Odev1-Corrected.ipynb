{
 "cells": [
  {
   "cell_type": "code",
   "execution_count": 1,
   "metadata": {},
   "outputs": [],
   "source": [
    "import numpy as np\n",
    "from scipy.optimize import minimize\n",
    "import pandas as pd"
   ]
  },
  {
   "cell_type": "markdown",
   "metadata": {},
   "source": [
    "# Question 1:"
   ]
  },
  {
   "cell_type": "markdown",
   "metadata": {},
   "source": [
    "The easiest way to get a linear dataset fitting this criteria I think, is to just use a linear function like $y = 2x+5$ to get a linearly increasing set of y values, then we can add small random error nudges to each value, to make them convincing enough as a data set:"
   ]
  },
  {
   "cell_type": "code",
   "execution_count": 2,
   "metadata": {},
   "outputs": [
    {
     "name": "stdout",
     "output_type": "stream",
     "text": [
      "0     6.680900\n",
      "1     7.815022\n",
      "2    12.578287\n",
      "3    13.904311\n",
      "4    16.206939\n",
      "5    16.026006\n",
      "6    16.943808\n",
      "7    22.253406\n",
      "8    21.524492\n",
      "9    23.805119\n",
      "dtype: float64\n"
     ]
    }
   ],
   "source": [
    "dataset1x = np.array(range(1,11))  # x values ranging from 1 to 10\n",
    "dataset1y = np.array(dataset1x, dtype='float') * 2 + 5  # y values equal to 2x + 5\n",
    "# setting the data type to float, because we are about to add the floats 8)\n",
    "np.random.seed(353)\n",
    "for i in range(len(dataset1y)):\n",
    "    error = np.random.rand()*5 - 2.5  # random values between -2.5 and 2.5\n",
    "    dataset1y[i] += error\n",
    "\n",
    "dataset1 = np.array([dataset1y, dataset1x])\n",
    "d1_mean = dataset1.mean()\n",
    "series = pd.Series(dataset1y)\n",
    "print(series)  # here it is!"
   ]
  },
  {
   "cell_type": "code",
   "execution_count": 3,
   "metadata": {},
   "outputs": [
    {
     "data": {
      "text/plain": [
       "<seaborn.axisgrid.FacetGrid at 0x7fd2085317c0>"
      ]
     },
     "execution_count": 3,
     "metadata": {},
     "output_type": "execute_result"
    },
    {
     "data": {
      "image/png": "[encoded data removed]",
      "text/plain": [
       "<Figure size 360x360 with 1 Axes>"
      ]
     },
     "metadata": {},
     "output_type": "display_data"
    }
   ],
   "source": [
    "import seaborn as sns\n",
    "\n",
    "sns.set(rc={'axes.facecolor':'gray', 'figure.facecolor':'dimgray'})\n",
    "# dark themes may be an addiction :)\n",
    "sns.relplot(data=series, kind=\"line\", marker=\"o\")"
   ]
  },
  {
   "cell_type": "markdown",
   "metadata": {},
   "source": [
    "Now to find the best fitting line for this graph we can use the minimize method, and since the data was originally based on $y=2x+5$ it makes sense to start it off at $m=2$ and $n=5$, the difference in those values will be caused by the error we have added on the data."
   ]
  },
  {
   "cell_type": "code",
   "execution_count": 4,
   "metadata": {},
   "outputs": [
    {
     "name": "stdout",
     "output_type": "stream",
     "text": [
      "      fun: 14.564302772637767\n",
      " hess_inv: array([[ 0.02145317, -0.14068814],\n",
      "       [-0.14068814,  0.9820752 ]])\n",
      "      jac: array([ 7.15255737e-07, -8.34465027e-07])\n",
      "  message: 'Optimization terminated successfully.'\n",
      "     nfev: 15\n",
      "      nit: 2\n",
      "     njev: 5\n",
      "   status: 0\n",
      "  success: True\n",
      "        x: array([1.86301461, 5.52724859])\n",
      "\n",
      "Mean value of y = 15.77382899214074\n"
     ]
    }
   ],
   "source": [
    "def sfunc(mn_coeffs, ys, xs):\n",
    "    st = 0\n",
    "    m, n = mn_coeffs\n",
    "    \n",
    "    for i in range(len(ys)):\n",
    "        si = (ys[i] - (m*xs[i] + n))**2\n",
    "        st += si\n",
    "        \n",
    "    return st\n",
    "\n",
    "\n",
    "print(minimize(sfunc, [2, 5], args=(dataset1y, dataset1x)))\n",
    "\n",
    "# let's also calculate the mean while we are at it:\n",
    "ym = dataset1y.mean()\n",
    "print(f\"\\nMean value of y = {ym}\")"
   ]
  },
  {
   "cell_type": "markdown",
   "metadata": {},
   "source": [
    "Now let's put all our values into one dataframe and graph them to see how we did:"
   ]
  },
  {
   "cell_type": "code",
   "execution_count": 23,
   "metadata": {},
   "outputs": [
    {
     "data": {
      "text/html": [
       "<div>\n",
       "<style scoped>\n",
       "    .dataframe tbody tr th:only-of-type {\n",
       "        vertical-align: middle;\n",
       "    }\n",
       "\n",
       "    .dataframe tbody tr th {\n",
       "        vertical-align: top;\n",
       "    }\n",
       "\n",
       "    .dataframe thead th {\n",
       "        text-align: right;\n",
       "    }\n",
       "</style>\n",
       "<table border=\"1\" class=\"dataframe\">\n",
       "  <thead>\n",
       "    <tr style=\"text-align: right;\">\n",
       "      <th></th>\n",
       "      <th>y values</th>\n",
       "      <th>line fit</th>\n",
       "      <th>mean</th>\n",
       "    </tr>\n",
       "  </thead>\n",
       "  <tbody>\n",
       "    <tr>\n",
       "      <th>1</th>\n",
       "      <td>6.680900</td>\n",
       "      <td>7.390263</td>\n",
       "      <td>2.867969</td>\n",
       "    </tr>\n",
       "    <tr>\n",
       "      <th>2</th>\n",
       "      <td>7.815022</td>\n",
       "      <td>9.253278</td>\n",
       "      <td>5.735938</td>\n",
       "    </tr>\n",
       "    <tr>\n",
       "      <th>3</th>\n",
       "      <td>12.578287</td>\n",
       "      <td>11.116292</td>\n",
       "      <td>8.603907</td>\n",
       "    </tr>\n",
       "    <tr>\n",
       "      <th>4</th>\n",
       "      <td>13.904311</td>\n",
       "      <td>12.979307</td>\n",
       "      <td>11.471876</td>\n",
       "    </tr>\n",
       "    <tr>\n",
       "      <th>5</th>\n",
       "      <td>16.206939</td>\n",
       "      <td>14.842322</td>\n",
       "      <td>14.339845</td>\n",
       "    </tr>\n",
       "    <tr>\n",
       "      <th>6</th>\n",
       "      <td>16.026006</td>\n",
       "      <td>16.705336</td>\n",
       "      <td>17.207813</td>\n",
       "    </tr>\n",
       "    <tr>\n",
       "      <th>7</th>\n",
       "      <td>16.943808</td>\n",
       "      <td>18.568351</td>\n",
       "      <td>20.075782</td>\n",
       "    </tr>\n",
       "    <tr>\n",
       "      <th>8</th>\n",
       "      <td>22.253406</td>\n",
       "      <td>20.431365</td>\n",
       "      <td>22.943751</td>\n",
       "    </tr>\n",
       "    <tr>\n",
       "      <th>9</th>\n",
       "      <td>21.524492</td>\n",
       "      <td>22.294380</td>\n",
       "      <td>25.811720</td>\n",
       "    </tr>\n",
       "    <tr>\n",
       "      <th>10</th>\n",
       "      <td>23.805119</td>\n",
       "      <td>24.157395</td>\n",
       "      <td>28.679689</td>\n",
       "    </tr>\n",
       "  </tbody>\n",
       "</table>\n",
       "</div>"
      ],
      "text/plain": [
       "     y values   line fit       mean\n",
       "1    6.680900   7.390263   2.867969\n",
       "2    7.815022   9.253278   5.735938\n",
       "3   12.578287  11.116292   8.603907\n",
       "4   13.904311  12.979307  11.471876\n",
       "5   16.206939  14.842322  14.339845\n",
       "6   16.026006  16.705336  17.207813\n",
       "7   16.943808  18.568351  20.075782\n",
       "8   22.253406  20.431365  22.943751\n",
       "9   21.524492  22.294380  25.811720\n",
       "10  23.805119  24.157395  28.679689"
      ]
     },
     "execution_count": 23,
     "metadata": {},
     "output_type": "execute_result"
    }
   ],
   "source": [
    "x_values = np.array(range(1,11))  # x values ranging from 1 to 10\n",
    "linefity = x_values * 1.86301461 + 5.52724859  # the values we have obtained from minimize\n",
    "# Note: We weren't able to directly call these values from the result, so we copy-pasted.\n",
    "# we did set the random seed however, so it shouldn't cause problems when re-run.\n",
    "\n",
    "linefit_series = pd.Series(linefity)\n",
    "xm = np.mean(x_values)\n",
    "ym_series = pd.Series((ym/xm)*x_values)  # THIS IS THE CORRECTED VERSION!!\n",
    "\n",
    "df = pd.concat([series, linefit_series, ym_series], axis=1)  # all together now!\n",
    "df.rename(columns={0:\"y values\", 1:\"line fit\", 2:\"mean\"}, inplace=True)\n",
    "df = df.set_index(x_values)\n",
    "df"
   ]
  },
  {
   "cell_type": "code",
   "execution_count": 24,
   "metadata": {},
   "outputs": [
    {
     "data": {
      "text/plain": [
       "<seaborn.axisgrid.FacetGrid at 0x7fd20783d910>"
      ]
     },
     "execution_count": 24,
     "metadata": {},
     "output_type": "execute_result"
    },
    {
     "data": {
      "image/png": "[encoded data removed]",
      "text/plain": [
       "<Figure size 445.475x360 with 1 Axes>"
      ]
     },
     "metadata": {},
     "output_type": "display_data"
    }
   ],
   "source": [
    "sns.relplot(data=df, kind=\"line\", marker=\"o\")"
   ]
  },
  {
   "cell_type": "code",
   "execution_count": 7,
   "metadata": {},
   "outputs": [
    {
     "name": "stdout",
     "output_type": "stream",
     "text": [
      "Total error for the mean: 1000.0\n",
      "Total error for the minimize line fit: 11.147312076405264\n"
     ]
    }
   ],
   "source": [
    "def error_func(y_org, y_fit):\n",
    "    err = 0\n",
    "    \n",
    "    for i in range(len(y_org)):\n",
    "        err += np.sqrt((y_org[i] - y_fit[i])**2)\n",
    "    \n",
    "    return err\n",
    "\n",
    "mean_error = error_func(df[\"y values\"].values, df[\"mean\"].values)\n",
    "line_fit_error = error_func(df[\"y values\"].values, df[\"line fit\"].values)\n",
    "\n",
    "print(f\"Total error for the mean: {mean_error}\")\n",
    "print(f\"Total error for the minimize line fit: {line_fit_error}\")"
   ]
  },
  {
   "cell_type": "markdown",
   "metadata": {},
   "source": [
    "A significant difference, that would get more and more significant for higher slope values."
   ]
  },
  {
   "cell_type": "markdown",
   "metadata": {},
   "source": [
    "-----------------------------------"
   ]
  },
  {
   "cell_type": "markdown",
   "metadata": {},
   "source": [
    "# Questions 2 & 3:"
   ]
  },
  {
   "cell_type": "markdown",
   "metadata": {},
   "source": [
    "Defining the error values between our desired line and the values at hand as $s_i$:"
   ]
  },
  {
   "cell_type": "markdown",
   "metadata": {},
   "source": [
    "$$\n",
    "s_i = [y_i - (mx_i + n)]^2\n",
    "$$\n",
    "\n",
    "$$\\\\\n",
    "s_i = y_i^2 - 2y_imx_i - 2yn + m^2\\,x_i^2 + 2mx_i\\,n +n^2 \n",
    "$$"
   ]
  },
  {
   "cell_type": "markdown",
   "metadata": {},
   "source": [
    "To minimize this error, we have to minimize the $s_i$ values for all points of $(x_i,y_i)$ for both m and n. To do this we can sum them all up and set their partial derivatives with respect to m and n equal to zero to find their respective stationary points. Since there are no limits to how far the line can get from any certain point $y_i$, the stationary points we find will be the minimum values we are looking for.\n",
    "\n"
   ]
  },
  {
   "cell_type": "markdown",
   "metadata": {},
   "source": [
    "$$\n",
    "\\sum_{i=1}^N \\,\\frac{\\partial s_i}{\\partial m} = 0\n",
    "$$\n",
    "\n",
    "$$\\\\\n",
    "\\sum_{i=1}^N \\,\\frac{\\partial s_i}{\\partial n} =0\n",
    "$$\n",
    "\n",
    "$$\\\\\n",
    "\\left(\\sum_{i=1}^N 2x_i^2 \\right)\\,m + \\left(\\sum_{i=1}^N 2x_i \\right) n = \\left(\\sum_{i=1}^N 2x_i\\,y_i \\right)\n",
    "$$\n",
    "\n",
    "$$\\\\\n",
    "\\left(\\sum_{i=1}^N 2x_i \\right)\\,m + \\left(\\sum_{i=1}^N 2 \\right) n = \\left(\\sum_{i=1}^N 2y_i \\right)\n",
    "$$\n"
   ]
  },
  {
   "cell_type": "markdown",
   "metadata": {},
   "source": [
    "Since the sums in the equations are finite and constant values, we can rewrite these as a set of two equations:\n",
    "\n",
    "$$\n",
    "A_{11}m+A_{12}n=B_{11}\\\\\n",
    "A_{12}m+A_{22}n=B_{12}\n",
    "$$\n",
    " \n",
    "\n",
    "And from here all that is left to do is solve for m and n (or ask the linalg module to do it for us 8)."
   ]
  },
  {
   "cell_type": "code",
   "execution_count": 8,
   "metadata": {},
   "outputs": [
    {
     "name": "stdout",
     "output_type": "stream",
     "text": [
      "Value of a0, aka. m: 2.0308999999999986 \n",
      "Value of a1, aka. n: 2.8901600000000043\n"
     ]
    }
   ],
   "source": [
    "dataset2 = np.array([[1,2,3,4,5], [4.9142, 7.1201, 8.8456, 10.8113, 13.2231]])\n",
    "x = dataset2[0]\n",
    "y = dataset2[1]\n",
    "A11 = A12 = A22 = B11 = B12 = 0\n",
    "for i in range(0, dataset2.shape[1]):\n",
    "    A11 += 2*x[i]**2\n",
    "    A12 += 2*x[i]\n",
    "    A22 += 2\n",
    "    B11 += 2*x[i]*y[i]\n",
    "    B12 += 2*y[i]\n",
    "    \n",
    "# defining our equation set in matrices:\n",
    "\n",
    "coeff = np.array([[A11, A12],[A12, A22]])\n",
    "res = np.array([B11, B12])\n",
    "a0 = np.linalg.solve(coeff, res)[0]\n",
    "a1 = np.linalg.solve(coeff, res)[1]\n",
    "\n",
    "print(f\"Value of a0, aka. m: {a0} \\nValue of a1, aka. n: {a1}\")"
   ]
  },
  {
   "cell_type": "code",
   "execution_count": 9,
   "metadata": {
    "scrolled": false
   },
   "outputs": [
    {
     "name": "stdout",
     "output_type": "stream",
     "text": [
      "      fun: 0.11998931200000938\n",
      " hess_inv: array([[ 0.05, -0.15],\n",
      "       [-0.15,  0.55]])\n",
      "      jac: array([6.51925802e-09, 2.79396772e-09])\n",
      "  message: 'Optimization terminated successfully.'\n",
      "     nfev: 15\n",
      "      nit: 3\n",
      "     njev: 5\n",
      "   status: 0\n",
      "  success: True\n",
      "        x: array([2.03089997, 2.89016008]) \n",
      "\n",
      "\n",
      "Using the minimize function:\n",
      "\n",
      "Value of a0, aka. m: 2.03089997\n",
      "Value of a1, aka. n: 2.89016008\n"
     ]
    }
   ],
   "source": [
    "from scipy.optimize import minimize\n",
    "\n",
    "dataset2 = np.array([[1,2,3,4,5], [4.9142, 7.1201, 8.8456, 10.8113, 13.2231]])\n",
    "x = dataset2[0]\n",
    "y = dataset2[1]\n",
    "\n",
    "\n",
    "def sfunc(mn_coeffs, ys, xs):\n",
    "    st = 0\n",
    "    m, n = mn_coeffs\n",
    "    \n",
    "    for i in range(len(y)):\n",
    "        yi = m*xs[i] + n\n",
    "        si = (ys[i] - yi)**2\n",
    "        st += si\n",
    "        \n",
    "    return st\n",
    "\n",
    "\n",
    "print(minimize(sfunc, [2, 2], args=(y, x)),'\\n\\n')\n",
    "print(\"Using the minimize function:\\n\")\n",
    "print(f\"Value of a0, aka. m: {2.03089997}\\nValue of a1, aka. n: {2.89016008}\")"
   ]
  },
  {
   "cell_type": "markdown",
   "metadata": {},
   "source": [
    "We can see small differences of accuracy between the two different sets of values we have found, but for practical purposes they are the same for this dataset."
   ]
  },
  {
   "cell_type": "markdown",
   "metadata": {},
   "source": [
    "# Question 4:"
   ]
  },
  {
   "cell_type": "markdown",
   "metadata": {},
   "source": [
    "For a linear dataset like we have used, there doesn't seem to be much of a difference. In fact we could argue that the least squares method is easier to use, and yields results with more precission without having to do extra computing, and all we really needed to do was add a bunch of known numbers in a loop and solve two equations for them. With the minimizer method more and more computation is required as higher precission is required. "
   ]
  },
  {
   "cell_type": "markdown",
   "metadata": {},
   "source": [
    "For different kinds of datasets it is a different story however. For example, for a second degree polinomial dataset the best fitting curve will have the form $Ax^2 + Bx + C$, using the minimizer method all we need to do is change our function from $mx+n$ to a such polinomial function and try optimizing that for all the data. With the least squares method however, we need to do more math, and we $\\textit{definitely}$ don't want to do math in a numerical analysis course."
   ]
  },
  {
   "cell_type": "markdown",
   "metadata": {},
   "source": [
    "### Here's a polinomial fit:"
   ]
  },
  {
   "cell_type": "markdown",
   "metadata": {},
   "source": [
    "Let's give it a try, with a function $y = 2x^2 + 3x +5 $"
   ]
  },
  {
   "cell_type": "code",
   "execution_count": 10,
   "metadata": {},
   "outputs": [],
   "source": [
    "x_values = np.array(range(1,11))\n",
    "poly_data = 3*(x_values**2) + 3 * x_values + 5\n",
    "poly_data = np.array(poly_data, dtype=float)\n",
    "np.random.seed(353)\n",
    "\n",
    "for i in range(len(poly_data)):\n",
    "    error = np.random.rand()*10 - 5  # let's go for a larger error, as the values are larger now\n",
    "    poly_data[i] += error\n",
    "\n",
    "poly_df1 = pd.DataFrame(poly_data).set_index(x_values)\n",
    "poly_df1 = poly_df1.rename(columns={0:\"y values\"})"
   ]
  },
  {
   "cell_type": "code",
   "execution_count": 11,
   "metadata": {},
   "outputs": [
    {
     "data": {
      "text/plain": [
       "<seaborn.axisgrid.FacetGrid at 0x7fd207ae5dc0>"
      ]
     },
     "execution_count": 11,
     "metadata": {},
     "output_type": "execute_result"
    },
    {
     "data": {
      "image/png": "[encoded data removed]",
      "text/plain": [
       "<Figure size 445.475x360 with 1 Axes>"
      ]
     },
     "metadata": {},
     "output_type": "display_data"
    }
   ],
   "source": [
    "sns.relplot(data=poly_df1, kind=\"line\", marker=\"o\")"
   ]
  },
  {
   "cell_type": "code",
   "execution_count": 12,
   "metadata": {},
   "outputs": [
    {
     "name": "stdout",
     "output_type": "stream",
     "text": [
      "      fun: 51.69772371983757\n",
      " hess_inv: array([[ 0.00094697, -0.01041667,  0.02083334],\n",
      "       [-0.01041667,  0.12064396, -0.26250005],\n",
      "       [ 0.02083334, -0.26250005,  0.69166677]])\n",
      "      jac: array([0.00000000e+00, 4.76837158e-07, 0.00000000e+00])\n",
      "  message: 'Optimization terminated successfully.'\n",
      "     nfev: 28\n",
      "      nit: 4\n",
      "     njev: 7\n",
      "   status: 0\n",
      "  success: True\n",
      "        x: array([2.88853997, 3.95208952, 3.60237687])\n"
     ]
    }
   ],
   "source": [
    "def poly_fit(coeffs, y, x):\n",
    "    A, B, C = coeffs\n",
    "    total_err = 0\n",
    "    \n",
    "    for i in range(len(y)):\n",
    "        err_i = (y[i] - (A*x[i]**2 + B*x[i] + C))**2\n",
    "        total_err += err_i\n",
    "        \n",
    "    return total_err\n",
    "\n",
    "print(minimize(poly_fit, [3, 3, 5], args=(poly_df1[\"y values\"].values, x_values)))\n",
    "    "
   ]
  },
  {
   "cell_type": "code",
   "execution_count": 13,
   "metadata": {},
   "outputs": [],
   "source": [
    "polyfit_data = 2.88853997*(x_values**2) + 3.95208952 * x_values + 3.60237687\n",
    "polyfit_df = pd.DataFrame(polyfit_data).set_index(x_values)\n",
    "poly_df = pd.concat([poly_df1, polyfit_df], axis=1)\n",
    "poly_df.rename(columns={0:\"curve fit\"}, inplace=True)\n"
   ]
  },
  {
   "cell_type": "code",
   "execution_count": 14,
   "metadata": {},
   "outputs": [
    {
     "data": {
      "text/plain": [
       "<seaborn.axisgrid.FacetGrid at 0x7fd207a8d730>"
      ]
     },
     "execution_count": 14,
     "metadata": {},
     "output_type": "execute_result"
    },
    {
     "data": {
      "image/png": "[encoded data removed]",
      "text/plain": [
       "<Figure size 360x360 with 1 Axes>"
      ]
     },
     "metadata": {},
     "output_type": "display_data"
    },
    {
     "data": {
      "image/png": "[encoded data removed]",
      "text/plain": [
       "<Figure size 445.6x360 with 1 Axes>"
      ]
     },
     "metadata": {},
     "output_type": "display_data"
    }
   ],
   "source": [
    "sns.relplot(data=poly_df[\"y values\"], kind=\"line\", marker=\"o\")\n",
    "sns.relplot(data=poly_df, kind=\"line\", marker=\"o\")"
   ]
  },
  {
   "cell_type": "markdown",
   "metadata": {},
   "source": [
    "There we go, with little to no extra work, we were able to adapt the minimizer function to work perfectly with a polinomial. All we need to do to add another degree to the function is rewrite the equation in the error function and add another coefficient."
   ]
  },
  {
   "cell_type": "markdown",
   "metadata": {},
   "source": [
    "Let's compare the workload to the least squares method:"
   ]
  },
  {
   "cell_type": "markdown",
   "metadata": {},
   "source": [
    "$$ S_i = \\left[ y_i - \\left( Ax_i^2 + Bx_i + C\\right)\\right]^2 $$\n",
    "<br>\n",
    "$$ S_i = y_i^2 -2y_i\\left(Ax_i^2 + Bx_i + C\\right) + \\left( Ax_i^2 + Bx_i + C\\right)^2$$"
   ]
  },
  {
   "cell_type": "markdown",
   "metadata": {},
   "source": [
    "Aaand yada yada, by differentiating with respect to A, B and C and setting the derivatives to zero we are able to minimize them, and in return we get three distinc equations with three unknowns:"
   ]
  },
  {
   "cell_type": "markdown",
   "metadata": {},
   "source": [
    "$$\\left(\\sum_i^n1\\right)C + \\left(\\sum_i^n x_i\\right)B + \\left(\\sum_i^n x_i^2\\right)A = \\left(\\sum_i^n y_i\\right)$$\n",
    "\n",
    "$$\\left(\\sum_i^n x_i\\right)C + \\left(\\sum_i^n x_i^2\\right)B + \\left(\\sum_i^n x_i^3\\right)A = \\left(\\sum_i^n x_iy_i\\right)$$\n",
    "\n",
    "$$\\left(\\sum_i^n x_i^2\\right)C + \\left(\\sum_i^n x_i^3\\right)B + \\left(\\sum_i^n x_i^4\\right)A = \\left(\\sum_i^n x_i^2y_i\\right)$$"
   ]
  },
  {
   "cell_type": "markdown",
   "metadata": {},
   "source": [
    "$$ a_{11}C + a_{12}B + a_{13}A = b_{1} $$\n",
    "$$ a_{21}C + a_{22}B + a_{23}A = b_2 $$\n",
    "$$ a_{31}C + a_{32}B + a_{33}A = b_3 $$"
   ]
  },
  {
   "cell_type": "code",
   "execution_count": 15,
   "metadata": {},
   "outputs": [
    {
     "name": "stdout",
     "output_type": "stream",
     "text": [
      "Coefficients from least squares:\n",
      "\n",
      "A = 2.8885402694443623,\n",
      "B = 3.9520862418645732,\n",
      "C = 3.6023832804183376.\n",
      "\n",
      "\n",
      "Coefficients from minimizer:\n",
      "\n",
      "A = 2.88853997,\n",
      "B = 3.95208952,\n",
      "C = 3.60237687.\n"
     ]
    }
   ],
   "source": [
    "a11 = a12 = a13 = b1 = a21 = a22 = a23 = b2 = a31 = a32= a33 = b3 = 0\n",
    "ys = poly_df[\"y values\"].values\n",
    "xs = poly_df.index.values\n",
    "\n",
    "for i in range(len(ys)):\n",
    "    a11 += 1\n",
    "    a12 += xs[i]\n",
    "    a13 += xs[i]**2\n",
    "    b1 += ys[i]\n",
    "    a21 += xs[i]\n",
    "    a22 += xs[i]**2\n",
    "    a23 += xs[i]**3\n",
    "    b2 += xs[i]*ys[i]\n",
    "    a31 += xs[i]**2\n",
    "    a32 += xs[i]**3\n",
    "    a33 += xs[i]**4\n",
    "    b3 += xs[i]**2 * ys[i]\n",
    "\n",
    "# now for the matrices:\n",
    "\n",
    "coeffs = np.array([[a11, a12, a13], [a21, a22, a23], [a31, a32, a33]])\n",
    "results = np.array([b1, b2, b3])\n",
    "coeffs\n",
    "A = np.linalg.solve(coeffs, results)[2]\n",
    "B = np.linalg.solve(coeffs, results)[1]\n",
    "C = np.linalg.solve(coeffs, results)[0]\n",
    "\n",
    "ls_values = A*xs**2 + B*xs + C\n",
    "ls_poly_fit = pd.DataFrame(ls_values).set_index(xs)\n",
    "\n",
    "print(f\"Coefficients from least squares:\\n\\nA = {A},\\nB = {B},\\nC = {C}.\")\n",
    "print(f\"\\n\\nCoefficients from minimizer:\\n\\nA = {2.88853997},\\nB = {3.95208952},\\nC = {3.60237687}.\")"
   ]
  },
  {
   "cell_type": "code",
   "execution_count": 16,
   "metadata": {},
   "outputs": [
    {
     "data": {
      "text/html": [
       "<div>\n",
       "<style scoped>\n",
       "    .dataframe tbody tr th:only-of-type {\n",
       "        vertical-align: middle;\n",
       "    }\n",
       "\n",
       "    .dataframe tbody tr th {\n",
       "        vertical-align: top;\n",
       "    }\n",
       "\n",
       "    .dataframe thead th {\n",
       "        text-align: right;\n",
       "    }\n",
       "</style>\n",
       "<table border=\"1\" class=\"dataframe\">\n",
       "  <thead>\n",
       "    <tr style=\"text-align: right;\">\n",
       "      <th></th>\n",
       "      <th>y values</th>\n",
       "      <th>curve fit</th>\n",
       "      <th>least squares</th>\n",
       "    </tr>\n",
       "  </thead>\n",
       "  <tbody>\n",
       "    <tr>\n",
       "      <th>1</th>\n",
       "      <td>10.361800</td>\n",
       "      <td>10.443006</td>\n",
       "      <td>10.443010</td>\n",
       "    </tr>\n",
       "    <tr>\n",
       "      <th>2</th>\n",
       "      <td>20.630045</td>\n",
       "      <td>23.060716</td>\n",
       "      <td>23.060717</td>\n",
       "    </tr>\n",
       "    <tr>\n",
       "      <th>3</th>\n",
       "      <td>44.156575</td>\n",
       "      <td>41.455505</td>\n",
       "      <td>41.455504</td>\n",
       "    </tr>\n",
       "    <tr>\n",
       "      <th>4</th>\n",
       "      <td>66.808622</td>\n",
       "      <td>65.627374</td>\n",
       "      <td>65.627373</td>\n",
       "    </tr>\n",
       "    <tr>\n",
       "      <th>5</th>\n",
       "      <td>97.413877</td>\n",
       "      <td>95.576324</td>\n",
       "      <td>95.576321</td>\n",
       "    </tr>\n",
       "    <tr>\n",
       "      <th>6</th>\n",
       "      <td>129.052012</td>\n",
       "      <td>131.302353</td>\n",
       "      <td>131.302350</td>\n",
       "    </tr>\n",
       "    <tr>\n",
       "      <th>7</th>\n",
       "      <td>168.887615</td>\n",
       "      <td>172.805462</td>\n",
       "      <td>172.805460</td>\n",
       "    </tr>\n",
       "    <tr>\n",
       "      <th>8</th>\n",
       "      <td>223.506812</td>\n",
       "      <td>220.085651</td>\n",
       "      <td>220.085650</td>\n",
       "    </tr>\n",
       "    <tr>\n",
       "      <th>9</th>\n",
       "      <td>272.048985</td>\n",
       "      <td>273.142920</td>\n",
       "      <td>273.142921</td>\n",
       "    </tr>\n",
       "    <tr>\n",
       "      <th>10</th>\n",
       "      <td>332.610237</td>\n",
       "      <td>331.977269</td>\n",
       "      <td>331.977273</td>\n",
       "    </tr>\n",
       "  </tbody>\n",
       "</table>\n",
       "</div>"
      ],
      "text/plain": [
       "      y values   curve fit  least squares\n",
       "1    10.361800   10.443006      10.443010\n",
       "2    20.630045   23.060716      23.060717\n",
       "3    44.156575   41.455505      41.455504\n",
       "4    66.808622   65.627374      65.627373\n",
       "5    97.413877   95.576324      95.576321\n",
       "6   129.052012  131.302353     131.302350\n",
       "7   168.887615  172.805462     172.805460\n",
       "8   223.506812  220.085651     220.085650\n",
       "9   272.048985  273.142920     273.142921\n",
       "10  332.610237  331.977269     331.977273"
      ]
     },
     "execution_count": 16,
     "metadata": {},
     "output_type": "execute_result"
    }
   ],
   "source": [
    "poly_df_new = pd.concat([poly_df, ls_poly_fit], axis=1)\n",
    "poly_df_new.rename(columns={0:\"least squares\"}, inplace=True)\n",
    "poly_df_new"
   ]
  },
  {
   "cell_type": "code",
   "execution_count": 17,
   "metadata": {},
   "outputs": [
    {
     "data": {
      "text/plain": [
       "<seaborn.axisgrid.FacetGrid at 0x7fd207a0cc10>"
      ]
     },
     "execution_count": 17,
     "metadata": {},
     "output_type": "execute_result"
    },
    {
     "data": {
      "image/png": "[encoded data removed]",
      "text/plain": [
       "<Figure size 473.35x360 with 1 Axes>"
      ]
     },
     "metadata": {},
     "output_type": "display_data"
    }
   ],
   "source": [
    "sns.relplot(data=poly_df_new, kind=\"line\", marker=\"o\")"
   ]
  },
  {
   "cell_type": "markdown",
   "metadata": {},
   "source": [
    "We can hardly even tell them appart from the values and the graph, so looks like they still achieve the same results after all. However in the least squares method, for each degree of x added to the function, we get an extra equation to solve, and a bunch of binomial expansion/differentiation. <br> <br>(Not to mention, this may be the most code I've written to prove a point. :)\n",
    "<br> <br>\n",
    "Of course, we don't have to derive the formulae for the least squares method every time, there is a general equation for it, but we always have to write so much more code just to compute the sums required. The minimize method was significantly more manageable and took significantly less time to write out. <br> <br>So just for it's effects on our happiness and mental well-being, the minimize method seems to be the winner!"
   ]
  },
  {
   "cell_type": "markdown",
   "metadata": {},
   "source": [
    "# References:\n"
   ]
  },
  {
   "cell_type": "markdown",
   "metadata": {},
   "source": [
    "Chapra - Numerical Methods for Engineers - $7_{th}$ Edition:<br>\n",
    "    Chapter 17.1 on Linear Regression<br>\n",
    "    Chapter 17.2 on Polinomial Regression<br>\n",
    "<br>\n",
    "Some links:\n",
    "<br>  \n",
    "https://stackoverflow.com/questions/13670333/multiple-variables-in-scipys-optimize-minimize\n",
    "<br>https://towardsdatascience.com/linear-regression-using-gradient-descent-97a6c8700931\n",
    "<br>https://towardsdatascience.com/linear-regression-using-least-squares-a4c3456e8570\n"
   ]
  }
 ],
 "metadata": {
  "kernelspec": {
   "display_name": "Python 3",
   "language": "python",
   "name": "python3"
  },
  "language_info": {
   "codemirror_mode": {
    "name": "ipython",
    "version": 3
   },
   "file_extension": ".py",
   "mimetype": "text/x-python",
   "name": "python",
   "nbconvert_exporter": "python",
   "pygments_lexer": "ipython3",
   "version": "3.8.3"
  }
 },
 "nbformat": 4,
 "nbformat_minor": 4
}
